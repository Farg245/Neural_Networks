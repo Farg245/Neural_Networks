{
  "nbformat": 4,
  "nbformat_minor": 0,
  "metadata": {
    "kernelspec": {
      "language": "python",
      "display_name": "Python 3",
      "name": "python3"
    },
    "language_info": {
      "name": "python",
      "version": "3.7.10",
      "mimetype": "text/x-python",
      "codemirror_mode": {
        "name": "ipython",
        "version": 3
      },
      "pygments_lexer": "ipython3",
      "nbconvert_exporter": "python",
      "file_extension": ".py"
    },
    "colab": {
      "name": "CompanyBanckrupcy.ipynb",
      "provenance": [],
      "collapsed_sections": [],
      "toc_visible": true
    }
  },
  "cells": [
    {
      "cell_type": "markdown",
      "metadata": {
        "id": "GYyNszjZ_KCO"
      },
      "source": [
        "#imports"
      ]
    },
    {
      "cell_type": "code",
      "metadata": {
        "id": "bq-kSS8I-7_M",
        "colab": {
          "base_uri": "https://localhost:8080/"
        },
        "outputId": "c2c7c745-0d06-4d29-e1f9-3fac7abfeb06"
      },
      "source": [
        "from google.colab import drive\n",
        "drive.mount('/content/drive')"
      ],
      "execution_count": 60,
      "outputs": [
        {
          "output_type": "stream",
          "name": "stdout",
          "text": [
            "Drive already mounted at /content/drive; to attempt to forcibly remount, call drive.mount(\"/content/drive\", force_remount=True).\n"
          ]
        }
      ]
    },
    {
      "cell_type": "code",
      "metadata": {
        "colab": {
          "base_uri": "https://localhost:8080/"
        },
        "id": "wAmbch1-hjSu",
        "outputId": "09acf8e8-1298-4f32-f967-ebccba11d911"
      },
      "source": [
        "!pip install optuna"
      ],
      "execution_count": 61,
      "outputs": [
        {
          "output_type": "stream",
          "name": "stdout",
          "text": [
            "Requirement already satisfied: optuna in /usr/local/lib/python3.7/dist-packages (2.10.0)\n",
            "Requirement already satisfied: PyYAML in /usr/local/lib/python3.7/dist-packages (from optuna) (3.13)\n",
            "Requirement already satisfied: scipy!=1.4.0 in /usr/local/lib/python3.7/dist-packages (from optuna) (1.4.1)\n",
            "Requirement already satisfied: colorlog in /usr/local/lib/python3.7/dist-packages (from optuna) (6.6.0)\n",
            "Requirement already satisfied: numpy in /usr/local/lib/python3.7/dist-packages (from optuna) (1.19.5)\n",
            "Requirement already satisfied: alembic in /usr/local/lib/python3.7/dist-packages (from optuna) (1.7.5)\n",
            "Requirement already satisfied: cliff in /usr/local/lib/python3.7/dist-packages (from optuna) (3.10.0)\n",
            "Requirement already satisfied: tqdm in /usr/local/lib/python3.7/dist-packages (from optuna) (4.62.3)\n",
            "Requirement already satisfied: sqlalchemy>=1.1.0 in /usr/local/lib/python3.7/dist-packages (from optuna) (1.4.27)\n",
            "Requirement already satisfied: packaging>=20.0 in /usr/local/lib/python3.7/dist-packages (from optuna) (21.3)\n",
            "Requirement already satisfied: cmaes>=0.8.2 in /usr/local/lib/python3.7/dist-packages (from optuna) (0.8.2)\n",
            "Requirement already satisfied: pyparsing!=3.0.5,>=2.0.2 in /usr/local/lib/python3.7/dist-packages (from packaging>=20.0->optuna) (3.0.6)\n",
            "Requirement already satisfied: importlib-metadata in /usr/local/lib/python3.7/dist-packages (from sqlalchemy>=1.1.0->optuna) (4.8.2)\n",
            "Requirement already satisfied: greenlet!=0.4.17 in /usr/local/lib/python3.7/dist-packages (from sqlalchemy>=1.1.0->optuna) (1.1.2)\n",
            "Requirement already satisfied: importlib-resources in /usr/local/lib/python3.7/dist-packages (from alembic->optuna) (5.4.0)\n",
            "Requirement already satisfied: Mako in /usr/local/lib/python3.7/dist-packages (from alembic->optuna) (1.1.6)\n",
            "Requirement already satisfied: autopage>=0.4.0 in /usr/local/lib/python3.7/dist-packages (from cliff->optuna) (0.4.0)\n",
            "Requirement already satisfied: PrettyTable>=0.7.2 in /usr/local/lib/python3.7/dist-packages (from cliff->optuna) (2.4.0)\n",
            "Requirement already satisfied: stevedore>=2.0.1 in /usr/local/lib/python3.7/dist-packages (from cliff->optuna) (3.5.0)\n",
            "Requirement already satisfied: pbr!=2.1.0,>=2.0.0 in /usr/local/lib/python3.7/dist-packages (from cliff->optuna) (5.8.0)\n",
            "Requirement already satisfied: cmd2>=1.0.0 in /usr/local/lib/python3.7/dist-packages (from cliff->optuna) (2.3.3)\n",
            "Requirement already satisfied: attrs>=16.3.0 in /usr/local/lib/python3.7/dist-packages (from cmd2>=1.0.0->cliff->optuna) (21.2.0)\n",
            "Requirement already satisfied: wcwidth>=0.1.7 in /usr/local/lib/python3.7/dist-packages (from cmd2>=1.0.0->cliff->optuna) (0.2.5)\n",
            "Requirement already satisfied: pyperclip>=1.6 in /usr/local/lib/python3.7/dist-packages (from cmd2>=1.0.0->cliff->optuna) (1.8.2)\n",
            "Requirement already satisfied: typing-extensions in /usr/local/lib/python3.7/dist-packages (from cmd2>=1.0.0->cliff->optuna) (3.10.0.2)\n",
            "Requirement already satisfied: zipp>=0.5 in /usr/local/lib/python3.7/dist-packages (from importlib-metadata->sqlalchemy>=1.1.0->optuna) (3.6.0)\n",
            "Requirement already satisfied: MarkupSafe>=0.9.2 in /usr/local/lib/python3.7/dist-packages (from Mako->alembic->optuna) (2.0.1)\n"
          ]
        }
      ]
    },
    {
      "cell_type": "code",
      "metadata": {
        "execution": {
          "iopub.status.busy": "2021-11-25T16:30:54.366271Z",
          "iopub.execute_input": "2021-11-25T16:30:54.366522Z",
          "iopub.status.idle": "2021-11-25T16:30:54.548392Z",
          "shell.execute_reply.started": "2021-11-25T16:30:54.366494Z",
          "shell.execute_reply": "2021-11-25T16:30:54.547586Z"
        },
        "trusted": true,
        "id": "NU8w8EQh-Qix"
      },
      "source": [
        "import pandas as pd\n",
        "import numpy as np\n",
        "from sklearn.model_selection import train_test_split\n",
        "from sklearn.neural_network import MLPClassifier\n",
        "from sklearn.metrics import f1_score, accuracy_score, recall_score, balanced_accuracy_score\n",
        "from sklearn.svm import SVC\n",
        "import matplotlib.pyplot as plt\n",
        "from sklearn.pipeline import Pipeline\n",
        "from sklearn.preprocessing import StandardScaler\n",
        "from sklearn.feature_selection import VarianceThreshold\n",
        "from sklearn.base import BaseEstimator\n",
        "from sklearn.base import TransformerMixin\n",
        "import pickle\n",
        "import matplotlib.ticker as ticker\n",
        "import optuna\n",
        "from imblearn.over_sampling import SMOTE\n"
      ],
      "execution_count": 62,
      "outputs": []
    },
    {
      "cell_type": "markdown",
      "metadata": {
        "id": "Kzq6j1gQ2qZV"
      },
      "source": [
        "#Εισαγωγή datasset"
      ]
    },
    {
      "cell_type": "markdown",
      "metadata": {
        "id": "BXeKBryw3xmK"
      },
      "source": [
        "Το dataset αφορά εταιρείες της Ασίας και συγκεκριμένα δεδομένα που αντλήθηκαν από το Taiwan Economic Journal την περίοδο του 1999 με 2009. Το χαρακτηριστικό που θα προσπαθήσουμε να προβλέψουμε είναι το εάν η εταιρεία χρεοκόπησε ή οχι."
      ]
    },
    {
      "cell_type": "code",
      "metadata": {
        "id": "RpSm-4wq_kDm"
      },
      "source": [
        "file_name = 'drive/MyDrive/NEURAL/first/kaggle/bankruptcy.csv'\n",
        "bankruptcy_df = pd.read_csv(file_name)"
      ],
      "execution_count": 63,
      "outputs": []
    },
    {
      "cell_type": "code",
      "metadata": {
        "execution": {
          "iopub.status.busy": "2021-11-25T16:30:54.549838Z",
          "iopub.execute_input": "2021-11-25T16:30:54.550148Z",
          "iopub.status.idle": "2021-11-25T16:30:54.575656Z",
          "shell.execute_reply.started": "2021-11-25T16:30:54.550108Z",
          "shell.execute_reply": "2021-11-25T16:30:54.574796Z"
        },
        "trusted": true,
        "id": "L_i-8SBE-QjE",
        "colab": {
          "base_uri": "https://localhost:8080/",
          "height": 377
        },
        "outputId": "7ac164eb-d6a8-4c21-82c9-2e5aeb7350e1"
      },
      "source": [
        "bankruptcy_df.head()"
      ],
      "execution_count": 64,
      "outputs": [
        {
          "output_type": "execute_result",
          "data": {
            "text/html": [
              "<div>\n",
              "<style scoped>\n",
              "    .dataframe tbody tr th:only-of-type {\n",
              "        vertical-align: middle;\n",
              "    }\n",
              "\n",
              "    .dataframe tbody tr th {\n",
              "        vertical-align: top;\n",
              "    }\n",
              "\n",
              "    .dataframe thead th {\n",
              "        text-align: right;\n",
              "    }\n",
              "</style>\n",
              "<table border=\"1\" class=\"dataframe\">\n",
              "  <thead>\n",
              "    <tr style=\"text-align: right;\">\n",
              "      <th></th>\n",
              "      <th>Bankrupt?</th>\n",
              "      <th>ROA(C) before interest and depreciation before interest</th>\n",
              "      <th>ROA(A) before interest and % after tax</th>\n",
              "      <th>ROA(B) before interest and depreciation after tax</th>\n",
              "      <th>Operating Gross Margin</th>\n",
              "      <th>Realized Sales Gross Margin</th>\n",
              "      <th>Operating Profit Rate</th>\n",
              "      <th>Pre-tax net Interest Rate</th>\n",
              "      <th>After-tax net Interest Rate</th>\n",
              "      <th>Non-industry income and expenditure/revenue</th>\n",
              "      <th>Continuous interest rate (after tax)</th>\n",
              "      <th>Operating Expense Rate</th>\n",
              "      <th>Research and development expense rate</th>\n",
              "      <th>Cash flow rate</th>\n",
              "      <th>Interest-bearing debt interest rate</th>\n",
              "      <th>Tax rate (A)</th>\n",
              "      <th>Net Value Per Share (B)</th>\n",
              "      <th>Net Value Per Share (A)</th>\n",
              "      <th>Net Value Per Share (C)</th>\n",
              "      <th>Persistent EPS in the Last Four Seasons</th>\n",
              "      <th>Cash Flow Per Share</th>\n",
              "      <th>Revenue Per Share (Yuan ¥)</th>\n",
              "      <th>Operating Profit Per Share (Yuan ¥)</th>\n",
              "      <th>Per Share Net profit before tax (Yuan ¥)</th>\n",
              "      <th>Realized Sales Gross Profit Growth Rate</th>\n",
              "      <th>Operating Profit Growth Rate</th>\n",
              "      <th>After-tax Net Profit Growth Rate</th>\n",
              "      <th>Regular Net Profit Growth Rate</th>\n",
              "      <th>Continuous Net Profit Growth Rate</th>\n",
              "      <th>Total Asset Growth Rate</th>\n",
              "      <th>Net Value Growth Rate</th>\n",
              "      <th>Total Asset Return Growth Rate Ratio</th>\n",
              "      <th>Cash Reinvestment %</th>\n",
              "      <th>Current Ratio</th>\n",
              "      <th>Quick Ratio</th>\n",
              "      <th>Interest Expense Ratio</th>\n",
              "      <th>Total debt/Total net worth</th>\n",
              "      <th>Debt ratio %</th>\n",
              "      <th>Net worth/Assets</th>\n",
              "      <th>Long-term fund suitability ratio (A)</th>\n",
              "      <th>...</th>\n",
              "      <th>Current Assets/Total Assets</th>\n",
              "      <th>Cash/Total Assets</th>\n",
              "      <th>Quick Assets/Current Liability</th>\n",
              "      <th>Cash/Current Liability</th>\n",
              "      <th>Current Liability to Assets</th>\n",
              "      <th>Operating Funds to Liability</th>\n",
              "      <th>Inventory/Working Capital</th>\n",
              "      <th>Inventory/Current Liability</th>\n",
              "      <th>Current Liabilities/Liability</th>\n",
              "      <th>Working Capital/Equity</th>\n",
              "      <th>Current Liabilities/Equity</th>\n",
              "      <th>Long-term Liability to Current Assets</th>\n",
              "      <th>Retained Earnings to Total Assets</th>\n",
              "      <th>Total income/Total expense</th>\n",
              "      <th>Total expense/Assets</th>\n",
              "      <th>Current Asset Turnover Rate</th>\n",
              "      <th>Quick Asset Turnover Rate</th>\n",
              "      <th>Working capitcal Turnover Rate</th>\n",
              "      <th>Cash Turnover Rate</th>\n",
              "      <th>Cash Flow to Sales</th>\n",
              "      <th>Fixed Assets to Assets</th>\n",
              "      <th>Current Liability to Liability</th>\n",
              "      <th>Current Liability to Equity</th>\n",
              "      <th>Equity to Long-term Liability</th>\n",
              "      <th>Cash Flow to Total Assets</th>\n",
              "      <th>Cash Flow to Liability</th>\n",
              "      <th>CFO to Assets</th>\n",
              "      <th>Cash Flow to Equity</th>\n",
              "      <th>Current Liability to Current Assets</th>\n",
              "      <th>Liability-Assets Flag</th>\n",
              "      <th>Net Income to Total Assets</th>\n",
              "      <th>Total assets to GNP price</th>\n",
              "      <th>No-credit Interval</th>\n",
              "      <th>Gross Profit to Sales</th>\n",
              "      <th>Net Income to Stockholder's Equity</th>\n",
              "      <th>Liability to Equity</th>\n",
              "      <th>Degree of Financial Leverage (DFL)</th>\n",
              "      <th>Interest Coverage Ratio (Interest expense to EBIT)</th>\n",
              "      <th>Net Income Flag</th>\n",
              "      <th>Equity to Liability</th>\n",
              "    </tr>\n",
              "  </thead>\n",
              "  <tbody>\n",
              "    <tr>\n",
              "      <th>0</th>\n",
              "      <td>1</td>\n",
              "      <td>0.370594</td>\n",
              "      <td>0.424389</td>\n",
              "      <td>0.405750</td>\n",
              "      <td>0.601457</td>\n",
              "      <td>0.601457</td>\n",
              "      <td>0.998969</td>\n",
              "      <td>0.796887</td>\n",
              "      <td>0.808809</td>\n",
              "      <td>0.302646</td>\n",
              "      <td>0.780985</td>\n",
              "      <td>1.256969e-04</td>\n",
              "      <td>0.0</td>\n",
              "      <td>0.458143</td>\n",
              "      <td>0.000725</td>\n",
              "      <td>0.0</td>\n",
              "      <td>0.147950</td>\n",
              "      <td>0.147950</td>\n",
              "      <td>0.147950</td>\n",
              "      <td>0.169141</td>\n",
              "      <td>0.311664</td>\n",
              "      <td>0.017560</td>\n",
              "      <td>0.095921</td>\n",
              "      <td>0.138736</td>\n",
              "      <td>0.022102</td>\n",
              "      <td>0.848195</td>\n",
              "      <td>0.688979</td>\n",
              "      <td>0.688979</td>\n",
              "      <td>0.217535</td>\n",
              "      <td>4.980000e+09</td>\n",
              "      <td>0.000327</td>\n",
              "      <td>0.263100</td>\n",
              "      <td>0.363725</td>\n",
              "      <td>0.002259</td>\n",
              "      <td>0.001208</td>\n",
              "      <td>0.629951</td>\n",
              "      <td>0.021266</td>\n",
              "      <td>0.207576</td>\n",
              "      <td>0.792424</td>\n",
              "      <td>0.005024</td>\n",
              "      <td>...</td>\n",
              "      <td>0.190643</td>\n",
              "      <td>0.004094</td>\n",
              "      <td>0.001997</td>\n",
              "      <td>1.473360e-04</td>\n",
              "      <td>0.147308</td>\n",
              "      <td>0.334015</td>\n",
              "      <td>0.276920</td>\n",
              "      <td>0.001036</td>\n",
              "      <td>0.676269</td>\n",
              "      <td>0.721275</td>\n",
              "      <td>0.339077</td>\n",
              "      <td>0.025592</td>\n",
              "      <td>0.903225</td>\n",
              "      <td>0.002022</td>\n",
              "      <td>0.064856</td>\n",
              "      <td>7.010000e+08</td>\n",
              "      <td>6.550000e+09</td>\n",
              "      <td>0.593831</td>\n",
              "      <td>4.580000e+08</td>\n",
              "      <td>0.671568</td>\n",
              "      <td>0.424206</td>\n",
              "      <td>0.676269</td>\n",
              "      <td>0.339077</td>\n",
              "      <td>0.126549</td>\n",
              "      <td>0.637555</td>\n",
              "      <td>0.458609</td>\n",
              "      <td>0.520382</td>\n",
              "      <td>0.312905</td>\n",
              "      <td>0.118250</td>\n",
              "      <td>0</td>\n",
              "      <td>0.716845</td>\n",
              "      <td>0.009219</td>\n",
              "      <td>0.622879</td>\n",
              "      <td>0.601453</td>\n",
              "      <td>0.827890</td>\n",
              "      <td>0.290202</td>\n",
              "      <td>0.026601</td>\n",
              "      <td>0.564050</td>\n",
              "      <td>1</td>\n",
              "      <td>0.016469</td>\n",
              "    </tr>\n",
              "    <tr>\n",
              "      <th>1</th>\n",
              "      <td>1</td>\n",
              "      <td>0.464291</td>\n",
              "      <td>0.538214</td>\n",
              "      <td>0.516730</td>\n",
              "      <td>0.610235</td>\n",
              "      <td>0.610235</td>\n",
              "      <td>0.998946</td>\n",
              "      <td>0.797380</td>\n",
              "      <td>0.809301</td>\n",
              "      <td>0.303556</td>\n",
              "      <td>0.781506</td>\n",
              "      <td>2.897851e-04</td>\n",
              "      <td>0.0</td>\n",
              "      <td>0.461867</td>\n",
              "      <td>0.000647</td>\n",
              "      <td>0.0</td>\n",
              "      <td>0.182251</td>\n",
              "      <td>0.182251</td>\n",
              "      <td>0.182251</td>\n",
              "      <td>0.208944</td>\n",
              "      <td>0.318137</td>\n",
              "      <td>0.021144</td>\n",
              "      <td>0.093722</td>\n",
              "      <td>0.169918</td>\n",
              "      <td>0.022080</td>\n",
              "      <td>0.848088</td>\n",
              "      <td>0.689693</td>\n",
              "      <td>0.689702</td>\n",
              "      <td>0.217620</td>\n",
              "      <td>6.110000e+09</td>\n",
              "      <td>0.000443</td>\n",
              "      <td>0.264516</td>\n",
              "      <td>0.376709</td>\n",
              "      <td>0.006016</td>\n",
              "      <td>0.004039</td>\n",
              "      <td>0.635172</td>\n",
              "      <td>0.012502</td>\n",
              "      <td>0.171176</td>\n",
              "      <td>0.828824</td>\n",
              "      <td>0.005059</td>\n",
              "      <td>...</td>\n",
              "      <td>0.182419</td>\n",
              "      <td>0.014948</td>\n",
              "      <td>0.004136</td>\n",
              "      <td>1.383910e-03</td>\n",
              "      <td>0.056963</td>\n",
              "      <td>0.341106</td>\n",
              "      <td>0.289642</td>\n",
              "      <td>0.005210</td>\n",
              "      <td>0.308589</td>\n",
              "      <td>0.731975</td>\n",
              "      <td>0.329740</td>\n",
              "      <td>0.023947</td>\n",
              "      <td>0.931065</td>\n",
              "      <td>0.002226</td>\n",
              "      <td>0.025516</td>\n",
              "      <td>1.065198e-04</td>\n",
              "      <td>7.700000e+09</td>\n",
              "      <td>0.593916</td>\n",
              "      <td>2.490000e+09</td>\n",
              "      <td>0.671570</td>\n",
              "      <td>0.468828</td>\n",
              "      <td>0.308589</td>\n",
              "      <td>0.329740</td>\n",
              "      <td>0.120916</td>\n",
              "      <td>0.641100</td>\n",
              "      <td>0.459001</td>\n",
              "      <td>0.567101</td>\n",
              "      <td>0.314163</td>\n",
              "      <td>0.047775</td>\n",
              "      <td>0</td>\n",
              "      <td>0.795297</td>\n",
              "      <td>0.008323</td>\n",
              "      <td>0.623652</td>\n",
              "      <td>0.610237</td>\n",
              "      <td>0.839969</td>\n",
              "      <td>0.283846</td>\n",
              "      <td>0.264577</td>\n",
              "      <td>0.570175</td>\n",
              "      <td>1</td>\n",
              "      <td>0.020794</td>\n",
              "    </tr>\n",
              "    <tr>\n",
              "      <th>2</th>\n",
              "      <td>1</td>\n",
              "      <td>0.426071</td>\n",
              "      <td>0.499019</td>\n",
              "      <td>0.472295</td>\n",
              "      <td>0.601450</td>\n",
              "      <td>0.601364</td>\n",
              "      <td>0.998857</td>\n",
              "      <td>0.796403</td>\n",
              "      <td>0.808388</td>\n",
              "      <td>0.302035</td>\n",
              "      <td>0.780284</td>\n",
              "      <td>2.361297e-04</td>\n",
              "      <td>25500000.0</td>\n",
              "      <td>0.458521</td>\n",
              "      <td>0.000790</td>\n",
              "      <td>0.0</td>\n",
              "      <td>0.177911</td>\n",
              "      <td>0.177911</td>\n",
              "      <td>0.193713</td>\n",
              "      <td>0.180581</td>\n",
              "      <td>0.307102</td>\n",
              "      <td>0.005944</td>\n",
              "      <td>0.092338</td>\n",
              "      <td>0.142803</td>\n",
              "      <td>0.022760</td>\n",
              "      <td>0.848094</td>\n",
              "      <td>0.689463</td>\n",
              "      <td>0.689470</td>\n",
              "      <td>0.217601</td>\n",
              "      <td>7.280000e+09</td>\n",
              "      <td>0.000396</td>\n",
              "      <td>0.264184</td>\n",
              "      <td>0.368913</td>\n",
              "      <td>0.011543</td>\n",
              "      <td>0.005348</td>\n",
              "      <td>0.629631</td>\n",
              "      <td>0.021248</td>\n",
              "      <td>0.207516</td>\n",
              "      <td>0.792484</td>\n",
              "      <td>0.005100</td>\n",
              "      <td>...</td>\n",
              "      <td>0.602806</td>\n",
              "      <td>0.000991</td>\n",
              "      <td>0.006302</td>\n",
              "      <td>5.340000e+09</td>\n",
              "      <td>0.098162</td>\n",
              "      <td>0.336731</td>\n",
              "      <td>0.277456</td>\n",
              "      <td>0.013879</td>\n",
              "      <td>0.446027</td>\n",
              "      <td>0.742729</td>\n",
              "      <td>0.334777</td>\n",
              "      <td>0.003715</td>\n",
              "      <td>0.909903</td>\n",
              "      <td>0.002060</td>\n",
              "      <td>0.021387</td>\n",
              "      <td>1.791094e-03</td>\n",
              "      <td>1.022676e-03</td>\n",
              "      <td>0.594502</td>\n",
              "      <td>7.610000e+08</td>\n",
              "      <td>0.671571</td>\n",
              "      <td>0.276179</td>\n",
              "      <td>0.446027</td>\n",
              "      <td>0.334777</td>\n",
              "      <td>0.117922</td>\n",
              "      <td>0.642765</td>\n",
              "      <td>0.459254</td>\n",
              "      <td>0.538491</td>\n",
              "      <td>0.314515</td>\n",
              "      <td>0.025346</td>\n",
              "      <td>0</td>\n",
              "      <td>0.774670</td>\n",
              "      <td>0.040003</td>\n",
              "      <td>0.623841</td>\n",
              "      <td>0.601449</td>\n",
              "      <td>0.836774</td>\n",
              "      <td>0.290189</td>\n",
              "      <td>0.026555</td>\n",
              "      <td>0.563706</td>\n",
              "      <td>1</td>\n",
              "      <td>0.016474</td>\n",
              "    </tr>\n",
              "    <tr>\n",
              "      <th>3</th>\n",
              "      <td>1</td>\n",
              "      <td>0.399844</td>\n",
              "      <td>0.451265</td>\n",
              "      <td>0.457733</td>\n",
              "      <td>0.583541</td>\n",
              "      <td>0.583541</td>\n",
              "      <td>0.998700</td>\n",
              "      <td>0.796967</td>\n",
              "      <td>0.808966</td>\n",
              "      <td>0.303350</td>\n",
              "      <td>0.781241</td>\n",
              "      <td>1.078888e-04</td>\n",
              "      <td>0.0</td>\n",
              "      <td>0.465705</td>\n",
              "      <td>0.000449</td>\n",
              "      <td>0.0</td>\n",
              "      <td>0.154187</td>\n",
              "      <td>0.154187</td>\n",
              "      <td>0.154187</td>\n",
              "      <td>0.193722</td>\n",
              "      <td>0.321674</td>\n",
              "      <td>0.014368</td>\n",
              "      <td>0.077762</td>\n",
              "      <td>0.148603</td>\n",
              "      <td>0.022046</td>\n",
              "      <td>0.848005</td>\n",
              "      <td>0.689110</td>\n",
              "      <td>0.689110</td>\n",
              "      <td>0.217568</td>\n",
              "      <td>4.880000e+09</td>\n",
              "      <td>0.000382</td>\n",
              "      <td>0.263371</td>\n",
              "      <td>0.384077</td>\n",
              "      <td>0.004194</td>\n",
              "      <td>0.002896</td>\n",
              "      <td>0.630228</td>\n",
              "      <td>0.009572</td>\n",
              "      <td>0.151465</td>\n",
              "      <td>0.848535</td>\n",
              "      <td>0.005047</td>\n",
              "      <td>...</td>\n",
              "      <td>0.225815</td>\n",
              "      <td>0.018851</td>\n",
              "      <td>0.002961</td>\n",
              "      <td>1.010646e-03</td>\n",
              "      <td>0.098715</td>\n",
              "      <td>0.348716</td>\n",
              "      <td>0.276580</td>\n",
              "      <td>0.003540</td>\n",
              "      <td>0.615848</td>\n",
              "      <td>0.729825</td>\n",
              "      <td>0.331509</td>\n",
              "      <td>0.022165</td>\n",
              "      <td>0.906902</td>\n",
              "      <td>0.001831</td>\n",
              "      <td>0.024161</td>\n",
              "      <td>8.140000e+09</td>\n",
              "      <td>6.050000e+09</td>\n",
              "      <td>0.593889</td>\n",
              "      <td>2.030000e+09</td>\n",
              "      <td>0.671519</td>\n",
              "      <td>0.559144</td>\n",
              "      <td>0.615848</td>\n",
              "      <td>0.331509</td>\n",
              "      <td>0.120760</td>\n",
              "      <td>0.579039</td>\n",
              "      <td>0.448518</td>\n",
              "      <td>0.604105</td>\n",
              "      <td>0.302382</td>\n",
              "      <td>0.067250</td>\n",
              "      <td>0</td>\n",
              "      <td>0.739555</td>\n",
              "      <td>0.003252</td>\n",
              "      <td>0.622929</td>\n",
              "      <td>0.583538</td>\n",
              "      <td>0.834697</td>\n",
              "      <td>0.281721</td>\n",
              "      <td>0.026697</td>\n",
              "      <td>0.564663</td>\n",
              "      <td>1</td>\n",
              "      <td>0.023982</td>\n",
              "    </tr>\n",
              "    <tr>\n",
              "      <th>4</th>\n",
              "      <td>1</td>\n",
              "      <td>0.465022</td>\n",
              "      <td>0.538432</td>\n",
              "      <td>0.522298</td>\n",
              "      <td>0.598783</td>\n",
              "      <td>0.598783</td>\n",
              "      <td>0.998973</td>\n",
              "      <td>0.797366</td>\n",
              "      <td>0.809304</td>\n",
              "      <td>0.303475</td>\n",
              "      <td>0.781550</td>\n",
              "      <td>7.890000e+09</td>\n",
              "      <td>0.0</td>\n",
              "      <td>0.462746</td>\n",
              "      <td>0.000686</td>\n",
              "      <td>0.0</td>\n",
              "      <td>0.167502</td>\n",
              "      <td>0.167502</td>\n",
              "      <td>0.167502</td>\n",
              "      <td>0.212537</td>\n",
              "      <td>0.319162</td>\n",
              "      <td>0.029690</td>\n",
              "      <td>0.096898</td>\n",
              "      <td>0.168412</td>\n",
              "      <td>0.022096</td>\n",
              "      <td>0.848258</td>\n",
              "      <td>0.689697</td>\n",
              "      <td>0.689697</td>\n",
              "      <td>0.217626</td>\n",
              "      <td>5.510000e+09</td>\n",
              "      <td>0.000439</td>\n",
              "      <td>0.265218</td>\n",
              "      <td>0.379690</td>\n",
              "      <td>0.006022</td>\n",
              "      <td>0.003727</td>\n",
              "      <td>0.636055</td>\n",
              "      <td>0.005150</td>\n",
              "      <td>0.106509</td>\n",
              "      <td>0.893491</td>\n",
              "      <td>0.005303</td>\n",
              "      <td>...</td>\n",
              "      <td>0.358380</td>\n",
              "      <td>0.014161</td>\n",
              "      <td>0.004275</td>\n",
              "      <td>6.804636e-04</td>\n",
              "      <td>0.110195</td>\n",
              "      <td>0.344639</td>\n",
              "      <td>0.287913</td>\n",
              "      <td>0.004869</td>\n",
              "      <td>0.975007</td>\n",
              "      <td>0.732000</td>\n",
              "      <td>0.330726</td>\n",
              "      <td>0.000000</td>\n",
              "      <td>0.913850</td>\n",
              "      <td>0.002224</td>\n",
              "      <td>0.026385</td>\n",
              "      <td>6.680000e+09</td>\n",
              "      <td>5.050000e+09</td>\n",
              "      <td>0.593915</td>\n",
              "      <td>8.240000e+08</td>\n",
              "      <td>0.671563</td>\n",
              "      <td>0.309555</td>\n",
              "      <td>0.975007</td>\n",
              "      <td>0.330726</td>\n",
              "      <td>0.110933</td>\n",
              "      <td>0.622374</td>\n",
              "      <td>0.454411</td>\n",
              "      <td>0.578469</td>\n",
              "      <td>0.311567</td>\n",
              "      <td>0.047725</td>\n",
              "      <td>0</td>\n",
              "      <td>0.795016</td>\n",
              "      <td>0.003878</td>\n",
              "      <td>0.623521</td>\n",
              "      <td>0.598782</td>\n",
              "      <td>0.839973</td>\n",
              "      <td>0.278514</td>\n",
              "      <td>0.024752</td>\n",
              "      <td>0.575617</td>\n",
              "      <td>1</td>\n",
              "      <td>0.035490</td>\n",
              "    </tr>\n",
              "  </tbody>\n",
              "</table>\n",
              "<p>5 rows × 96 columns</p>\n",
              "</div>"
            ],
            "text/plain": [
              "   Bankrupt?  ...   Equity to Liability\n",
              "0          1  ...              0.016469\n",
              "1          1  ...              0.020794\n",
              "2          1  ...              0.016474\n",
              "3          1  ...              0.023982\n",
              "4          1  ...              0.035490\n",
              "\n",
              "[5 rows x 96 columns]"
            ]
          },
          "metadata": {},
          "execution_count": 64
        }
      ]
    },
    {
      "cell_type": "markdown",
      "metadata": {
        "id": "tewKeg9vR1ms"
      },
      "source": [
        "Είδαμε στο dataset ότι το  Net Income Flag έχει σταθερή τιμή 1, οπότε το κάνουμε drop"
      ]
    },
    {
      "cell_type": "code",
      "metadata": {
        "colab": {
          "base_uri": "https://localhost:8080/"
        },
        "id": "oQaqfmEsQMtC",
        "outputId": "3d9715fc-f48d-4f8f-f424-2c1ad01199d5"
      },
      "source": [
        "bankruptcy_df[' Net Income Flag'].value_counts()"
      ],
      "execution_count": 65,
      "outputs": [
        {
          "output_type": "execute_result",
          "data": {
            "text/plain": [
              "1    6819\n",
              "Name:  Net Income Flag, dtype: int64"
            ]
          },
          "metadata": {},
          "execution_count": 65
        }
      ]
    },
    {
      "cell_type": "code",
      "metadata": {
        "colab": {
          "base_uri": "https://localhost:8080/",
          "height": 565
        },
        "id": "78uYeAbDRrdu",
        "outputId": "7fe6a792-60c6-4e46-ff7a-0391fd8b397a"
      },
      "source": [
        "bankruptcy_df.drop([' Net Income Flag'], axis=1)"
      ],
      "execution_count": 66,
      "outputs": [
        {
          "output_type": "execute_result",
          "data": {
            "text/html": [
              "<div>\n",
              "<style scoped>\n",
              "    .dataframe tbody tr th:only-of-type {\n",
              "        vertical-align: middle;\n",
              "    }\n",
              "\n",
              "    .dataframe tbody tr th {\n",
              "        vertical-align: top;\n",
              "    }\n",
              "\n",
              "    .dataframe thead th {\n",
              "        text-align: right;\n",
              "    }\n",
              "</style>\n",
              "<table border=\"1\" class=\"dataframe\">\n",
              "  <thead>\n",
              "    <tr style=\"text-align: right;\">\n",
              "      <th></th>\n",
              "      <th>Bankrupt?</th>\n",
              "      <th>ROA(C) before interest and depreciation before interest</th>\n",
              "      <th>ROA(A) before interest and % after tax</th>\n",
              "      <th>ROA(B) before interest and depreciation after tax</th>\n",
              "      <th>Operating Gross Margin</th>\n",
              "      <th>Realized Sales Gross Margin</th>\n",
              "      <th>Operating Profit Rate</th>\n",
              "      <th>Pre-tax net Interest Rate</th>\n",
              "      <th>After-tax net Interest Rate</th>\n",
              "      <th>Non-industry income and expenditure/revenue</th>\n",
              "      <th>Continuous interest rate (after tax)</th>\n",
              "      <th>Operating Expense Rate</th>\n",
              "      <th>Research and development expense rate</th>\n",
              "      <th>Cash flow rate</th>\n",
              "      <th>Interest-bearing debt interest rate</th>\n",
              "      <th>Tax rate (A)</th>\n",
              "      <th>Net Value Per Share (B)</th>\n",
              "      <th>Net Value Per Share (A)</th>\n",
              "      <th>Net Value Per Share (C)</th>\n",
              "      <th>Persistent EPS in the Last Four Seasons</th>\n",
              "      <th>Cash Flow Per Share</th>\n",
              "      <th>Revenue Per Share (Yuan ¥)</th>\n",
              "      <th>Operating Profit Per Share (Yuan ¥)</th>\n",
              "      <th>Per Share Net profit before tax (Yuan ¥)</th>\n",
              "      <th>Realized Sales Gross Profit Growth Rate</th>\n",
              "      <th>Operating Profit Growth Rate</th>\n",
              "      <th>After-tax Net Profit Growth Rate</th>\n",
              "      <th>Regular Net Profit Growth Rate</th>\n",
              "      <th>Continuous Net Profit Growth Rate</th>\n",
              "      <th>Total Asset Growth Rate</th>\n",
              "      <th>Net Value Growth Rate</th>\n",
              "      <th>Total Asset Return Growth Rate Ratio</th>\n",
              "      <th>Cash Reinvestment %</th>\n",
              "      <th>Current Ratio</th>\n",
              "      <th>Quick Ratio</th>\n",
              "      <th>Interest Expense Ratio</th>\n",
              "      <th>Total debt/Total net worth</th>\n",
              "      <th>Debt ratio %</th>\n",
              "      <th>Net worth/Assets</th>\n",
              "      <th>Long-term fund suitability ratio (A)</th>\n",
              "      <th>...</th>\n",
              "      <th>Quick Assets/Total Assets</th>\n",
              "      <th>Current Assets/Total Assets</th>\n",
              "      <th>Cash/Total Assets</th>\n",
              "      <th>Quick Assets/Current Liability</th>\n",
              "      <th>Cash/Current Liability</th>\n",
              "      <th>Current Liability to Assets</th>\n",
              "      <th>Operating Funds to Liability</th>\n",
              "      <th>Inventory/Working Capital</th>\n",
              "      <th>Inventory/Current Liability</th>\n",
              "      <th>Current Liabilities/Liability</th>\n",
              "      <th>Working Capital/Equity</th>\n",
              "      <th>Current Liabilities/Equity</th>\n",
              "      <th>Long-term Liability to Current Assets</th>\n",
              "      <th>Retained Earnings to Total Assets</th>\n",
              "      <th>Total income/Total expense</th>\n",
              "      <th>Total expense/Assets</th>\n",
              "      <th>Current Asset Turnover Rate</th>\n",
              "      <th>Quick Asset Turnover Rate</th>\n",
              "      <th>Working capitcal Turnover Rate</th>\n",
              "      <th>Cash Turnover Rate</th>\n",
              "      <th>Cash Flow to Sales</th>\n",
              "      <th>Fixed Assets to Assets</th>\n",
              "      <th>Current Liability to Liability</th>\n",
              "      <th>Current Liability to Equity</th>\n",
              "      <th>Equity to Long-term Liability</th>\n",
              "      <th>Cash Flow to Total Assets</th>\n",
              "      <th>Cash Flow to Liability</th>\n",
              "      <th>CFO to Assets</th>\n",
              "      <th>Cash Flow to Equity</th>\n",
              "      <th>Current Liability to Current Assets</th>\n",
              "      <th>Liability-Assets Flag</th>\n",
              "      <th>Net Income to Total Assets</th>\n",
              "      <th>Total assets to GNP price</th>\n",
              "      <th>No-credit Interval</th>\n",
              "      <th>Gross Profit to Sales</th>\n",
              "      <th>Net Income to Stockholder's Equity</th>\n",
              "      <th>Liability to Equity</th>\n",
              "      <th>Degree of Financial Leverage (DFL)</th>\n",
              "      <th>Interest Coverage Ratio (Interest expense to EBIT)</th>\n",
              "      <th>Equity to Liability</th>\n",
              "    </tr>\n",
              "  </thead>\n",
              "  <tbody>\n",
              "    <tr>\n",
              "      <th>0</th>\n",
              "      <td>1</td>\n",
              "      <td>0.370594</td>\n",
              "      <td>0.424389</td>\n",
              "      <td>0.405750</td>\n",
              "      <td>0.601457</td>\n",
              "      <td>0.601457</td>\n",
              "      <td>0.998969</td>\n",
              "      <td>0.796887</td>\n",
              "      <td>0.808809</td>\n",
              "      <td>0.302646</td>\n",
              "      <td>0.780985</td>\n",
              "      <td>1.256969e-04</td>\n",
              "      <td>0.000000e+00</td>\n",
              "      <td>0.458143</td>\n",
              "      <td>7.250725e-04</td>\n",
              "      <td>0.000000</td>\n",
              "      <td>0.147950</td>\n",
              "      <td>0.147950</td>\n",
              "      <td>0.147950</td>\n",
              "      <td>0.169141</td>\n",
              "      <td>0.311664</td>\n",
              "      <td>0.017560</td>\n",
              "      <td>0.095921</td>\n",
              "      <td>0.138736</td>\n",
              "      <td>0.022102</td>\n",
              "      <td>0.848195</td>\n",
              "      <td>0.688979</td>\n",
              "      <td>0.688979</td>\n",
              "      <td>0.217535</td>\n",
              "      <td>4.980000e+09</td>\n",
              "      <td>0.000327</td>\n",
              "      <td>0.263100</td>\n",
              "      <td>0.363725</td>\n",
              "      <td>0.002259</td>\n",
              "      <td>0.001208</td>\n",
              "      <td>0.629951</td>\n",
              "      <td>0.021266</td>\n",
              "      <td>0.207576</td>\n",
              "      <td>0.792424</td>\n",
              "      <td>0.005024</td>\n",
              "      <td>...</td>\n",
              "      <td>0.166673</td>\n",
              "      <td>0.190643</td>\n",
              "      <td>0.004094</td>\n",
              "      <td>0.001997</td>\n",
              "      <td>1.473360e-04</td>\n",
              "      <td>0.147308</td>\n",
              "      <td>0.334015</td>\n",
              "      <td>0.276920</td>\n",
              "      <td>0.001036</td>\n",
              "      <td>0.676269</td>\n",
              "      <td>0.721275</td>\n",
              "      <td>0.339077</td>\n",
              "      <td>2.559237e-02</td>\n",
              "      <td>0.903225</td>\n",
              "      <td>0.002022</td>\n",
              "      <td>0.064856</td>\n",
              "      <td>7.010000e+08</td>\n",
              "      <td>6.550000e+09</td>\n",
              "      <td>0.593831</td>\n",
              "      <td>4.580000e+08</td>\n",
              "      <td>0.671568</td>\n",
              "      <td>0.424206</td>\n",
              "      <td>0.676269</td>\n",
              "      <td>0.339077</td>\n",
              "      <td>0.126549</td>\n",
              "      <td>0.637555</td>\n",
              "      <td>0.458609</td>\n",
              "      <td>0.520382</td>\n",
              "      <td>0.312905</td>\n",
              "      <td>0.118250</td>\n",
              "      <td>0</td>\n",
              "      <td>0.716845</td>\n",
              "      <td>0.009219</td>\n",
              "      <td>0.622879</td>\n",
              "      <td>0.601453</td>\n",
              "      <td>0.827890</td>\n",
              "      <td>0.290202</td>\n",
              "      <td>0.026601</td>\n",
              "      <td>0.564050</td>\n",
              "      <td>0.016469</td>\n",
              "    </tr>\n",
              "    <tr>\n",
              "      <th>1</th>\n",
              "      <td>1</td>\n",
              "      <td>0.464291</td>\n",
              "      <td>0.538214</td>\n",
              "      <td>0.516730</td>\n",
              "      <td>0.610235</td>\n",
              "      <td>0.610235</td>\n",
              "      <td>0.998946</td>\n",
              "      <td>0.797380</td>\n",
              "      <td>0.809301</td>\n",
              "      <td>0.303556</td>\n",
              "      <td>0.781506</td>\n",
              "      <td>2.897851e-04</td>\n",
              "      <td>0.000000e+00</td>\n",
              "      <td>0.461867</td>\n",
              "      <td>6.470647e-04</td>\n",
              "      <td>0.000000</td>\n",
              "      <td>0.182251</td>\n",
              "      <td>0.182251</td>\n",
              "      <td>0.182251</td>\n",
              "      <td>0.208944</td>\n",
              "      <td>0.318137</td>\n",
              "      <td>0.021144</td>\n",
              "      <td>0.093722</td>\n",
              "      <td>0.169918</td>\n",
              "      <td>0.022080</td>\n",
              "      <td>0.848088</td>\n",
              "      <td>0.689693</td>\n",
              "      <td>0.689702</td>\n",
              "      <td>0.217620</td>\n",
              "      <td>6.110000e+09</td>\n",
              "      <td>0.000443</td>\n",
              "      <td>0.264516</td>\n",
              "      <td>0.376709</td>\n",
              "      <td>0.006016</td>\n",
              "      <td>0.004039</td>\n",
              "      <td>0.635172</td>\n",
              "      <td>0.012502</td>\n",
              "      <td>0.171176</td>\n",
              "      <td>0.828824</td>\n",
              "      <td>0.005059</td>\n",
              "      <td>...</td>\n",
              "      <td>0.127236</td>\n",
              "      <td>0.182419</td>\n",
              "      <td>0.014948</td>\n",
              "      <td>0.004136</td>\n",
              "      <td>1.383910e-03</td>\n",
              "      <td>0.056963</td>\n",
              "      <td>0.341106</td>\n",
              "      <td>0.289642</td>\n",
              "      <td>0.005210</td>\n",
              "      <td>0.308589</td>\n",
              "      <td>0.731975</td>\n",
              "      <td>0.329740</td>\n",
              "      <td>2.394682e-02</td>\n",
              "      <td>0.931065</td>\n",
              "      <td>0.002226</td>\n",
              "      <td>0.025516</td>\n",
              "      <td>1.065198e-04</td>\n",
              "      <td>7.700000e+09</td>\n",
              "      <td>0.593916</td>\n",
              "      <td>2.490000e+09</td>\n",
              "      <td>0.671570</td>\n",
              "      <td>0.468828</td>\n",
              "      <td>0.308589</td>\n",
              "      <td>0.329740</td>\n",
              "      <td>0.120916</td>\n",
              "      <td>0.641100</td>\n",
              "      <td>0.459001</td>\n",
              "      <td>0.567101</td>\n",
              "      <td>0.314163</td>\n",
              "      <td>0.047775</td>\n",
              "      <td>0</td>\n",
              "      <td>0.795297</td>\n",
              "      <td>0.008323</td>\n",
              "      <td>0.623652</td>\n",
              "      <td>0.610237</td>\n",
              "      <td>0.839969</td>\n",
              "      <td>0.283846</td>\n",
              "      <td>0.264577</td>\n",
              "      <td>0.570175</td>\n",
              "      <td>0.020794</td>\n",
              "    </tr>\n",
              "    <tr>\n",
              "      <th>2</th>\n",
              "      <td>1</td>\n",
              "      <td>0.426071</td>\n",
              "      <td>0.499019</td>\n",
              "      <td>0.472295</td>\n",
              "      <td>0.601450</td>\n",
              "      <td>0.601364</td>\n",
              "      <td>0.998857</td>\n",
              "      <td>0.796403</td>\n",
              "      <td>0.808388</td>\n",
              "      <td>0.302035</td>\n",
              "      <td>0.780284</td>\n",
              "      <td>2.361297e-04</td>\n",
              "      <td>2.550000e+07</td>\n",
              "      <td>0.458521</td>\n",
              "      <td>7.900790e-04</td>\n",
              "      <td>0.000000</td>\n",
              "      <td>0.177911</td>\n",
              "      <td>0.177911</td>\n",
              "      <td>0.193713</td>\n",
              "      <td>0.180581</td>\n",
              "      <td>0.307102</td>\n",
              "      <td>0.005944</td>\n",
              "      <td>0.092338</td>\n",
              "      <td>0.142803</td>\n",
              "      <td>0.022760</td>\n",
              "      <td>0.848094</td>\n",
              "      <td>0.689463</td>\n",
              "      <td>0.689470</td>\n",
              "      <td>0.217601</td>\n",
              "      <td>7.280000e+09</td>\n",
              "      <td>0.000396</td>\n",
              "      <td>0.264184</td>\n",
              "      <td>0.368913</td>\n",
              "      <td>0.011543</td>\n",
              "      <td>0.005348</td>\n",
              "      <td>0.629631</td>\n",
              "      <td>0.021248</td>\n",
              "      <td>0.207516</td>\n",
              "      <td>0.792484</td>\n",
              "      <td>0.005100</td>\n",
              "      <td>...</td>\n",
              "      <td>0.340201</td>\n",
              "      <td>0.602806</td>\n",
              "      <td>0.000991</td>\n",
              "      <td>0.006302</td>\n",
              "      <td>5.340000e+09</td>\n",
              "      <td>0.098162</td>\n",
              "      <td>0.336731</td>\n",
              "      <td>0.277456</td>\n",
              "      <td>0.013879</td>\n",
              "      <td>0.446027</td>\n",
              "      <td>0.742729</td>\n",
              "      <td>0.334777</td>\n",
              "      <td>3.715116e-03</td>\n",
              "      <td>0.909903</td>\n",
              "      <td>0.002060</td>\n",
              "      <td>0.021387</td>\n",
              "      <td>1.791094e-03</td>\n",
              "      <td>1.022676e-03</td>\n",
              "      <td>0.594502</td>\n",
              "      <td>7.610000e+08</td>\n",
              "      <td>0.671571</td>\n",
              "      <td>0.276179</td>\n",
              "      <td>0.446027</td>\n",
              "      <td>0.334777</td>\n",
              "      <td>0.117922</td>\n",
              "      <td>0.642765</td>\n",
              "      <td>0.459254</td>\n",
              "      <td>0.538491</td>\n",
              "      <td>0.314515</td>\n",
              "      <td>0.025346</td>\n",
              "      <td>0</td>\n",
              "      <td>0.774670</td>\n",
              "      <td>0.040003</td>\n",
              "      <td>0.623841</td>\n",
              "      <td>0.601449</td>\n",
              "      <td>0.836774</td>\n",
              "      <td>0.290189</td>\n",
              "      <td>0.026555</td>\n",
              "      <td>0.563706</td>\n",
              "      <td>0.016474</td>\n",
              "    </tr>\n",
              "    <tr>\n",
              "      <th>3</th>\n",
              "      <td>1</td>\n",
              "      <td>0.399844</td>\n",
              "      <td>0.451265</td>\n",
              "      <td>0.457733</td>\n",
              "      <td>0.583541</td>\n",
              "      <td>0.583541</td>\n",
              "      <td>0.998700</td>\n",
              "      <td>0.796967</td>\n",
              "      <td>0.808966</td>\n",
              "      <td>0.303350</td>\n",
              "      <td>0.781241</td>\n",
              "      <td>1.078888e-04</td>\n",
              "      <td>0.000000e+00</td>\n",
              "      <td>0.465705</td>\n",
              "      <td>4.490449e-04</td>\n",
              "      <td>0.000000</td>\n",
              "      <td>0.154187</td>\n",
              "      <td>0.154187</td>\n",
              "      <td>0.154187</td>\n",
              "      <td>0.193722</td>\n",
              "      <td>0.321674</td>\n",
              "      <td>0.014368</td>\n",
              "      <td>0.077762</td>\n",
              "      <td>0.148603</td>\n",
              "      <td>0.022046</td>\n",
              "      <td>0.848005</td>\n",
              "      <td>0.689110</td>\n",
              "      <td>0.689110</td>\n",
              "      <td>0.217568</td>\n",
              "      <td>4.880000e+09</td>\n",
              "      <td>0.000382</td>\n",
              "      <td>0.263371</td>\n",
              "      <td>0.384077</td>\n",
              "      <td>0.004194</td>\n",
              "      <td>0.002896</td>\n",
              "      <td>0.630228</td>\n",
              "      <td>0.009572</td>\n",
              "      <td>0.151465</td>\n",
              "      <td>0.848535</td>\n",
              "      <td>0.005047</td>\n",
              "      <td>...</td>\n",
              "      <td>0.161575</td>\n",
              "      <td>0.225815</td>\n",
              "      <td>0.018851</td>\n",
              "      <td>0.002961</td>\n",
              "      <td>1.010646e-03</td>\n",
              "      <td>0.098715</td>\n",
              "      <td>0.348716</td>\n",
              "      <td>0.276580</td>\n",
              "      <td>0.003540</td>\n",
              "      <td>0.615848</td>\n",
              "      <td>0.729825</td>\n",
              "      <td>0.331509</td>\n",
              "      <td>2.216520e-02</td>\n",
              "      <td>0.906902</td>\n",
              "      <td>0.001831</td>\n",
              "      <td>0.024161</td>\n",
              "      <td>8.140000e+09</td>\n",
              "      <td>6.050000e+09</td>\n",
              "      <td>0.593889</td>\n",
              "      <td>2.030000e+09</td>\n",
              "      <td>0.671519</td>\n",
              "      <td>0.559144</td>\n",
              "      <td>0.615848</td>\n",
              "      <td>0.331509</td>\n",
              "      <td>0.120760</td>\n",
              "      <td>0.579039</td>\n",
              "      <td>0.448518</td>\n",
              "      <td>0.604105</td>\n",
              "      <td>0.302382</td>\n",
              "      <td>0.067250</td>\n",
              "      <td>0</td>\n",
              "      <td>0.739555</td>\n",
              "      <td>0.003252</td>\n",
              "      <td>0.622929</td>\n",
              "      <td>0.583538</td>\n",
              "      <td>0.834697</td>\n",
              "      <td>0.281721</td>\n",
              "      <td>0.026697</td>\n",
              "      <td>0.564663</td>\n",
              "      <td>0.023982</td>\n",
              "    </tr>\n",
              "    <tr>\n",
              "      <th>4</th>\n",
              "      <td>1</td>\n",
              "      <td>0.465022</td>\n",
              "      <td>0.538432</td>\n",
              "      <td>0.522298</td>\n",
              "      <td>0.598783</td>\n",
              "      <td>0.598783</td>\n",
              "      <td>0.998973</td>\n",
              "      <td>0.797366</td>\n",
              "      <td>0.809304</td>\n",
              "      <td>0.303475</td>\n",
              "      <td>0.781550</td>\n",
              "      <td>7.890000e+09</td>\n",
              "      <td>0.000000e+00</td>\n",
              "      <td>0.462746</td>\n",
              "      <td>6.860686e-04</td>\n",
              "      <td>0.000000</td>\n",
              "      <td>0.167502</td>\n",
              "      <td>0.167502</td>\n",
              "      <td>0.167502</td>\n",
              "      <td>0.212537</td>\n",
              "      <td>0.319162</td>\n",
              "      <td>0.029690</td>\n",
              "      <td>0.096898</td>\n",
              "      <td>0.168412</td>\n",
              "      <td>0.022096</td>\n",
              "      <td>0.848258</td>\n",
              "      <td>0.689697</td>\n",
              "      <td>0.689697</td>\n",
              "      <td>0.217626</td>\n",
              "      <td>5.510000e+09</td>\n",
              "      <td>0.000439</td>\n",
              "      <td>0.265218</td>\n",
              "      <td>0.379690</td>\n",
              "      <td>0.006022</td>\n",
              "      <td>0.003727</td>\n",
              "      <td>0.636055</td>\n",
              "      <td>0.005150</td>\n",
              "      <td>0.106509</td>\n",
              "      <td>0.893491</td>\n",
              "      <td>0.005303</td>\n",
              "      <td>...</td>\n",
              "      <td>0.260330</td>\n",
              "      <td>0.358380</td>\n",
              "      <td>0.014161</td>\n",
              "      <td>0.004275</td>\n",
              "      <td>6.804636e-04</td>\n",
              "      <td>0.110195</td>\n",
              "      <td>0.344639</td>\n",
              "      <td>0.287913</td>\n",
              "      <td>0.004869</td>\n",
              "      <td>0.975007</td>\n",
              "      <td>0.732000</td>\n",
              "      <td>0.330726</td>\n",
              "      <td>0.000000e+00</td>\n",
              "      <td>0.913850</td>\n",
              "      <td>0.002224</td>\n",
              "      <td>0.026385</td>\n",
              "      <td>6.680000e+09</td>\n",
              "      <td>5.050000e+09</td>\n",
              "      <td>0.593915</td>\n",
              "      <td>8.240000e+08</td>\n",
              "      <td>0.671563</td>\n",
              "      <td>0.309555</td>\n",
              "      <td>0.975007</td>\n",
              "      <td>0.330726</td>\n",
              "      <td>0.110933</td>\n",
              "      <td>0.622374</td>\n",
              "      <td>0.454411</td>\n",
              "      <td>0.578469</td>\n",
              "      <td>0.311567</td>\n",
              "      <td>0.047725</td>\n",
              "      <td>0</td>\n",
              "      <td>0.795016</td>\n",
              "      <td>0.003878</td>\n",
              "      <td>0.623521</td>\n",
              "      <td>0.598782</td>\n",
              "      <td>0.839973</td>\n",
              "      <td>0.278514</td>\n",
              "      <td>0.024752</td>\n",
              "      <td>0.575617</td>\n",
              "      <td>0.035490</td>\n",
              "    </tr>\n",
              "    <tr>\n",
              "      <th>...</th>\n",
              "      <td>...</td>\n",
              "      <td>...</td>\n",
              "      <td>...</td>\n",
              "      <td>...</td>\n",
              "      <td>...</td>\n",
              "      <td>...</td>\n",
              "      <td>...</td>\n",
              "      <td>...</td>\n",
              "      <td>...</td>\n",
              "      <td>...</td>\n",
              "      <td>...</td>\n",
              "      <td>...</td>\n",
              "      <td>...</td>\n",
              "      <td>...</td>\n",
              "      <td>...</td>\n",
              "      <td>...</td>\n",
              "      <td>...</td>\n",
              "      <td>...</td>\n",
              "      <td>...</td>\n",
              "      <td>...</td>\n",
              "      <td>...</td>\n",
              "      <td>...</td>\n",
              "      <td>...</td>\n",
              "      <td>...</td>\n",
              "      <td>...</td>\n",
              "      <td>...</td>\n",
              "      <td>...</td>\n",
              "      <td>...</td>\n",
              "      <td>...</td>\n",
              "      <td>...</td>\n",
              "      <td>...</td>\n",
              "      <td>...</td>\n",
              "      <td>...</td>\n",
              "      <td>...</td>\n",
              "      <td>...</td>\n",
              "      <td>...</td>\n",
              "      <td>...</td>\n",
              "      <td>...</td>\n",
              "      <td>...</td>\n",
              "      <td>...</td>\n",
              "      <td>...</td>\n",
              "      <td>...</td>\n",
              "      <td>...</td>\n",
              "      <td>...</td>\n",
              "      <td>...</td>\n",
              "      <td>...</td>\n",
              "      <td>...</td>\n",
              "      <td>...</td>\n",
              "      <td>...</td>\n",
              "      <td>...</td>\n",
              "      <td>...</td>\n",
              "      <td>...</td>\n",
              "      <td>...</td>\n",
              "      <td>...</td>\n",
              "      <td>...</td>\n",
              "      <td>...</td>\n",
              "      <td>...</td>\n",
              "      <td>...</td>\n",
              "      <td>...</td>\n",
              "      <td>...</td>\n",
              "      <td>...</td>\n",
              "      <td>...</td>\n",
              "      <td>...</td>\n",
              "      <td>...</td>\n",
              "      <td>...</td>\n",
              "      <td>...</td>\n",
              "      <td>...</td>\n",
              "      <td>...</td>\n",
              "      <td>...</td>\n",
              "      <td>...</td>\n",
              "      <td>...</td>\n",
              "      <td>...</td>\n",
              "      <td>...</td>\n",
              "      <td>...</td>\n",
              "      <td>...</td>\n",
              "      <td>...</td>\n",
              "      <td>...</td>\n",
              "      <td>...</td>\n",
              "      <td>...</td>\n",
              "      <td>...</td>\n",
              "      <td>...</td>\n",
              "    </tr>\n",
              "    <tr>\n",
              "      <th>6814</th>\n",
              "      <td>0</td>\n",
              "      <td>0.493687</td>\n",
              "      <td>0.539468</td>\n",
              "      <td>0.543230</td>\n",
              "      <td>0.604455</td>\n",
              "      <td>0.604462</td>\n",
              "      <td>0.998992</td>\n",
              "      <td>0.797409</td>\n",
              "      <td>0.809331</td>\n",
              "      <td>0.303510</td>\n",
              "      <td>0.781588</td>\n",
              "      <td>1.510213e-04</td>\n",
              "      <td>4.500000e+09</td>\n",
              "      <td>0.463734</td>\n",
              "      <td>1.790179e-04</td>\n",
              "      <td>0.113372</td>\n",
              "      <td>0.175045</td>\n",
              "      <td>0.175045</td>\n",
              "      <td>0.175045</td>\n",
              "      <td>0.216602</td>\n",
              "      <td>0.320966</td>\n",
              "      <td>0.020766</td>\n",
              "      <td>0.098200</td>\n",
              "      <td>0.172102</td>\n",
              "      <td>0.022374</td>\n",
              "      <td>0.848205</td>\n",
              "      <td>0.689778</td>\n",
              "      <td>0.689778</td>\n",
              "      <td>0.217635</td>\n",
              "      <td>7.070000e+09</td>\n",
              "      <td>0.000450</td>\n",
              "      <td>0.264517</td>\n",
              "      <td>0.380155</td>\n",
              "      <td>0.010451</td>\n",
              "      <td>0.005457</td>\n",
              "      <td>0.631415</td>\n",
              "      <td>0.006655</td>\n",
              "      <td>0.124618</td>\n",
              "      <td>0.875382</td>\n",
              "      <td>0.005150</td>\n",
              "      <td>...</td>\n",
              "      <td>0.312840</td>\n",
              "      <td>0.578455</td>\n",
              "      <td>0.099481</td>\n",
              "      <td>0.005469</td>\n",
              "      <td>5.071548e-03</td>\n",
              "      <td>0.103838</td>\n",
              "      <td>0.346224</td>\n",
              "      <td>0.277543</td>\n",
              "      <td>0.013212</td>\n",
              "      <td>0.786888</td>\n",
              "      <td>0.736716</td>\n",
              "      <td>0.330914</td>\n",
              "      <td>1.792237e-03</td>\n",
              "      <td>0.925611</td>\n",
              "      <td>0.002266</td>\n",
              "      <td>0.019060</td>\n",
              "      <td>2.294154e-04</td>\n",
              "      <td>1.244230e-04</td>\n",
              "      <td>0.593985</td>\n",
              "      <td>1.077940e-04</td>\n",
              "      <td>0.671570</td>\n",
              "      <td>0.400338</td>\n",
              "      <td>0.786888</td>\n",
              "      <td>0.330914</td>\n",
              "      <td>0.112622</td>\n",
              "      <td>0.639806</td>\n",
              "      <td>0.458639</td>\n",
              "      <td>0.587178</td>\n",
              "      <td>0.314063</td>\n",
              "      <td>0.027951</td>\n",
              "      <td>0</td>\n",
              "      <td>0.799927</td>\n",
              "      <td>0.000466</td>\n",
              "      <td>0.623620</td>\n",
              "      <td>0.604455</td>\n",
              "      <td>0.840359</td>\n",
              "      <td>0.279606</td>\n",
              "      <td>0.027064</td>\n",
              "      <td>0.566193</td>\n",
              "      <td>0.029890</td>\n",
              "    </tr>\n",
              "    <tr>\n",
              "      <th>6815</th>\n",
              "      <td>0</td>\n",
              "      <td>0.475162</td>\n",
              "      <td>0.538269</td>\n",
              "      <td>0.524172</td>\n",
              "      <td>0.598308</td>\n",
              "      <td>0.598308</td>\n",
              "      <td>0.998992</td>\n",
              "      <td>0.797414</td>\n",
              "      <td>0.809327</td>\n",
              "      <td>0.303520</td>\n",
              "      <td>0.781586</td>\n",
              "      <td>5.220000e+09</td>\n",
              "      <td>1.440000e+09</td>\n",
              "      <td>0.461978</td>\n",
              "      <td>2.370237e-04</td>\n",
              "      <td>0.371596</td>\n",
              "      <td>0.181324</td>\n",
              "      <td>0.181324</td>\n",
              "      <td>0.181324</td>\n",
              "      <td>0.216697</td>\n",
              "      <td>0.318278</td>\n",
              "      <td>0.023050</td>\n",
              "      <td>0.098608</td>\n",
              "      <td>0.172780</td>\n",
              "      <td>0.022159</td>\n",
              "      <td>0.848245</td>\n",
              "      <td>0.689734</td>\n",
              "      <td>0.689734</td>\n",
              "      <td>0.217631</td>\n",
              "      <td>5.220000e+09</td>\n",
              "      <td>0.000445</td>\n",
              "      <td>0.264730</td>\n",
              "      <td>0.377389</td>\n",
              "      <td>0.009259</td>\n",
              "      <td>0.006741</td>\n",
              "      <td>0.631489</td>\n",
              "      <td>0.004623</td>\n",
              "      <td>0.099253</td>\n",
              "      <td>0.900747</td>\n",
              "      <td>0.006772</td>\n",
              "      <td>...</td>\n",
              "      <td>0.335085</td>\n",
              "      <td>0.444043</td>\n",
              "      <td>0.080337</td>\n",
              "      <td>0.006790</td>\n",
              "      <td>4.727181e-03</td>\n",
              "      <td>0.089901</td>\n",
              "      <td>0.342166</td>\n",
              "      <td>0.277368</td>\n",
              "      <td>0.006730</td>\n",
              "      <td>0.849898</td>\n",
              "      <td>0.734584</td>\n",
              "      <td>0.329753</td>\n",
              "      <td>2.204673e-03</td>\n",
              "      <td>0.932629</td>\n",
              "      <td>0.002288</td>\n",
              "      <td>0.011118</td>\n",
              "      <td>1.517299e-04</td>\n",
              "      <td>1.173396e-04</td>\n",
              "      <td>0.593954</td>\n",
              "      <td>7.710000e+09</td>\n",
              "      <td>0.671572</td>\n",
              "      <td>0.096136</td>\n",
              "      <td>0.849898</td>\n",
              "      <td>0.329753</td>\n",
              "      <td>0.112329</td>\n",
              "      <td>0.642072</td>\n",
              "      <td>0.459058</td>\n",
              "      <td>0.569498</td>\n",
              "      <td>0.314446</td>\n",
              "      <td>0.031470</td>\n",
              "      <td>0</td>\n",
              "      <td>0.799748</td>\n",
              "      <td>0.001959</td>\n",
              "      <td>0.623931</td>\n",
              "      <td>0.598306</td>\n",
              "      <td>0.840306</td>\n",
              "      <td>0.278132</td>\n",
              "      <td>0.027009</td>\n",
              "      <td>0.566018</td>\n",
              "      <td>0.038284</td>\n",
              "    </tr>\n",
              "    <tr>\n",
              "      <th>6816</th>\n",
              "      <td>0</td>\n",
              "      <td>0.472725</td>\n",
              "      <td>0.533744</td>\n",
              "      <td>0.520638</td>\n",
              "      <td>0.610444</td>\n",
              "      <td>0.610213</td>\n",
              "      <td>0.998984</td>\n",
              "      <td>0.797401</td>\n",
              "      <td>0.809317</td>\n",
              "      <td>0.303512</td>\n",
              "      <td>0.781546</td>\n",
              "      <td>2.509312e-04</td>\n",
              "      <td>1.039086e-04</td>\n",
              "      <td>0.472189</td>\n",
              "      <td>0.000000e+00</td>\n",
              "      <td>0.490839</td>\n",
              "      <td>0.269521</td>\n",
              "      <td>0.269521</td>\n",
              "      <td>0.269521</td>\n",
              "      <td>0.210929</td>\n",
              "      <td>0.324857</td>\n",
              "      <td>0.044255</td>\n",
              "      <td>0.100073</td>\n",
              "      <td>0.173232</td>\n",
              "      <td>0.022068</td>\n",
              "      <td>0.847978</td>\n",
              "      <td>0.689202</td>\n",
              "      <td>0.689202</td>\n",
              "      <td>0.217547</td>\n",
              "      <td>5.990000e+09</td>\n",
              "      <td>0.000435</td>\n",
              "      <td>0.263858</td>\n",
              "      <td>0.379392</td>\n",
              "      <td>0.038424</td>\n",
              "      <td>0.035112</td>\n",
              "      <td>0.630612</td>\n",
              "      <td>0.001392</td>\n",
              "      <td>0.038939</td>\n",
              "      <td>0.961061</td>\n",
              "      <td>0.009149</td>\n",
              "      <td>...</td>\n",
              "      <td>0.476747</td>\n",
              "      <td>0.496053</td>\n",
              "      <td>0.412885</td>\n",
              "      <td>0.035531</td>\n",
              "      <td>8.821248e-02</td>\n",
              "      <td>0.024414</td>\n",
              "      <td>0.358847</td>\n",
              "      <td>0.277022</td>\n",
              "      <td>0.007810</td>\n",
              "      <td>0.553964</td>\n",
              "      <td>0.737432</td>\n",
              "      <td>0.326921</td>\n",
              "      <td>0.000000e+00</td>\n",
              "      <td>0.932000</td>\n",
              "      <td>0.002239</td>\n",
              "      <td>0.035446</td>\n",
              "      <td>1.762272e-04</td>\n",
              "      <td>1.749713e-04</td>\n",
              "      <td>0.594025</td>\n",
              "      <td>4.074263e-04</td>\n",
              "      <td>0.671564</td>\n",
              "      <td>0.055509</td>\n",
              "      <td>0.553964</td>\n",
              "      <td>0.326921</td>\n",
              "      <td>0.110933</td>\n",
              "      <td>0.631678</td>\n",
              "      <td>0.452465</td>\n",
              "      <td>0.589341</td>\n",
              "      <td>0.313353</td>\n",
              "      <td>0.007542</td>\n",
              "      <td>0</td>\n",
              "      <td>0.797778</td>\n",
              "      <td>0.002840</td>\n",
              "      <td>0.624156</td>\n",
              "      <td>0.610441</td>\n",
              "      <td>0.840138</td>\n",
              "      <td>0.275789</td>\n",
              "      <td>0.026791</td>\n",
              "      <td>0.565158</td>\n",
              "      <td>0.097649</td>\n",
              "    </tr>\n",
              "    <tr>\n",
              "      <th>6817</th>\n",
              "      <td>0</td>\n",
              "      <td>0.506264</td>\n",
              "      <td>0.559911</td>\n",
              "      <td>0.554045</td>\n",
              "      <td>0.607850</td>\n",
              "      <td>0.607850</td>\n",
              "      <td>0.999074</td>\n",
              "      <td>0.797500</td>\n",
              "      <td>0.809399</td>\n",
              "      <td>0.303498</td>\n",
              "      <td>0.781663</td>\n",
              "      <td>1.236154e-04</td>\n",
              "      <td>2.510000e+09</td>\n",
              "      <td>0.476123</td>\n",
              "      <td>2.110211e-04</td>\n",
              "      <td>0.181294</td>\n",
              "      <td>0.213392</td>\n",
              "      <td>0.213392</td>\n",
              "      <td>0.213392</td>\n",
              "      <td>0.228326</td>\n",
              "      <td>0.346573</td>\n",
              "      <td>0.031535</td>\n",
              "      <td>0.111799</td>\n",
              "      <td>0.185584</td>\n",
              "      <td>0.022350</td>\n",
              "      <td>0.854064</td>\n",
              "      <td>0.696113</td>\n",
              "      <td>0.696113</td>\n",
              "      <td>0.218006</td>\n",
              "      <td>7.250000e+09</td>\n",
              "      <td>0.000529</td>\n",
              "      <td>0.264409</td>\n",
              "      <td>0.401028</td>\n",
              "      <td>0.012782</td>\n",
              "      <td>0.007256</td>\n",
              "      <td>0.630731</td>\n",
              "      <td>0.003816</td>\n",
              "      <td>0.086979</td>\n",
              "      <td>0.913021</td>\n",
              "      <td>0.005529</td>\n",
              "      <td>...</td>\n",
              "      <td>0.353624</td>\n",
              "      <td>0.564439</td>\n",
              "      <td>0.112238</td>\n",
              "      <td>0.007753</td>\n",
              "      <td>7.133218e-03</td>\n",
              "      <td>0.083199</td>\n",
              "      <td>0.380251</td>\n",
              "      <td>0.277353</td>\n",
              "      <td>0.013334</td>\n",
              "      <td>0.893241</td>\n",
              "      <td>0.736713</td>\n",
              "      <td>0.329294</td>\n",
              "      <td>3.200000e+09</td>\n",
              "      <td>0.939613</td>\n",
              "      <td>0.002395</td>\n",
              "      <td>0.016443</td>\n",
              "      <td>2.135940e-04</td>\n",
              "      <td>1.351937e-04</td>\n",
              "      <td>0.593997</td>\n",
              "      <td>1.165392e-04</td>\n",
              "      <td>0.671606</td>\n",
              "      <td>0.246805</td>\n",
              "      <td>0.893241</td>\n",
              "      <td>0.329294</td>\n",
              "      <td>0.110957</td>\n",
              "      <td>0.684857</td>\n",
              "      <td>0.471313</td>\n",
              "      <td>0.678338</td>\n",
              "      <td>0.320118</td>\n",
              "      <td>0.022916</td>\n",
              "      <td>0</td>\n",
              "      <td>0.811808</td>\n",
              "      <td>0.002837</td>\n",
              "      <td>0.623957</td>\n",
              "      <td>0.607846</td>\n",
              "      <td>0.841084</td>\n",
              "      <td>0.277547</td>\n",
              "      <td>0.026822</td>\n",
              "      <td>0.565302</td>\n",
              "      <td>0.044009</td>\n",
              "    </tr>\n",
              "    <tr>\n",
              "      <th>6818</th>\n",
              "      <td>0</td>\n",
              "      <td>0.493053</td>\n",
              "      <td>0.570105</td>\n",
              "      <td>0.549548</td>\n",
              "      <td>0.627409</td>\n",
              "      <td>0.627409</td>\n",
              "      <td>0.998080</td>\n",
              "      <td>0.801987</td>\n",
              "      <td>0.813800</td>\n",
              "      <td>0.313415</td>\n",
              "      <td>0.786079</td>\n",
              "      <td>1.431695e-03</td>\n",
              "      <td>0.000000e+00</td>\n",
              "      <td>0.427721</td>\n",
              "      <td>5.900000e+08</td>\n",
              "      <td>0.000000</td>\n",
              "      <td>0.220766</td>\n",
              "      <td>0.220766</td>\n",
              "      <td>0.220766</td>\n",
              "      <td>0.227758</td>\n",
              "      <td>0.305793</td>\n",
              "      <td>0.000665</td>\n",
              "      <td>0.092501</td>\n",
              "      <td>0.182119</td>\n",
              "      <td>0.025316</td>\n",
              "      <td>0.848053</td>\n",
              "      <td>0.689527</td>\n",
              "      <td>0.689527</td>\n",
              "      <td>0.217605</td>\n",
              "      <td>9.350000e+09</td>\n",
              "      <td>0.000519</td>\n",
              "      <td>0.264186</td>\n",
              "      <td>0.360102</td>\n",
              "      <td>0.051348</td>\n",
              "      <td>0.040897</td>\n",
              "      <td>0.630618</td>\n",
              "      <td>0.000461</td>\n",
              "      <td>0.014149</td>\n",
              "      <td>0.985851</td>\n",
              "      <td>0.058476</td>\n",
              "      <td>...</td>\n",
              "      <td>0.527136</td>\n",
              "      <td>0.505010</td>\n",
              "      <td>0.238147</td>\n",
              "      <td>0.051481</td>\n",
              "      <td>6.667354e-02</td>\n",
              "      <td>0.018517</td>\n",
              "      <td>0.239585</td>\n",
              "      <td>0.276975</td>\n",
              "      <td>0.000000</td>\n",
              "      <td>1.000000</td>\n",
              "      <td>0.737286</td>\n",
              "      <td>0.326690</td>\n",
              "      <td>0.000000e+00</td>\n",
              "      <td>0.938005</td>\n",
              "      <td>0.002791</td>\n",
              "      <td>0.006089</td>\n",
              "      <td>7.863781e-03</td>\n",
              "      <td>8.238471e-03</td>\n",
              "      <td>0.598674</td>\n",
              "      <td>9.505992e-03</td>\n",
              "      <td>0.672096</td>\n",
              "      <td>0.005016</td>\n",
              "      <td>1.000000</td>\n",
              "      <td>0.326690</td>\n",
              "      <td>0.110933</td>\n",
              "      <td>0.659917</td>\n",
              "      <td>0.483285</td>\n",
              "      <td>0.505531</td>\n",
              "      <td>0.316238</td>\n",
              "      <td>0.005579</td>\n",
              "      <td>0</td>\n",
              "      <td>0.815956</td>\n",
              "      <td>0.000707</td>\n",
              "      <td>0.626680</td>\n",
              "      <td>0.627408</td>\n",
              "      <td>0.841019</td>\n",
              "      <td>0.275114</td>\n",
              "      <td>0.026793</td>\n",
              "      <td>0.565167</td>\n",
              "      <td>0.233902</td>\n",
              "    </tr>\n",
              "  </tbody>\n",
              "</table>\n",
              "<p>6819 rows × 95 columns</p>\n",
              "</div>"
            ],
            "text/plain": [
              "      Bankrupt?  ...   Equity to Liability\n",
              "0             1  ...              0.016469\n",
              "1             1  ...              0.020794\n",
              "2             1  ...              0.016474\n",
              "3             1  ...              0.023982\n",
              "4             1  ...              0.035490\n",
              "...         ...  ...                   ...\n",
              "6814          0  ...              0.029890\n",
              "6815          0  ...              0.038284\n",
              "6816          0  ...              0.097649\n",
              "6817          0  ...              0.044009\n",
              "6818          0  ...              0.233902\n",
              "\n",
              "[6819 rows x 95 columns]"
            ]
          },
          "metadata": {},
          "execution_count": 66
        }
      ]
    },
    {
      "cell_type": "markdown",
      "metadata": {
        "id": "0oAybaTf_vE8"
      },
      "source": [
        "Το label βρίσκεται στην πρώτη θέση. Επίσης όλα μας τα δεδομένα είναι αριθμητικά, οπότε δεν χρειάζεται να κάνουμε κάποια μετατροπή."
      ]
    },
    {
      "cell_type": "code",
      "metadata": {
        "execution": {
          "iopub.status.busy": "2021-11-25T16:30:54.586665Z",
          "iopub.execute_input": "2021-11-25T16:30:54.587172Z",
          "iopub.status.idle": "2021-11-25T16:30:54.597566Z",
          "shell.execute_reply.started": "2021-11-25T16:30:54.587143Z",
          "shell.execute_reply": "2021-11-25T16:30:54.596617Z"
        },
        "trusted": true,
        "id": "x03slj9t-QjK",
        "colab": {
          "base_uri": "https://localhost:8080/"
        },
        "outputId": "f181d7a0-6048-4502-91e9-265572f4dd87"
      },
      "source": [
        "rows_count, columns_count = bankruptcy_df.shape\n",
        "print('Total Number of rows :', rows_count)\n",
        "print('Total Number of columns :', columns_count)"
      ],
      "execution_count": 67,
      "outputs": [
        {
          "output_type": "stream",
          "name": "stdout",
          "text": [
            "Total Number of rows : 6819\n",
            "Total Number of columns : 96\n"
          ]
        }
      ]
    },
    {
      "cell_type": "code",
      "metadata": {
        "execution": {
          "iopub.status.busy": "2021-11-25T16:30:54.599337Z",
          "iopub.execute_input": "2021-11-25T16:30:54.599625Z",
          "iopub.status.idle": "2021-11-25T16:30:54.612209Z",
          "shell.execute_reply.started": "2021-11-25T16:30:54.599586Z",
          "shell.execute_reply": "2021-11-25T16:30:54.611563Z"
        },
        "trusted": true,
        "id": "ryrf9ZPj-QjM",
        "colab": {
          "base_uri": "https://localhost:8080/"
        },
        "outputId": "ec4f768a-f38b-44e8-d2d1-06a06ac2a593"
      },
      "source": [
        "bankruptcy_df.isnull().sum().sum()"
      ],
      "execution_count": 68,
      "outputs": [
        {
          "output_type": "execute_result",
          "data": {
            "text/plain": [
              "0"
            ]
          },
          "metadata": {},
          "execution_count": 68
        }
      ]
    },
    {
      "cell_type": "markdown",
      "metadata": {
        "id": "aoHaVQWyAOtp"
      },
      "source": [
        "Επίσης δεν έχουμε καμμία κενή τιμή, που μας κάνει την ζωή εύκολη."
      ]
    },
    {
      "cell_type": "code",
      "metadata": {
        "execution": {
          "iopub.status.busy": "2021-11-25T16:30:54.613438Z",
          "iopub.execute_input": "2021-11-25T16:30:54.613782Z",
          "iopub.status.idle": "2021-11-25T16:30:54.621508Z",
          "shell.execute_reply.started": "2021-11-25T16:30:54.613755Z",
          "shell.execute_reply": "2021-11-25T16:30:54.620675Z"
        },
        "trusted": true,
        "id": "so91ZUFn-QjO",
        "colab": {
          "base_uri": "https://localhost:8080/"
        },
        "outputId": "3942144b-e866-4886-c08d-2252a77a9bd5"
      },
      "source": [
        "bankruptcy_df['Bankrupt?'].value_counts()"
      ],
      "execution_count": 69,
      "outputs": [
        {
          "output_type": "execute_result",
          "data": {
            "text/plain": [
              "0    6599\n",
              "1     220\n",
              "Name: Bankrupt?, dtype: int64"
            ]
          },
          "metadata": {},
          "execution_count": 69
        }
      ]
    },
    {
      "cell_type": "markdown",
      "metadata": {
        "id": "wZMDmQwdAUmt"
      },
      "source": [
        "Βλέπουμε ότι το dataset είναι υπερβολικά unbalanced, με τις εταιρείες που χρεοκόπησαν να είναι η μειοψηφία."
      ]
    },
    {
      "cell_type": "code",
      "metadata": {
        "execution": {
          "iopub.status.busy": "2021-11-25T16:30:54.622686Z",
          "iopub.execute_input": "2021-11-25T16:30:54.62325Z",
          "iopub.status.idle": "2021-11-25T16:30:54.631922Z",
          "shell.execute_reply.started": "2021-11-25T16:30:54.623194Z",
          "shell.execute_reply": "2021-11-25T16:30:54.631327Z"
        },
        "trusted": true,
        "id": "PpxLzGBw-QjP"
      },
      "source": [
        "X = bankruptcy_df.iloc[:,1:96]\n",
        "y = bankruptcy_df.iloc[:,0]"
      ],
      "execution_count": 70,
      "outputs": []
    },
    {
      "cell_type": "code",
      "metadata": {
        "execution": {
          "iopub.status.busy": "2021-11-25T16:30:54.633087Z",
          "iopub.execute_input": "2021-11-25T16:30:54.633916Z",
          "iopub.status.idle": "2021-11-25T16:30:54.644969Z",
          "shell.execute_reply.started": "2021-11-25T16:30:54.633871Z",
          "shell.execute_reply": "2021-11-25T16:30:54.644269Z"
        },
        "trusted": true,
        "id": "5sEFBJll-QjR",
        "colab": {
          "base_uri": "https://localhost:8080/"
        },
        "outputId": "de069344-9e20-43c6-ce82-4a414b27b0f7"
      },
      "source": [
        "X.shape"
      ],
      "execution_count": 71,
      "outputs": [
        {
          "output_type": "execute_result",
          "data": {
            "text/plain": [
              "(6819, 95)"
            ]
          },
          "metadata": {},
          "execution_count": 71
        }
      ]
    },
    {
      "cell_type": "code",
      "metadata": {
        "execution": {
          "iopub.status.busy": "2021-11-25T16:30:54.646014Z",
          "iopub.execute_input": "2021-11-25T16:30:54.646482Z",
          "iopub.status.idle": "2021-11-25T16:30:54.656262Z",
          "shell.execute_reply.started": "2021-11-25T16:30:54.646448Z",
          "shell.execute_reply": "2021-11-25T16:30:54.655083Z"
        },
        "trusted": true,
        "id": "xxGS1_7q-QjS",
        "colab": {
          "base_uri": "https://localhost:8080/"
        },
        "outputId": "5675697a-37b2-4bf9-91f5-1a54ccdc557d"
      },
      "source": [
        "y.shape"
      ],
      "execution_count": 72,
      "outputs": [
        {
          "output_type": "execute_result",
          "data": {
            "text/plain": [
              "(6819,)"
            ]
          },
          "metadata": {},
          "execution_count": 72
        }
      ]
    },
    {
      "cell_type": "markdown",
      "metadata": {
        "id": "p9p6TzZwM4SG"
      },
      "source": [
        "#Out of box classifiers"
      ]
    },
    {
      "cell_type": "markdown",
      "metadata": {
        "id": "342tHhkuBddp"
      },
      "source": [
        "Θα τρέξουμε τους ταξινομητές μας για διάφορα train test split για να δούμε ποιό εξυπηρετεί καλύτερα το dataset."
      ]
    },
    {
      "cell_type": "code",
      "metadata": {
        "execution": {
          "iopub.status.busy": "2021-11-25T16:30:54.657185Z",
          "iopub.execute_input": "2021-11-25T16:30:54.657848Z",
          "iopub.status.idle": "2021-11-25T16:30:54.666452Z",
          "shell.execute_reply.started": "2021-11-25T16:30:54.657816Z",
          "shell.execute_reply": "2021-11-25T16:30:54.665632Z"
        },
        "trusted": true,
        "id": "kKZQjswZ-Qjc"
      },
      "source": [
        "out_of_the_box_data = {}"
      ],
      "execution_count": 73,
      "outputs": []
    },
    {
      "cell_type": "markdown",
      "metadata": {
        "id": "KAt3BM_vBrK-"
      },
      "source": [
        "##MLP"
      ]
    },
    {
      "cell_type": "code",
      "metadata": {
        "execution": {
          "iopub.status.busy": "2021-11-25T16:30:54.668112Z",
          "iopub.execute_input": "2021-11-25T16:30:54.668684Z",
          "iopub.status.idle": "2021-11-25T16:31:27.49427Z",
          "shell.execute_reply.started": "2021-11-25T16:30:54.668643Z",
          "shell.execute_reply": "2021-11-25T16:31:27.493443Z"
        },
        "trusted": true,
        "id": "LPryWCAR-Qje",
        "colab": {
          "base_uri": "https://localhost:8080/"
        },
        "outputId": "b21481b6-6153-4a96-95f6-293182661b3d"
      },
      "source": [
        "test_splits = [0.15,0.2,0.25,0.3,0.4]\n",
        "\n",
        "for test_split in test_splits:\n",
        "    name = \"MLP_\"+ str(test_split)\n",
        "    X_train, X_test, y_train, y_test = train_test_split(X,y,test_size = test_split,random_state = 10)\n",
        "    clf = MLPClassifier(random_state=1, max_iter=300).fit(X_train, y_train)\n",
        "    predictions = clf.predict(X_test)\n",
        "    accuracy =accuracy_score(y_test,predictions)\n",
        "    recall = recall_score(y_test,predictions)\n",
        "    f1 = f1_score(y_test,predictions,average='macro')\n",
        "    accuracy_score_balanced = balanced_accuracy_score(y_test,predictions)\n",
        "    out_of_the_box_data[name] = (predictions,accuracy,recall,f1,accuracy_score_balanced)\n",
        "    print(\"For test size \",test_split, \" Accuracy : \",accuracy)\n",
        "    print(\"For test size \",test_split, \" Recall :   \",recall)\n",
        "    print(\"For test size \",test_split, \" F1 :       \",f1)\n",
        "    print(\"For test size \",test_split, \" balanced_accuracy_score :       \",accuracy_score_balanced)\n"
      ],
      "execution_count": 74,
      "outputs": [
        {
          "output_type": "stream",
          "name": "stdout",
          "text": [
            "For test size  0.15  Accuracy :  0.9550342130987293\n",
            "For test size  0.15  Recall :    0.02631578947368421\n",
            "For test size  0.15  F1 :        0.509321821821822\n",
            "For test size  0.15  balanced_accuracy_score :        0.5085893668180604\n",
            "For test size  0.2  Accuracy :  0.9413489736070382\n",
            "For test size  0.2  Recall :    0.09803921568627451\n",
            "For test size  0.2  F1 :        0.5403925532811052\n",
            "For test size  0.2  balanced_accuracy_score :        0.5360721592521244\n",
            "For test size  0.25  Accuracy :  0.9249266862170088\n",
            "For test size  0.25  Recall :    0.05\n",
            "For test size  0.25  F1 :        0.502852040165473\n",
            "For test size  0.25  balanced_accuracy_score :        0.503419452887538\n",
            "For test size  0.3  Accuracy :  0.9389051808406648\n",
            "For test size  0.3  Recall :    0.0684931506849315\n",
            "For test size  0.3  F1 :        0.5212422430011513\n",
            "For test size  0.3  balanced_accuracy_score :        0.5198015677398302\n",
            "For test size  0.4  Accuracy :  0.9149560117302052\n",
            "For test size  0.4  Recall :    0.16129032258064516\n",
            "For test size  0.4  F1 :        0.5349184467103851\n",
            "For test size  0.4  balanced_accuracy_score :        0.5514231499051233\n"
          ]
        }
      ]
    },
    {
      "cell_type": "markdown",
      "metadata": {
        "id": "uJmkcMpPBtVJ"
      },
      "source": [
        "##SVC"
      ]
    },
    {
      "cell_type": "code",
      "metadata": {
        "execution": {
          "iopub.status.busy": "2021-11-25T16:31:27.49574Z",
          "iopub.execute_input": "2021-11-25T16:31:27.496664Z",
          "iopub.status.idle": "2021-11-25T16:31:32.546715Z",
          "shell.execute_reply.started": "2021-11-25T16:31:27.496613Z",
          "shell.execute_reply": "2021-11-25T16:31:32.545882Z"
        },
        "trusted": true,
        "id": "NCEyE91q-Qjf",
        "colab": {
          "base_uri": "https://localhost:8080/"
        },
        "outputId": "54f98a77-6b5c-40f3-ce03-db5aff72bc61"
      },
      "source": [
        "for test_split in test_splits:\n",
        "    name = \"SVC_\"+ str(test_split)\n",
        "    X_train, X_test, y_train, y_test = train_test_split(X,y,test_size = test_split,random_state = 10)\n",
        "    clf = SVC().fit(X_train, y_train)\n",
        "    predictions = clf.predict(X_test)\n",
        "    accuracy =accuracy_score(y_test,predictions)\n",
        "    recall = recall_score(y_test,predictions)\n",
        "    f1 = f1_score(y_test,predictions,average='macro')\n",
        "    accuracy_score_balanced =balanced_accuracy_score(y_test,predictions)\n",
        "    out_of_the_box_data[name] = (predictions,accuracy,recall,f1,accuracy_score_balanced)\n",
        "    print(\"For test size \",test_split, \" Accuracy : \",accuracy)\n",
        "    print(\"For test size \",test_split, \" Recall :   \",recall)\n",
        "    print(\"For test size \",test_split, \" F1 :       \",f1)\n",
        "    print(\"For test size \",test_split, \" balanced_accuracy_score :       \",accuracy_score_balanced)"
      ],
      "execution_count": 75,
      "outputs": [
        {
          "output_type": "stream",
          "name": "stdout",
          "text": [
            "For test size  0.15  Accuracy :  0.9628543499511242\n",
            "For test size  0.15  Recall :    0.0\n",
            "For test size  0.15  F1 :        0.4905378486055777\n",
            "For test size  0.15  balanced_accuracy_score :        0.5\n",
            "For test size  0.2  Accuracy :  0.9626099706744868\n",
            "For test size  0.2  Recall :    0.0\n",
            "For test size  0.2  F1 :        0.4904744116548375\n",
            "For test size  0.2  balanced_accuracy_score :        0.5\n",
            "For test size  0.25  Accuracy :  0.9648093841642229\n",
            "For test size  0.25  Recall :    0.0\n",
            "For test size  0.25  F1 :        0.491044776119403\n",
            "For test size  0.25  balanced_accuracy_score :        0.5\n",
            "For test size  0.3  Accuracy :  0.9643206256109482\n",
            "For test size  0.3  Recall :    0.0\n",
            "For test size  0.3  F1 :        0.4909181388405076\n",
            "For test size  0.3  balanced_accuracy_score :        0.5\n",
            "For test size  0.4  Accuracy :  0.9659090909090909\n",
            "For test size  0.4  Recall :    0.0\n",
            "For test size  0.4  F1 :        0.49132947976878616\n",
            "For test size  0.4  balanced_accuracy_score :        0.5\n"
          ]
        }
      ]
    },
    {
      "cell_type": "markdown",
      "metadata": {
        "id": "NhkbuT0sBqST"
      },
      "source": [
        "##BAR PLOTS"
      ]
    },
    {
      "cell_type": "markdown",
      "metadata": {
        "id": "zEVKHBDFBw_K"
      },
      "source": [
        "###BAR PLOT FUNCTION DEFINITION"
      ]
    },
    {
      "cell_type": "code",
      "metadata": {
        "execution": {
          "iopub.status.busy": "2021-11-25T16:35:21.951547Z",
          "iopub.execute_input": "2021-11-25T16:35:21.952066Z",
          "iopub.status.idle": "2021-11-25T16:35:21.959794Z",
          "shell.execute_reply.started": "2021-11-25T16:35:21.95203Z",
          "shell.execute_reply": "2021-11-25T16:35:21.959057Z"
        },
        "trusted": true,
        "id": "yay4XjSw-Qjg"
      },
      "source": [
        "def BarPlots(keys,accuracies,recalls,F1s,balanced_accs):\n",
        "  fig, (ax1, ax2,ax3,ax4) = plt.subplots(1,4,figsize=(18,6))\n",
        "\n",
        "\n",
        "  ax1.tick_params(axis='x', rotation=45)\n",
        "  ax1.set_title('Accuracies')\n",
        "  ax1.bar(keys, accuracies)\n",
        "    \n",
        "    \n",
        "  ax2.tick_params(axis='x', rotation=45)\n",
        "  ax2.set_title('Recall')\n",
        "  ax2.bar(keys, recalls)\n",
        "\n",
        "  ax3.tick_params(axis='x', rotation=45)\n",
        "  ax3.set_title('F1 Macro')\n",
        "  ax3.bar(keys, F1s)\n",
        "    \n",
        "  ax4.tick_params(axis='x', rotation=45)\n",
        "  ax4.set_title('balanced_accuracy_score')\n",
        "  ax4.bar(keys, balanced_accs)\n",
        "\n"
      ],
      "execution_count": 76,
      "outputs": []
    },
    {
      "cell_type": "code",
      "metadata": {
        "execution": {
          "iopub.status.busy": "2021-11-25T16:35:25.445773Z",
          "iopub.execute_input": "2021-11-25T16:35:25.446073Z",
          "iopub.status.idle": "2021-11-25T16:35:26.151025Z",
          "shell.execute_reply.started": "2021-11-25T16:35:25.446041Z",
          "shell.execute_reply": "2021-11-25T16:35:26.150223Z"
        },
        "trusted": true,
        "id": "Ha3FjbVN-Qjh"
      },
      "source": [
        "out_of_the_box_accuracies =[]\n",
        "out_of_the_box_F1s =[]\n",
        "out_of_the_box_recalls = []\n",
        "out_of_the_box_recalls_balanced_acs =[]\n",
        "for key in out_of_the_box_data:\n",
        "    out_of_the_box_accuracies.append(out_of_the_box_data[key][1])\n",
        "    out_of_the_box_recalls.append(out_of_the_box_data[key][2])\n",
        "    out_of_the_box_F1s.append(out_of_the_box_data[key][3])\n",
        "    out_of_the_box_recalls_balanced_acs.append(out_of_the_box_data[key][4])\n",
        "\n",
        "    \n"
      ],
      "execution_count": 77,
      "outputs": []
    },
    {
      "cell_type": "code",
      "metadata": {
        "colab": {
          "base_uri": "https://localhost:8080/",
          "height": 421
        },
        "id": "boaFysXhtB2J",
        "outputId": "730853e4-ecf9-46f7-d216-dbab99b948f9"
      },
      "source": [
        "BarPlots(out_of_the_box_data.keys(),out_of_the_box_accuracies,out_of_the_box_recalls,out_of_the_box_F1s,out_of_the_box_recalls_balanced_acs)"
      ],
      "execution_count": 78,
      "outputs": [
        {
          "output_type": "display_data",
          "data": {
            "image/png": "[encoded data removed]",
            "text/plain": [
              "<Figure size 1296x432 with 4 Axes>"
            ]
          },
          "metadata": {
            "needs_background": "light"
          }
        }
      ]
    },
    {
      "cell_type": "markdown",
      "metadata": {
        "id": "yBXM6KQADSns"
      },
      "source": [
        "##MARK DOWN TABLE"
      ]
    },
    {
      "cell_type": "markdown",
      "metadata": {
        "id": "4rpdzHWKDVRe"
      },
      "source": [
        "###MARK DOWN FUNCTION DEFINITION"
      ]
    },
    {
      "cell_type": "code",
      "metadata": {
        "execution": {
          "iopub.status.busy": "2021-11-25T16:20:55.205953Z",
          "iopub.execute_input": "2021-11-25T16:20:55.206377Z",
          "iopub.status.idle": "2021-11-25T16:20:55.216699Z",
          "shell.execute_reply.started": "2021-11-25T16:20:55.206339Z",
          "shell.execute_reply": "2021-11-25T16:20:55.216017Z"
        },
        "trusted": true,
        "id": "wBDVubJl-Qji"
      },
      "source": [
        "def markdownGenerator():\n",
        "  names = ['Accuracies','Recall','F1','Balanced Accuracy Score']\n",
        "  header = '| |'\n",
        "  for name in names:\n",
        "    header = header+\" \" +name+' |'\n",
        "\n",
        "  print(header)\n",
        "\n",
        "  split = '|--|'\n",
        "  for _ in names:\n",
        "    split = split+ '--|'\n",
        "\n",
        "  print(split)\n",
        "  keys = out_of_the_box_data.keys()\n",
        "  for key in keys:\n",
        "    line = '|'+key+'|'\n",
        "    for i in range(1,5):\n",
        "        line = line+ str(out_of_the_box_data[key][i]) + '|'\n",
        "    print(line)\n"
      ],
      "execution_count": null,
      "outputs": []
    },
    {
      "cell_type": "code",
      "metadata": {
        "colab": {
          "base_uri": "https://localhost:8080/"
        },
        "id": "QHsxQqg1tVPV",
        "outputId": "33b2bfbd-89df-47d7-a2ab-23fe203031df"
      },
      "source": [
        "markdownGenerator()"
      ],
      "execution_count": 80,
      "outputs": [
        {
          "output_type": "stream",
          "name": "stdout",
          "text": [
            "| | Accuracies | Recall | F1 | Balanced Accuracy Score |\n",
            "|--|--|--|--|--|\n",
            "|MLP_0.15|0.9550342130987293|0.02631578947368421|0.509321821821822|0.5085893668180604|\n",
            "|MLP_0.2|0.9413489736070382|0.09803921568627451|0.5403925532811052|0.5360721592521244|\n",
            "|MLP_0.25|0.9249266862170088|0.05|0.502852040165473|0.503419452887538|\n",
            "|MLP_0.3|0.9389051808406648|0.0684931506849315|0.5212422430011513|0.5198015677398302|\n",
            "|MLP_0.4|0.9149560117302052|0.16129032258064516|0.5349184467103851|0.5514231499051233|\n",
            "|SVC_0.15|0.9628543499511242|0.0|0.4905378486055777|0.5|\n",
            "|SVC_0.2|0.9626099706744868|0.0|0.4904744116548375|0.5|\n",
            "|SVC_0.25|0.9648093841642229|0.0|0.491044776119403|0.5|\n",
            "|SVC_0.3|0.9643206256109482|0.0|0.4909181388405076|0.5|\n",
            "|SVC_0.4|0.9659090909090909|0.0|0.49132947976878616|0.5|\n"
          ]
        }
      ]
    },
    {
      "cell_type": "markdown",
      "metadata": {
        "id": "PLWnTbzb-Qjj"
      },
      "source": [
        "| | Accuracies | Recall | F1 | Balanced Accuracy Score |\n",
        "|--|--|--|--|--|\n",
        "|MLP_0.15|0.9550342130987293|0.02631578947368421|0.509321821821822|0.5085893668180604|\n",
        "|MLP_0.2|0.9413489736070382|0.09803921568627451|0.5403925532811052|0.5360721592521244|\n",
        "|MLP_0.25|0.9249266862170088|0.05|0.502852040165473|0.503419452887538|\n",
        "|MLP_0.3|0.9389051808406648|0.0684931506849315|0.5212422430011513|0.5198015677398302|\n",
        "|MLP_0.4|0.9149560117302052|0.16129032258064516|0.5349184467103851|0.5514231499051233|\n",
        "|SVC_0.15|0.9628543499511242|0.0|0.4905378486055777|0.5|\n",
        "|SVC_0.2|0.9626099706744868|0.0|0.4904744116548375|0.5|\n",
        "|SVC_0.25|0.9648093841642229|0.0|0.491044776119403|0.5|\n",
        "|SVC_0.3|0.9643206256109482|0.0|0.4909181388405076|0.5|\n",
        "|SVC_0.4|0.9659090909090909|0.0|0.49132947976878616|0.5|\n",
        "\n"
      ]
    },
    {
      "cell_type": "markdown",
      "metadata": {
        "id": "fz23433l-Qjk"
      },
      "source": [
        "Τα συνεχή μηδενικά στον SVC είναι λίγο ύποπτα, οπότε κάνουμε έναν έλεγχο."
      ]
    },
    {
      "cell_type": "code",
      "metadata": {
        "execution": {
          "iopub.status.busy": "2021-11-25T16:20:55.218221Z",
          "iopub.execute_input": "2021-11-25T16:20:55.218664Z",
          "iopub.status.idle": "2021-11-25T16:20:55.22612Z",
          "shell.execute_reply.started": "2021-11-25T16:20:55.218625Z",
          "shell.execute_reply": "2021-11-25T16:20:55.225354Z"
        },
        "trusted": true,
        "id": "SrE5ODCl-Qjk",
        "colab": {
          "base_uri": "https://localhost:8080/"
        },
        "outputId": "e20be500-8f58-48ff-f3fd-06e45d5175f2"
      },
      "source": [
        "len(out_of_the_box_data['SVC_0.15'][0])"
      ],
      "execution_count": null,
      "outputs": [
        {
          "output_type": "execute_result",
          "data": {
            "text/plain": [
              "1023"
            ]
          },
          "metadata": {},
          "execution_count": 20
        }
      ]
    },
    {
      "cell_type": "code",
      "metadata": {
        "execution": {
          "iopub.status.busy": "2021-11-25T16:20:55.227416Z",
          "iopub.execute_input": "2021-11-25T16:20:55.227614Z",
          "iopub.status.idle": "2021-11-25T16:20:55.235505Z",
          "shell.execute_reply.started": "2021-11-25T16:20:55.227585Z",
          "shell.execute_reply": "2021-11-25T16:20:55.234594Z"
        },
        "trusted": true,
        "id": "Qz1EsQsO-Qjn",
        "colab": {
          "base_uri": "https://localhost:8080/"
        },
        "outputId": "906ffbe7-c363-4686-8a71-0cdcd7e0ddee"
      },
      "source": [
        "np.count_nonzero(out_of_the_box_data['SVC_0.15'][0])"
      ],
      "execution_count": null,
      "outputs": [
        {
          "output_type": "execute_result",
          "data": {
            "text/plain": [
              "0"
            ]
          },
          "metadata": {},
          "execution_count": 21
        }
      ]
    },
    {
      "cell_type": "markdown",
      "metadata": {
        "id": "0GDgb0DoDleb"
      },
      "source": [
        "##Συμπεράσματα"
      ]
    },
    {
      "cell_type": "markdown",
      "metadata": {
        "id": "UnDxVDJe-Qjo"
      },
      "source": [
        "Βλέπουμε ότι καθώς το dataset είναι πάρα πολύ unbalanced, και οι δύο Classifiers, αλλα κυρίως ο SVC αναγνωρίζει ότι εάν τείνει στον dummy constant 0 θα βρεί αρκετά καλό accuracy. Για αυτό τον λόγο θα δουλέψουμε με recall , F1 και balanced accuracy score. Από τις παραπάνω δοκιμές βλέπουμε ότι η καλύτερη τιμή του test score για τις μετρικές που μας ενδιαφέρουν είναι 60% - 40 %.  "
      ]
    },
    {
      "cell_type": "markdown",
      "metadata": {
        "id": "GDvDfgntPJiO"
      },
      "source": [
        "#Data process"
      ]
    },
    {
      "cell_type": "markdown",
      "metadata": {
        "id": "woDpsTBOXtDR"
      },
      "source": [
        "##Correlation Threshold"
      ]
    },
    {
      "cell_type": "markdown",
      "metadata": {
        "id": "kwCivwa3m9ge"
      },
      "source": [
        "Με μία πρώτη ανάγνωση του dataset βλέπουμε ότι υπάρχουν αρκετές παράμετροι έχουν ισχυρό συσχετισμό μεταξύ τους. Για αυτό τον λόγο θεωρήσαμε ότι θα ήταν καλό να κάνουμε drop τις στήλες που ευθύνονται για μικρό ποσοστό του variance. Για αυτόν τον λόγο θα χρησιμοποιήσουμε μία συνάρτηση από το stack overflow που κάνει αυτή την δουλειά."
      ]
    },
    {
      "cell_type": "code",
      "metadata": {
        "execution": {
          "iopub.status.busy": "2021-11-25T16:20:55.236846Z",
          "iopub.execute_input": "2021-11-25T16:20:55.237186Z",
          "iopub.status.idle": "2021-11-25T16:20:55.247377Z",
          "shell.execute_reply.started": "2021-11-25T16:20:55.237148Z",
          "shell.execute_reply": "2021-11-25T16:20:55.246475Z"
        },
        "trusted": true,
        "id": "xuVE5Ts3-Qjp"
      },
      "source": [
        "#https://stackoverflow.com/a/51658973/11333604\n",
        "\n",
        "def corr_df(x, corr_val=0.6):\n",
        "    '''\n",
        "    Obj: Drops features that are strongly correlated to other features.\n",
        "          This lowers model complexity, and aids in generalizing the model.\n",
        "    Inputs:\n",
        "          df: features df (x)\n",
        "          corr_val: Columns are dropped relative to the corr_val input (e.g. 0.8)\n",
        "    Output: df that only includes uncorrelated features\n",
        "    '''\n",
        "\n",
        "    # Creates Correlation Matrix and Instantiates\n",
        "    corr_matrix = x.corr()\n",
        "    iters = range(len(corr_matrix.columns) - 1)\n",
        "    drop_cols = []\n",
        "\n",
        "    # Iterates through Correlation Matrix Table to find correlated columns\n",
        "    for i in iters:\n",
        "        for j in range(i):\n",
        "            item = corr_matrix.iloc[j:(j+1), (i+1):(i+2)]\n",
        "            col = item.columns\n",
        "            row = item.index\n",
        "            val = item.values\n",
        "            if abs(val) >= corr_val:\n",
        "                # Prints the correlated feature set and the corr val\n",
        "                print(col.values[0], \"|\", row.values[0], \"|\", round(val[0][0], 2))\n",
        "                drop_cols.append(i)\n",
        "\n",
        "    drops = sorted(set(drop_cols))[::-1]\n",
        "\n",
        "    # Drops the correlated columns\n",
        "    for i in drops:\n",
        "        col = x.iloc[:, (i+1):(i+2)].columns.values\n",
        "        x = x.drop(col, axis=1)\n",
        "    return x"
      ],
      "execution_count": null,
      "outputs": []
    },
    {
      "cell_type": "code",
      "metadata": {
        "colab": {
          "base_uri": "https://localhost:8080/"
        },
        "id": "7AVCoFTNOzcD",
        "outputId": "fc792859-e8da-4957-887f-2b399a7c20e0"
      },
      "source": [
        "X = corr_df(X)"
      ],
      "execution_count": null,
      "outputs": [
        {
          "output_type": "stream",
          "name": "stdout",
          "text": [
            " ROA(B) before interest and depreciation after tax |  ROA(C) before interest and depreciation before interest | 0.99\n",
            " After-tax net Interest Rate |  Operating Profit Rate | 0.86\n",
            " Continuous interest rate (after tax) |  Operating Profit Rate | 0.92\n",
            " Continuous interest rate (after tax) |  Pre-tax net Interest Rate | 0.99\n",
            " Continuous interest rate (after tax) |  After-tax net Interest Rate | 0.98\n",
            " Net Value Per Share (C) |  Net Value Per Share (B) | 1.0\n",
            " Persistent EPS in the Last Four Seasons |  ROA(C) before interest and depreciation before interest | 0.78\n",
            " Persistent EPS in the Last Four Seasons |  ROA(A) before interest and % after tax | 0.76\n",
            " Persistent EPS in the Last Four Seasons |  ROA(B) before interest and depreciation after tax | 0.76\n",
            " Persistent EPS in the Last Four Seasons |  Net Value Per Share (B) | 0.76\n",
            " Persistent EPS in the Last Four Seasons |  Net Value Per Share (A) | 0.76\n",
            " Operating Profit Per Share (Yuan ¥) |  ROA(C) before interest and depreciation before interest | 0.69\n",
            " Operating Profit Per Share (Yuan ¥) |  ROA(A) before interest and % after tax | 0.65\n",
            " Operating Profit Per Share (Yuan ¥) |  ROA(B) before interest and depreciation after tax | 0.66\n",
            " Operating Profit Per Share (Yuan ¥) |  Net Value Per Share (B) | 0.61\n",
            " Operating Profit Per Share (Yuan ¥) |  Net Value Per Share (A) | 0.61\n",
            " Operating Profit Per Share (Yuan ¥) |  Net Value Per Share (C) | 0.61\n",
            " Operating Profit Per Share (Yuan ¥) |  Persistent EPS in the Last Four Seasons | 0.88\n",
            " Per Share Net profit before tax (Yuan ¥) |  ROA(C) before interest and depreciation before interest | 0.75\n",
            " Per Share Net profit before tax (Yuan ¥) |  ROA(A) before interest and % after tax | 0.75\n",
            " Per Share Net profit before tax (Yuan ¥) |  ROA(B) before interest and depreciation after tax | 0.72\n",
            " Per Share Net profit before tax (Yuan ¥) |  Net Value Per Share (B) | 0.73\n",
            " Per Share Net profit before tax (Yuan ¥) |  Net Value Per Share (A) | 0.73\n",
            " Per Share Net profit before tax (Yuan ¥) |  Net Value Per Share (C) | 0.73\n",
            " Per Share Net profit before tax (Yuan ¥) |  Persistent EPS in the Last Four Seasons | 0.96\n",
            " Regular Net Profit Growth Rate |  Operating Profit Growth Rate | 0.64\n",
            " Cash Reinvestment % |  Cash Flow Per Share | 0.65\n",
            " Operating profit/Paid-in capital |  ROA(C) before interest and depreciation before interest | 0.69\n",
            " Operating profit/Paid-in capital |  ROA(A) before interest and % after tax | 0.65\n",
            " Operating profit/Paid-in capital |  ROA(B) before interest and depreciation after tax | 0.66\n",
            " Operating profit/Paid-in capital |  Net Value Per Share (B) | 0.6\n",
            " Operating profit/Paid-in capital |  Net Value Per Share (A) | 0.6\n",
            " Operating profit/Paid-in capital |  Net Value Per Share (C) | 0.6\n",
            " Operating profit/Paid-in capital |  Persistent EPS in the Last Four Seasons | 0.87\n",
            " Operating profit/Paid-in capital |  Operating Profit Per Share (Yuan ¥) | 1.0\n",
            " Operating profit/Paid-in capital |  Per Share Net profit before tax (Yuan ¥) | 0.86\n",
            " Net profit before tax/Paid-in capital |  ROA(C) before interest and depreciation before interest | 0.75\n",
            " Net profit before tax/Paid-in capital |  ROA(A) before interest and % after tax | 0.76\n",
            " Net profit before tax/Paid-in capital |  ROA(B) before interest and depreciation after tax | 0.73\n",
            " Net profit before tax/Paid-in capital |  Net Value Per Share (B) | 0.71\n",
            " Net profit before tax/Paid-in capital |  Net Value Per Share (A) | 0.71\n",
            " Net profit before tax/Paid-in capital |  Net Value Per Share (C) | 0.71\n",
            " Net profit before tax/Paid-in capital |  Persistent EPS in the Last Four Seasons | 0.96\n",
            " Net profit before tax/Paid-in capital |  Operating Profit Per Share (Yuan ¥) | 0.89\n",
            " Net profit before tax/Paid-in capital |  Per Share Net profit before tax (Yuan ¥) | 0.96\n",
            " Inventory and accounts receivable/Net value |  Borrowing dependency | 0.7\n",
            " Net Worth Turnover Rate (times) |  Total Asset Turnover | 0.76\n",
            " Current Assets/Total Assets |  Working Capital to Total Assets | 0.71\n",
            " Current Liability to Assets |  Debt ratio % | 0.84\n",
            " Current Liability to Assets |  Net worth/Assets | -0.84\n",
            " Operating Funds to Liability |  Cash flow rate | 0.88\n",
            " Working Capital/Equity |  Contingent liabilities/Net worth | -0.77\n",
            " Current Liabilities/Equity |  Borrowing dependency | 0.89\n",
            " Current Liabilities/Equity |  Contingent liabilities/Net worth | 0.62\n",
            " Current Liabilities/Equity |  Inventory and accounts receivable/Net value | 0.66\n",
            " Retained Earnings to Total Assets |  ROA(C) before interest and depreciation before interest | 0.65\n",
            " Retained Earnings to Total Assets |  ROA(A) before interest and % after tax | 0.72\n",
            " Retained Earnings to Total Assets |  ROA(B) before interest and depreciation after tax | 0.67\n",
            " Working capitcal Turnover Rate |  Non-industry income and expenditure/revenue | 0.74\n",
            " Cash Flow to Sales |  Non-industry income and expenditure/revenue | 0.68\n",
            " Cash Flow to Sales |  Working capitcal Turnover Rate | 0.95\n",
            " Current Liability to Liability |  Current Liabilities/Liability | 1.0\n",
            " Current Liability to Equity |  Borrowing dependency | 0.89\n",
            " Current Liability to Equity |  Contingent liabilities/Net worth | 0.62\n",
            " Current Liability to Equity |  Inventory and accounts receivable/Net value | 0.66\n",
            " Current Liability to Equity |  Working Capital/Equity | -0.69\n",
            " Current Liability to Equity |  Current Liabilities/Equity | 1.0\n",
            " Equity to Long-term Liability |  Borrowing dependency | 0.81\n",
            " CFO to Assets |  Cash flow rate | 0.6\n",
            " CFO to Assets |  Cash Flow Per Share | 0.72\n",
            " CFO to Assets |  Cash Reinvestment % | 0.74\n",
            " CFO to Assets |  Operating Funds to Liability | 0.7\n",
            " Current Liability to Current Assets |  Working Capital to Total Assets | -0.63\n",
            " Net Income to Total Assets |  ROA(C) before interest and depreciation before interest | 0.89\n",
            " Net Income to Total Assets |  ROA(A) before interest and % after tax | 0.96\n",
            " Net Income to Total Assets |  ROA(B) before interest and depreciation after tax | 0.91\n",
            " Net Income to Total Assets |  Persistent EPS in the Last Four Seasons | 0.69\n",
            " Net Income to Total Assets |  Per Share Net profit before tax (Yuan ¥) | 0.67\n",
            " Net Income to Total Assets |  Net profit before tax/Paid-in capital | 0.68\n",
            " Net Income to Total Assets |  Retained Earnings to Total Assets | 0.79\n",
            " Gross Profit to Sales |  Operating Gross Margin | 1.0\n",
            " Gross Profit to Sales |  Realized Sales Gross Margin | 1.0\n",
            " Net Income to Stockholder's Equity |  Borrowing dependency | -0.81\n",
            " Net Income to Stockholder's Equity |  Current Liabilities/Equity | -0.75\n",
            " Net Income to Stockholder's Equity |  Current Liability to Equity | -0.75\n",
            " Net Income to Stockholder's Equity |  Equity to Long-term Liability | -0.62\n",
            " Liability to Equity |  Borrowing dependency | 0.96\n",
            " Liability to Equity |  Contingent liabilities/Net worth | 0.62\n",
            " Liability to Equity |  Inventory and accounts receivable/Net value | 0.67\n",
            " Liability to Equity |  Working Capital/Equity | -0.65\n",
            " Liability to Equity |  Current Liabilities/Equity | 0.96\n",
            " Liability to Equity |  Current Liability to Equity | 0.96\n",
            " Liability to Equity |  Equity to Long-term Liability | 0.78\n",
            " Equity to Liability |  Debt ratio % | -0.63\n",
            " Equity to Liability |  Net worth/Assets | 0.63\n"
          ]
        }
      ]
    },
    {
      "cell_type": "code",
      "metadata": {
        "colab": {
          "base_uri": "https://localhost:8080/"
        },
        "id": "qfiWWMCAO26I",
        "outputId": "d772f6fa-61e7-42a8-bc3b-4dbabe056191"
      },
      "source": [
        "X.shape"
      ],
      "execution_count": null,
      "outputs": [
        {
          "output_type": "execute_result",
          "data": {
            "text/plain": [
              "(6819, 64)"
            ]
          },
          "metadata": {},
          "execution_count": 106
        }
      ]
    },
    {
      "cell_type": "markdown",
      "metadata": {
        "id": "KxK7EaCFoDOA"
      },
      "source": [
        "Βλέπουμε ότι κόβει περίπου 30 στοιχεία. το οποία λογικά θα κάνει την εκπαίδευση αρκετά πιο γρήγορη."
      ]
    },
    {
      "cell_type": "markdown",
      "metadata": {
        "id": "bq3KLdygWp9V"
      },
      "source": [
        "##Variance Threshold"
      ]
    },
    {
      "cell_type": "code",
      "metadata": {
        "id": "D6ca0Es-WqrD"
      },
      "source": [
        "selector = VarianceThreshold()\n",
        "X = selector.fit_transform(X)"
      ],
      "execution_count": null,
      "outputs": []
    },
    {
      "cell_type": "code",
      "metadata": {
        "colab": {
          "base_uri": "https://localhost:8080/"
        },
        "id": "DIfYwL0NWwE8",
        "outputId": "ac1abd5f-2fa7-4cb9-8231-3fa226770379"
      },
      "source": [
        "X.shape"
      ],
      "execution_count": null,
      "outputs": [
        {
          "output_type": "execute_result",
          "data": {
            "text/plain": [
              "(6819, 63)"
            ]
          },
          "metadata": {},
          "execution_count": 108
        }
      ]
    },
    {
      "cell_type": "markdown",
      "metadata": {
        "id": "EM-usurAoOPi"
      },
      "source": [
        "Το variance threshold κόβει μόνο μία στήλη."
      ]
    },
    {
      "cell_type": "markdown",
      "metadata": {
        "id": "KklsaJBQTifb"
      },
      "source": [
        "#Smote\n"
      ]
    },
    {
      "cell_type": "markdown",
      "metadata": {
        "id": "AEpZ-6uN-Qju"
      },
      "source": [
        "Το κυριότερο πρόβλημα του dataset είναι ότι είναι ακραία unbalanced. Για αυτό, όπως βλέπουμε και στο hottest kaggle notebook για αυτό το dataset, θα κάνουμε oversampling στην κλάση 1, για να έχουμε ίσο αριθμό instances. \n",
        "Θα τον SVC δοκιμάσουμε λοιπόν στα νέα δεδομένα, μιάς και ήταν το worst case scenario στην προηγούμενη περίπτωση. Test size θα βάλουμε 0.4, στο οποία είχαμε την καλύτεη συμπεριφορά του MLP."
      ]
    },
    {
      "cell_type": "code",
      "metadata": {
        "execution": {
          "iopub.status.busy": "2021-11-25T16:20:55.782709Z",
          "iopub.execute_input": "2021-11-25T16:20:55.783419Z",
          "iopub.status.idle": "2021-11-25T16:20:55.834462Z",
          "shell.execute_reply.started": "2021-11-25T16:20:55.783371Z",
          "shell.execute_reply": "2021-11-25T16:20:55.833669Z"
        },
        "trusted": true,
        "id": "SAoz9WeK-Qjw",
        "colab": {
          "base_uri": "https://localhost:8080/"
        },
        "outputId": "e7d4378d-34c3-448a-f483-da8466e21b13"
      },
      "source": [
        "sm = SMOTE(random_state=42)\n",
        "\n",
        "X_sm, y_sm = sm.fit_resample(X, y)\n",
        "\n",
        "print('New balance of 1 and 0 classes (%):')\n",
        "y_sm.value_counts()\n",
        "\n",
        "# https://www.kaggle.com/petrkolar/ml-workflow-0-99-f1"
      ],
      "execution_count": null,
      "outputs": [
        {
          "output_type": "stream",
          "name": "stdout",
          "text": [
            "New balance of 1 and 0 classes (%):\n"
          ]
        },
        {
          "output_type": "execute_result",
          "data": {
            "text/plain": [
              "1    6599\n",
              "0    6599\n",
              "Name: Bankrupt?, dtype: int64"
            ]
          },
          "metadata": {},
          "execution_count": 109
        }
      ]
    },
    {
      "cell_type": "markdown",
      "metadata": {
        "id": "9NZhnMayJkjK"
      },
      "source": [
        "####Smote SVC test"
      ]
    },
    {
      "cell_type": "code",
      "metadata": {
        "id": "wgaFpbd-Xfu-",
        "colab": {
          "base_uri": "https://localhost:8080/"
        },
        "outputId": "b4413388-4433-419f-ebab-b0884dabe716"
      },
      "source": [
        "test_split = 0.4\n",
        "X_train, X_test, y_train, y_test = train_test_split(X_sm,y_sm,test_size = test_split,random_state = 10)\n",
        "\n",
        "clf= SVC().fit(X_train, y_train)\n",
        "predictions = clf.predict(X_test)\n",
        "accuracy =accuracy_score(y_test,predictions)\n",
        "recall = recall_score(y_test,predictions)\n",
        "f1 = f1_score(y_test,predictions,average='macro')\n",
        "accuracy_score_balanced =balanced_accuracy_score(y_test,predictions)\n",
        "print(\"For test size \",test_split, \" Accuracy : \",accuracy)\n",
        "print(\"For test size \",test_split, \" Recall :   \",recall)\n",
        "print(\"For test size \",test_split, \" F1 :       \",f1)\n",
        "print(\"For test size \",test_split, \" balanced_accuracy_score :       \",accuracy_score_balanced)"
      ],
      "execution_count": null,
      "outputs": [
        {
          "output_type": "stream",
          "name": "stdout",
          "text": [
            "For test size  0.4  Accuracy :  0.8185606060606061\n",
            "For test size  0.4  Recall :    0.871264367816092\n",
            "For test size  0.4  F1 :        0.8182275809201057\n",
            "For test size  0.4  balanced_accuracy_score :        0.8191527831589823\n"
          ]
        }
      ]
    },
    {
      "cell_type": "markdown",
      "metadata": {
        "id": "5ZieVqzX-Qjz"
      },
      "source": [
        "Βλέπουμε φοβερή βελτίωση ως προς την συμπερφορά του ως προς τις προβλέψεις 0. Τώρα θα ψάξουμε και για τις υπόλοιπες υπερπαραμέτους. "
      ]
    },
    {
      "cell_type": "markdown",
      "metadata": {
        "id": "gZcaSIXFJnMl"
      },
      "source": [
        "#Optuna GridSearch"
      ]
    },
    {
      "cell_type": "markdown",
      "metadata": {
        "id": "AhY8cl2P-Qj0"
      },
      "source": [
        "Θα χρησιμοποιήσουμε το optuna για να βρούμε τις καλύτερες υπερπαραμέτρους."
      ]
    },
    {
      "cell_type": "code",
      "metadata": {
        "id": "lyNcLoup-Qj1"
      },
      "source": [
        "def objective(trial):\n",
        "  #PREPROCESSING\n",
        "  pipelineList =[]\n",
        "  StandardScalerChoice = trial.suggest_int('StandardScaler',0,1)\n",
        "  if StandardScalerChoice:\n",
        "          pipelineList.append(['scaler', StandardScaler()])\n",
        "\n",
        "\n",
        "  test_splits = trial.suggest_discrete_uniform('test size',0.1,0.4,0.1)\n",
        "  x_train,x_test,y_train,y_test = train_test_split(X_sm,y_sm,test_size=test_splits)\n",
        "\n",
        "\n",
        "  classifier_name = trial.suggest_categorical(\"classifier\", [\"SVC\",\"MLP\"])\n",
        "\n",
        "\n",
        "  if classifier_name == \"SVC\":\n",
        "    C = trial.suggest_loguniform('C', 1e-10, 1)\n",
        "    kernel = trial.suggest_categorical('kernel',['rbf','sigmoid'])\n",
        "    gamma = trial.suggest_categorical('gamma',['auto','scale'])\n",
        "    \n",
        "    pipelineList.append(['svc',SVC(C=C, kernel=kernel,gamma=gamma)])\n",
        "\n",
        "\n",
        "\n",
        "  if classifier_name == \"MLP\":\n",
        "\n",
        "    alpha = trial.suggest_loguniform('alpha',1e-13,1e-8)\n",
        "    solver = trial.suggest_categorical('solver',['sgd','adam'])\n",
        "    activation = trial.suggest_categorical('activation',['logistic','tanh','relu'])\n",
        "    learning_rate = trial.suggest_categorical('learning_rate',['constant','adaptive'])\n",
        "\n",
        "    pipelineList.append(['mlp',MLPClassifier(alpha=alpha, solver=solver, activation=activation,learning_rate=learning_rate)])\n",
        "\n",
        "  clf =Pipeline(steps = pipelineList) \n",
        "\n",
        "  clf.fit(x_train,y_train)\n",
        "\n",
        "  # Evaluate the model\n",
        "  y_pred_test = clf.predict(x_test)\n",
        "  accuracy =accuracy_score(y_test,y_pred_test)\n",
        "  f1 = f1_score(y_test,y_pred_test,average='macro')\n",
        "  return f1, accuracy\n",
        "  "
      ],
      "execution_count": null,
      "outputs": []
    },
    {
      "cell_type": "markdown",
      "metadata": {
        "id": "xiYv1Wmeolla"
      },
      "source": [
        "Θα σώσουμε τα trials σε ένα pickle αρχείο, όχι ως μέρος της άσκσησς αλλά για να μπορέσουμε να το αφήσουμε και να αναλύσουμε τα δεδομένα άλλη φορά."
      ]
    },
    {
      "cell_type": "code",
      "metadata": {
        "id": "9cwO0ybcJldk",
        "colab": {
          "base_uri": "https://localhost:8080/"
        },
        "outputId": "c9dbdcd8-6f13-4d1e-ac0f-30b1886ba1af"
      },
      "source": [
        "study = optuna.create_study(directions=['maximize','maximize'])\n",
        "\n",
        "study.optimize(objective, n_trials=200)\n",
        "\n",
        "\n",
        "studyFileName = 'drive/MyDrive/NEURAL/first/kaggle/study' \n",
        "outfile = open(studyFileName,'wb')\n",
        "pickle.dump(study.get_trials(),outfile)\n",
        "outfile.close()"
      ],
      "execution_count": null,
      "outputs": [
        {
          "output_type": "stream",
          "name": "stderr",
          "text": [
            "\u001b[32m[I 2021-12-02 18:40:45,948]\u001b[0m A new study created in memory with name: no-name-f5e230c1-7186-495d-a773-e6c61f2f9b1a\u001b[0m\n",
            "\u001b[32m[I 2021-12-02 18:40:54,321]\u001b[0m Trial 0 finished with values: [0.8234831421962766, 0.8265151515151515] and parameters: {'StandardScaler': 0, 'test size': 0.4, 'classifier': 'MLP', 'alpha': 2.4029040031714865e-13, 'solver': 'adam', 'activation': 'relu', 'learning_rate': 'adaptive'}. \u001b[0m\n",
            "\u001b[32m[I 2021-12-02 18:41:18,599]\u001b[0m Trial 1 finished with values: [0.6539663486413212, 0.6545454545454545] and parameters: {'StandardScaler': 0, 'test size': 0.1, 'classifier': 'MLP', 'alpha': 1.5391091063127621e-12, 'solver': 'sgd', 'activation': 'logistic', 'learning_rate': 'adaptive'}. \u001b[0m\n",
            "\u001b[32m[I 2021-12-02 18:41:20,664]\u001b[0m Trial 2 finished with values: [0.5920433473313396, 0.5920454545454545] and parameters: {'StandardScaler': 0, 'test size': 0.4, 'classifier': 'MLP', 'alpha': 8.253855370372395e-12, 'solver': 'adam', 'activation': 'tanh', 'learning_rate': 'constant'}. \u001b[0m\n",
            "\u001b[32m[I 2021-12-02 18:41:22,608]\u001b[0m Trial 3 finished with values: [0.5916893582572857, 0.5924242424242424] and parameters: {'StandardScaler': 0, 'test size': 0.1, 'classifier': 'MLP', 'alpha': 4.946263295005424e-10, 'solver': 'adam', 'activation': 'tanh', 'learning_rate': 'adaptive'}. \u001b[0m\n",
            "\u001b[32m[I 2021-12-02 18:41:33,545]\u001b[0m Trial 4 finished with values: [0.31712364200724263, 0.4643939393939394] and parameters: {'StandardScaler': 0, 'test size': 0.1, 'classifier': 'SVC', 'C': 0.01192107798646013, 'kernel': 'sigmoid', 'gamma': 'auto'}. \u001b[0m\n",
            "\u001b[32m[I 2021-12-02 18:41:45,081]\u001b[0m Trial 5 finished with values: [0.33198380566801616, 0.49696969696969695] and parameters: {'StandardScaler': 0, 'test size': 0.4, 'classifier': 'SVC', 'C': 4.0734332919428933e-10, 'kernel': 'sigmoid', 'gamma': 'scale'}. \u001b[0m\n",
            "\u001b[32m[I 2021-12-02 18:42:03,990]\u001b[0m Trial 6 finished with values: [0.33198380566801616, 0.49696969696969695] and parameters: {'StandardScaler': 0, 'test size': 0.1, 'classifier': 'SVC', 'C': 5.5586302505358384e-09, 'kernel': 'rbf', 'gamma': 'scale'}. \u001b[0m\n",
            "\u001b[32m[I 2021-12-02 18:42:17,114]\u001b[0m Trial 7 finished with values: [0.3299492385786802, 0.49242424242424243] and parameters: {'StandardScaler': 0, 'test size': 0.2, 'classifier': 'SVC', 'C': 2.2843091500720636e-09, 'kernel': 'rbf', 'gamma': 'auto'}. \u001b[0m\n",
            "\u001b[32m[I 2021-12-02 18:42:17,768]\u001b[0m Trial 8 finished with values: [0.3469677685541632, 0.5145833333333333] and parameters: {'StandardScaler': 0, 'test size': 0.4, 'classifier': 'MLP', 'alpha': 4.738979631252411e-09, 'solver': 'sgd', 'activation': 'relu', 'learning_rate': 'constant'}. \u001b[0m\n",
            "\u001b[32m[I 2021-12-02 18:42:28,132]\u001b[0m Trial 9 finished with values: [0.33324914761964897, 0.49981060606060607] and parameters: {'StandardScaler': 0, 'test size': 0.4, 'classifier': 'SVC', 'C': 0.0006750752341722539, 'kernel': 'rbf', 'gamma': 'auto'}. \u001b[0m\n",
            "\u001b[32m[I 2021-12-02 18:42:42,559]\u001b[0m Trial 10 finished with values: [0.9838346727898967, 0.9838383838383838] and parameters: {'StandardScaler': 1, 'test size': 0.30000000000000004, 'classifier': 'MLP', 'alpha': 3.101331211644446e-13, 'solver': 'adam', 'activation': 'relu', 'learning_rate': 'constant'}. \u001b[0m\n",
            "\u001b[32m[I 2021-12-02 18:43:00,831]\u001b[0m Trial 11 finished with values: [0.32755985736118187, 0.4871212121212121] and parameters: {'StandardScaler': 1, 'test size': 0.1, 'classifier': 'SVC', 'C': 3.4854608825260474e-07, 'kernel': 'rbf', 'gamma': 'auto'}. \u001b[0m\n",
            "/usr/local/lib/python3.7/dist-packages/sklearn/neural_network/_multilayer_perceptron.py:696: ConvergenceWarning:\n",
            "\n",
            "Stochastic Optimizer: Maximum iterations (200) reached and the optimization hasn't converged yet.\n",
            "\n",
            "\u001b[32m[I 2021-12-02 18:43:19,594]\u001b[0m Trial 12 finished with values: [0.6585733176608876, 0.6585858585858586] and parameters: {'StandardScaler': 0, 'test size': 0.30000000000000004, 'classifier': 'MLP', 'alpha': 7.3814401753163066e-09, 'solver': 'sgd', 'activation': 'logistic', 'learning_rate': 'adaptive'}. \u001b[0m\n",
            "\u001b[32m[I 2021-12-02 18:43:21,069]\u001b[0m Trial 13 finished with values: [0.48492063492063486, 0.48598484848484846] and parameters: {'StandardScaler': 0, 'test size': 0.4, 'classifier': 'MLP', 'alpha': 2.45255492903631e-12, 'solver': 'adam', 'activation': 'logistic', 'learning_rate': 'constant'}. \u001b[0m\n",
            "\u001b[32m[I 2021-12-02 18:43:35,598]\u001b[0m Trial 14 finished with values: [0.32342388518708354, 0.478030303030303] and parameters: {'StandardScaler': 0, 'test size': 0.1, 'classifier': 'SVC', 'C': 4.0327625186680925e-08, 'kernel': 'rbf', 'gamma': 'auto'}. \u001b[0m\n",
            "\u001b[32m[I 2021-12-02 18:43:46,582]\u001b[0m Trial 15 finished with values: [0.33198380566801616, 0.49696969696969695] and parameters: {'StandardScaler': 0, 'test size': 0.1, 'classifier': 'SVC', 'C': 4.021634422357695e-10, 'kernel': 'sigmoid', 'gamma': 'auto'}. \u001b[0m\n",
            "\u001b[32m[I 2021-12-02 18:44:02,777]\u001b[0m Trial 16 finished with values: [0.3324905183312263, 0.4981060606060606] and parameters: {'StandardScaler': 1, 'test size': 0.2, 'classifier': 'SVC', 'C': 2.4124175917029876e-07, 'kernel': 'rbf', 'gamma': 'auto'}. \u001b[0m\n",
            "\u001b[32m[I 2021-12-02 18:44:20,373]\u001b[0m Trial 17 finished with values: [0.8498697296196991, 0.8522727272727273] and parameters: {'StandardScaler': 1, 'test size': 0.1, 'classifier': 'SVC', 'C': 0.00031905157474440256, 'kernel': 'sigmoid', 'gamma': 'auto'}. \u001b[0m\n",
            "\u001b[32m[I 2021-12-02 18:44:34,021]\u001b[0m Trial 18 finished with values: [0.33187109836342166, 0.4967171717171717] and parameters: {'StandardScaler': 1, 'test size': 0.30000000000000004, 'classifier': 'SVC', 'C': 1.3544219733466798e-09, 'kernel': 'rbf', 'gamma': 'scale'}. \u001b[0m\n",
            "\u001b[32m[I 2021-12-02 18:44:44,961]\u001b[0m Trial 19 finished with values: [0.3285859613428281, 0.4893939393939394] and parameters: {'StandardScaler': 0, 'test size': 0.1, 'classifier': 'SVC', 'C': 0.0030870460682219025, 'kernel': 'sigmoid', 'gamma': 'auto'}. \u001b[0m\n",
            "/usr/local/lib/python3.7/dist-packages/sklearn/neural_network/_multilayer_perceptron.py:696: ConvergenceWarning:\n",
            "\n",
            "Stochastic Optimizer: Maximum iterations (200) reached and the optimization hasn't converged yet.\n",
            "\n",
            "\u001b[32m[I 2021-12-02 18:45:05,586]\u001b[0m Trial 20 finished with values: [0.9203128255018891, 0.9204545454545454] and parameters: {'StandardScaler': 1, 'test size': 0.30000000000000004, 'classifier': 'MLP', 'alpha': 2.5937943078584336e-13, 'solver': 'sgd', 'activation': 'tanh', 'learning_rate': 'adaptive'}. \u001b[0m\n",
            "\u001b[32m[I 2021-12-02 18:45:25,489]\u001b[0m Trial 21 finished with values: [0.9779591484216436, 0.978030303030303] and parameters: {'StandardScaler': 1, 'test size': 0.2, 'classifier': 'MLP', 'alpha': 1.6513562776140843e-11, 'solver': 'adam', 'activation': 'tanh', 'learning_rate': 'adaptive'}. \u001b[0m\n",
            "\u001b[32m[I 2021-12-02 18:45:33,275]\u001b[0m Trial 22 finished with values: [0.8300885322717755, 0.8306818181818182] and parameters: {'StandardScaler': 0, 'test size': 0.4, 'classifier': 'MLP', 'alpha': 1.6361634492421595e-13, 'solver': 'adam', 'activation': 'relu', 'learning_rate': 'constant'}. \u001b[0m\n",
            "\u001b[32m[I 2021-12-02 18:45:52,760]\u001b[0m Trial 23 finished with values: [0.33130699088145893, 0.4954545454545455] and parameters: {'StandardScaler': 0, 'test size': 0.1, 'classifier': 'SVC', 'C': 4.757543850277486e-10, 'kernel': 'sigmoid', 'gamma': 'scale'}. \u001b[0m\n",
            "\u001b[32m[I 2021-12-02 18:45:58,380]\u001b[0m Trial 24 finished with values: [0.9208014134484586, 0.9208333333333333] and parameters: {'StandardScaler': 1, 'test size': 0.2, 'classifier': 'SVC', 'C': 0.15217650086812523, 'kernel': 'rbf', 'gamma': 'auto'}. \u001b[0m\n",
            "\u001b[32m[I 2021-12-02 18:46:16,024]\u001b[0m Trial 25 finished with values: [0.3579702244253927, 0.5053030303030303] and parameters: {'StandardScaler': 0, 'test size': 0.30000000000000004, 'classifier': 'SVC', 'C': 0.7214566634713006, 'kernel': 'rbf', 'gamma': 'auto'}. \u001b[0m\n",
            "\u001b[32m[I 2021-12-02 18:46:31,386]\u001b[0m Trial 26 finished with values: [0.329608938547486, 0.49166666666666664] and parameters: {'StandardScaler': 1, 'test size': 0.2, 'classifier': 'SVC', 'C': 3.210169513747307e-09, 'kernel': 'sigmoid', 'gamma': 'auto'}. \u001b[0m\n",
            "\u001b[32m[I 2021-12-02 18:46:33,117]\u001b[0m Trial 27 finished with values: [0.6380976627140718, 0.6393939393939394] and parameters: {'StandardScaler': 0, 'test size': 0.4, 'classifier': 'MLP', 'alpha': 9.38296135816313e-09, 'solver': 'adam', 'activation': 'tanh', 'learning_rate': 'constant'}. \u001b[0m\n",
            "/usr/local/lib/python3.7/dist-packages/sklearn/neural_network/_multilayer_perceptron.py:696: ConvergenceWarning:\n",
            "\n",
            "Stochastic Optimizer: Maximum iterations (200) reached and the optimization hasn't converged yet.\n",
            "\n",
            "\u001b[32m[I 2021-12-02 18:46:59,565]\u001b[0m Trial 28 finished with values: [0.9188886993765043, 0.918939393939394] and parameters: {'StandardScaler': 1, 'test size': 0.1, 'classifier': 'MLP', 'alpha': 1.4956248692585555e-09, 'solver': 'sgd', 'activation': 'tanh', 'learning_rate': 'adaptive'}. \u001b[0m\n",
            "/usr/local/lib/python3.7/dist-packages/sklearn/neural_network/_multilayer_perceptron.py:696: ConvergenceWarning:\n",
            "\n",
            "Stochastic Optimizer: Maximum iterations (200) reached and the optimization hasn't converged yet.\n",
            "\n",
            "\u001b[32m[I 2021-12-02 18:47:19,706]\u001b[0m Trial 29 finished with values: [0.8969436134834402, 0.896969696969697] and parameters: {'StandardScaler': 1, 'test size': 0.2, 'classifier': 'MLP', 'alpha': 1.3611024252456128e-09, 'solver': 'sgd', 'activation': 'logistic', 'learning_rate': 'adaptive'}. \u001b[0m\n",
            "\u001b[32m[I 2021-12-02 18:47:31,678]\u001b[0m Trial 30 finished with values: [0.8765810246135429, 0.8767676767676768] and parameters: {'StandardScaler': 1, 'test size': 0.30000000000000004, 'classifier': 'SVC', 'C': 0.0029474102733971132, 'kernel': 'rbf', 'gamma': 'auto'}. \u001b[0m\n",
            "\u001b[32m[I 2021-12-02 18:47:50,451]\u001b[0m Trial 31 finished with values: [0.32687404385517593, 0.4856060606060606] and parameters: {'StandardScaler': 1, 'test size': 0.1, 'classifier': 'SVC', 'C': 5.597132253721025e-05, 'kernel': 'rbf', 'gamma': 'auto'}. \u001b[0m\n",
            "\u001b[32m[I 2021-12-02 18:47:58,664]\u001b[0m Trial 32 finished with values: [0.32938187976291283, 0.4911616161616162] and parameters: {'StandardScaler': 0, 'test size': 0.30000000000000004, 'classifier': 'SVC', 'C': 1.0307939457429593e-07, 'kernel': 'sigmoid', 'gamma': 'auto'}. \u001b[0m\n",
            "\u001b[32m[I 2021-12-02 18:48:04,300]\u001b[0m Trial 33 finished with values: [0.8855255789911984, 0.8856060606060606] and parameters: {'StandardScaler': 1, 'test size': 0.2, 'classifier': 'SVC', 'C': 0.11735489871617412, 'kernel': 'sigmoid', 'gamma': 'scale'}. \u001b[0m\n",
            "\u001b[32m[I 2021-12-02 18:48:15,766]\u001b[0m Trial 34 finished with values: [0.5108559023066486, 0.5554924242424243] and parameters: {'StandardScaler': 0, 'test size': 0.4, 'classifier': 'SVC', 'C': 9.024765587404826e-06, 'kernel': 'sigmoid', 'gamma': 'scale'}. \u001b[0m\n",
            "\u001b[32m[I 2021-12-02 18:48:16,593]\u001b[0m Trial 35 finished with values: [0.33784800601956355, 0.5102272727272728] and parameters: {'StandardScaler': 0, 'test size': 0.2, 'classifier': 'MLP', 'alpha': 1.0162142687669362e-12, 'solver': 'sgd', 'activation': 'relu', 'learning_rate': 'constant'}. \u001b[0m\n",
            "\u001b[32m[I 2021-12-02 18:48:33,048]\u001b[0m Trial 36 finished with values: [0.33096806893056263, 0.4946969696969697] and parameters: {'StandardScaler': 0, 'test size': 0.2, 'classifier': 'SVC', 'C': 4.0968821121087487e-07, 'kernel': 'sigmoid', 'gamma': 'scale'}. \u001b[0m\n",
            "/usr/local/lib/python3.7/dist-packages/sklearn/neural_network/_multilayer_perceptron.py:696: ConvergenceWarning:\n",
            "\n",
            "Stochastic Optimizer: Maximum iterations (200) reached and the optimization hasn't converged yet.\n",
            "\n",
            "\u001b[32m[I 2021-12-02 18:48:59,272]\u001b[0m Trial 37 finished with values: [0.9097435897435897, 0.9098484848484848] and parameters: {'StandardScaler': 1, 'test size': 0.1, 'classifier': 'MLP', 'alpha': 9.882292915479614e-12, 'solver': 'sgd', 'activation': 'tanh', 'learning_rate': 'adaptive'}. \u001b[0m\n",
            "/usr/local/lib/python3.7/dist-packages/sklearn/neural_network/_multilayer_perceptron.py:696: ConvergenceWarning:\n",
            "\n",
            "Stochastic Optimizer: Maximum iterations (200) reached and the optimization hasn't converged yet.\n",
            "\n",
            "\u001b[32m[I 2021-12-02 18:49:17,933]\u001b[0m Trial 38 finished with values: [0.6696899710573792, 0.669949494949495] and parameters: {'StandardScaler': 0, 'test size': 0.30000000000000004, 'classifier': 'MLP', 'alpha': 6.001573182888972e-13, 'solver': 'sgd', 'activation': 'logistic', 'learning_rate': 'adaptive'}. \u001b[0m\n",
            "/usr/local/lib/python3.7/dist-packages/sklearn/neural_network/_multilayer_perceptron.py:696: ConvergenceWarning:\n",
            "\n",
            "Stochastic Optimizer: Maximum iterations (200) reached and the optimization hasn't converged yet.\n",
            "\n",
            "\u001b[32m[I 2021-12-02 18:49:34,746]\u001b[0m Trial 39 finished with values: [0.9598445900687107, 0.9598484848484848] and parameters: {'StandardScaler': 1, 'test size': 0.2, 'classifier': 'MLP', 'alpha': 1.5941361448034762e-13, 'solver': 'sgd', 'activation': 'relu', 'learning_rate': 'constant'}. \u001b[0m\n",
            "/usr/local/lib/python3.7/dist-packages/sklearn/neural_network/_multilayer_perceptron.py:696: ConvergenceWarning:\n",
            "\n",
            "Stochastic Optimizer: Maximum iterations (200) reached and the optimization hasn't converged yet.\n",
            "\n",
            "\u001b[32m[I 2021-12-02 18:49:53,482]\u001b[0m Trial 40 finished with values: [0.6761978724446477, 0.6762626262626262] and parameters: {'StandardScaler': 0, 'test size': 0.30000000000000004, 'classifier': 'MLP', 'alpha': 8.049692801655839e-10, 'solver': 'sgd', 'activation': 'logistic', 'learning_rate': 'adaptive'}. \u001b[0m\n",
            "\u001b[32m[I 2021-12-02 18:50:05,467]\u001b[0m Trial 41 finished with values: [0.331222292590247, 0.4952651515151515] and parameters: {'StandardScaler': 1, 'test size': 0.4, 'classifier': 'SVC', 'C': 2.8602481903088166e-08, 'kernel': 'rbf', 'gamma': 'scale'}. \u001b[0m\n",
            "\u001b[32m[I 2021-12-02 18:50:24,598]\u001b[0m Trial 42 finished with values: [0.9792826985267697, 0.9792929292929293] and parameters: {'StandardScaler': 1, 'test size': 0.30000000000000004, 'classifier': 'MLP', 'alpha': 1.0996557591532293e-10, 'solver': 'adam', 'activation': 'tanh', 'learning_rate': 'constant'}. \u001b[0m\n",
            "\u001b[32m[I 2021-12-02 18:50:26,281]\u001b[0m Trial 43 finished with values: [0.6129770984971605, 0.6130681818181818] and parameters: {'StandardScaler': 0, 'test size': 0.4, 'classifier': 'MLP', 'alpha': 1.9139401917749614e-11, 'solver': 'adam', 'activation': 'tanh', 'learning_rate': 'constant'}. \u001b[0m\n",
            "\u001b[32m[I 2021-12-02 18:50:41,508]\u001b[0m Trial 44 finished with values: [0.8841011019175538, 0.8848484848484849] and parameters: {'StandardScaler': 1, 'test size': 0.1, 'classifier': 'SVC', 'C': 0.0015578700560006545, 'kernel': 'sigmoid', 'gamma': 'scale'}. \u001b[0m\n",
            "/usr/local/lib/python3.7/dist-packages/sklearn/neural_network/_multilayer_perceptron.py:696: ConvergenceWarning:\n",
            "\n",
            "Stochastic Optimizer: Maximum iterations (200) reached and the optimization hasn't converged yet.\n",
            "\n",
            "\u001b[32m[I 2021-12-02 18:51:02,884]\u001b[0m Trial 45 finished with values: [0.9863630024123022, 0.9863636363636363] and parameters: {'StandardScaler': 1, 'test size': 0.2, 'classifier': 'MLP', 'alpha': 9.4094080053587e-10, 'solver': 'adam', 'activation': 'logistic', 'learning_rate': 'adaptive'}. \u001b[0m\n",
            "\u001b[32m[I 2021-12-02 18:51:04,612]\u001b[0m Trial 46 finished with values: [0.4936227782354197, 0.5111742424242425] and parameters: {'StandardScaler': 0, 'test size': 0.4, 'classifier': 'MLP', 'alpha': 6.334357949214483e-11, 'solver': 'adam', 'activation': 'logistic', 'learning_rate': 'constant'}. \u001b[0m\n",
            "\u001b[32m[I 2021-12-02 18:51:20,834]\u001b[0m Trial 47 finished with values: [0.33198380566801616, 0.49696969696969695] and parameters: {'StandardScaler': 0, 'test size': 0.2, 'classifier': 'SVC', 'C': 1.5782536965185027e-10, 'kernel': 'sigmoid', 'gamma': 'scale'}. \u001b[0m\n",
            "\u001b[32m[I 2021-12-02 18:51:40,842]\u001b[0m Trial 48 finished with values: [0.985983961622916, 0.9859848484848485] and parameters: {'StandardScaler': 1, 'test size': 0.2, 'classifier': 'MLP', 'alpha': 1.9128281509102777e-12, 'solver': 'adam', 'activation': 'tanh', 'learning_rate': 'constant'}. \u001b[0m\n",
            "\u001b[32m[I 2021-12-02 18:51:53,595]\u001b[0m Trial 49 finished with values: [0.33074193003211083, 0.4941919191919192] and parameters: {'StandardScaler': 1, 'test size': 0.30000000000000004, 'classifier': 'SVC', 'C': 6.0425240683924734e-05, 'kernel': 'sigmoid', 'gamma': 'scale'}. \u001b[0m\n",
            "/usr/local/lib/python3.7/dist-packages/sklearn/neural_network/_multilayer_perceptron.py:696: ConvergenceWarning:\n",
            "\n",
            "Stochastic Optimizer: Maximum iterations (200) reached and the optimization hasn't converged yet.\n",
            "\n",
            "\u001b[32m[I 2021-12-02 18:52:20,131]\u001b[0m Trial 50 finished with values: [0.9286501257018256, 0.9287878787878788] and parameters: {'StandardScaler': 1, 'test size': 0.1, 'classifier': 'MLP', 'alpha': 1.4956248692585555e-09, 'solver': 'sgd', 'activation': 'tanh', 'learning_rate': 'constant'}. \u001b[0m\n",
            "\u001b[32m[I 2021-12-02 18:52:39,906]\u001b[0m Trial 51 finished with values: [0.9802947858694322, 0.9803030303030303] and parameters: {'StandardScaler': 1, 'test size': 0.2, 'classifier': 'MLP', 'alpha': 1.9128281509102777e-12, 'solver': 'adam', 'activation': 'tanh', 'learning_rate': 'constant'}. \u001b[0m\n",
            "/usr/local/lib/python3.7/dist-packages/sklearn/neural_network/_multilayer_perceptron.py:696: ConvergenceWarning:\n",
            "\n",
            "Stochastic Optimizer: Maximum iterations (200) reached and the optimization hasn't converged yet.\n",
            "\n",
            "\u001b[32m[I 2021-12-02 18:53:00,354]\u001b[0m Trial 52 finished with values: [0.9095940917052924, 0.9095959595959596] and parameters: {'StandardScaler': 1, 'test size': 0.30000000000000004, 'classifier': 'MLP', 'alpha': 2.5937943078584336e-13, 'solver': 'sgd', 'activation': 'tanh', 'learning_rate': 'adaptive'}. \u001b[0m\n",
            "\u001b[32m[I 2021-12-02 18:53:12,330]\u001b[0m Trial 53 finished with values: [0.33173016073914696, 0.49640151515151515] and parameters: {'StandardScaler': 1, 'test size': 0.4, 'classifier': 'SVC', 'C': 0.0006947731606244794, 'kernel': 'rbf', 'gamma': 'auto'}. \u001b[0m\n",
            "\u001b[32m[I 2021-12-02 18:53:18,124]\u001b[0m Trial 54 finished with values: [0.9264137508125004, 0.9265151515151515] and parameters: {'StandardScaler': 1, 'test size': 0.2, 'classifier': 'SVC', 'C': 0.15217650086812523, 'kernel': 'rbf', 'gamma': 'auto'}. \u001b[0m\n",
            "\u001b[32m[I 2021-12-02 18:53:34,032]\u001b[0m Trial 55 finished with values: [0.4492108132927739, 0.4492424242424242] and parameters: {'StandardScaler': 0, 'test size': 0.2, 'classifier': 'SVC', 'C': 0.11735489871617412, 'kernel': 'sigmoid', 'gamma': 'scale'}. \u001b[0m\n",
            "/usr/local/lib/python3.7/dist-packages/sklearn/neural_network/_multilayer_perceptron.py:696: ConvergenceWarning:\n",
            "\n",
            "Stochastic Optimizer: Maximum iterations (200) reached and the optimization hasn't converged yet.\n",
            "\n",
            "\u001b[32m[I 2021-12-02 18:53:54,316]\u001b[0m Trial 56 finished with values: [0.8977157669251132, 0.8977272727272727] and parameters: {'StandardScaler': 1, 'test size': 0.2, 'classifier': 'MLP', 'alpha': 1.3611024252456128e-09, 'solver': 'sgd', 'activation': 'logistic', 'learning_rate': 'adaptive'}. \u001b[0m\n",
            "\u001b[32m[I 2021-12-02 18:54:00,348]\u001b[0m Trial 57 finished with values: [0.7222930786633641, 0.7325757575757575] and parameters: {'StandardScaler': 0, 'test size': 0.4, 'classifier': 'MLP', 'alpha': 8.253855370372395e-12, 'solver': 'adam', 'activation': 'relu', 'learning_rate': 'constant'}. \u001b[0m\n",
            "\u001b[32m[I 2021-12-02 18:54:04,392]\u001b[0m Trial 58 finished with values: [0.9446637678165102, 0.9446969696969697] and parameters: {'StandardScaler': 1, 'test size': 0.30000000000000004, 'classifier': 'SVC', 'C': 0.7214566634713006, 'kernel': 'rbf', 'gamma': 'auto'}. \u001b[0m\n",
            "\u001b[32m[I 2021-12-02 18:54:14,255]\u001b[0m Trial 59 finished with values: [0.45094597748613086, 0.45151515151515154] and parameters: {'StandardScaler': 0, 'test size': 0.4, 'classifier': 'SVC', 'C': 0.11735489871617412, 'kernel': 'sigmoid', 'gamma': 'scale'}. \u001b[0m\n",
            "\u001b[32m[I 2021-12-02 18:54:16,458]\u001b[0m Trial 60 finished with values: [0.46420551734909454, 0.4732323232323232] and parameters: {'StandardScaler': 0, 'test size': 0.30000000000000004, 'classifier': 'MLP', 'alpha': 1.0996557591532293e-10, 'solver': 'adam', 'activation': 'logistic', 'learning_rate': 'adaptive'}. \u001b[0m\n",
            "/usr/local/lib/python3.7/dist-packages/sklearn/neural_network/_multilayer_perceptron.py:696: ConvergenceWarning:\n",
            "\n",
            "Stochastic Optimizer: Maximum iterations (200) reached and the optimization hasn't converged yet.\n",
            "\n",
            "\u001b[32m[I 2021-12-02 18:54:36,743]\u001b[0m Trial 61 finished with values: [0.8927457683373484, 0.8928030303030303] and parameters: {'StandardScaler': 1, 'test size': 0.2, 'classifier': 'MLP', 'alpha': 1.4956248692585555e-09, 'solver': 'sgd', 'activation': 'logistic', 'learning_rate': 'adaptive'}. \u001b[0m\n",
            "\u001b[32m[I 2021-12-02 18:54:42,410]\u001b[0m Trial 62 finished with values: [0.8772568771793878, 0.8772727272727273] and parameters: {'StandardScaler': 1, 'test size': 0.2, 'classifier': 'SVC', 'C': 0.11735489871617412, 'kernel': 'sigmoid', 'gamma': 'auto'}. \u001b[0m\n",
            "\u001b[32m[I 2021-12-02 18:54:56,441]\u001b[0m Trial 63 finished with values: [0.32733140818753187, 0.4866161616161616] and parameters: {'StandardScaler': 0, 'test size': 0.30000000000000004, 'classifier': 'SVC', 'C': 4.757543850277486e-10, 'kernel': 'rbf', 'gamma': 'scale'}. \u001b[0m\n",
            "\u001b[32m[I 2021-12-02 18:55:18,678]\u001b[0m Trial 64 finished with values: [0.6816537467700259, 0.6818181818181818] and parameters: {'StandardScaler': 0, 'test size': 0.1, 'classifier': 'MLP', 'alpha': 7.3814401753163066e-09, 'solver': 'sgd', 'activation': 'logistic', 'learning_rate': 'adaptive'}. \u001b[0m\n",
            "\u001b[32m[I 2021-12-02 18:55:31,113]\u001b[0m Trial 65 finished with values: [0.9838374562360098, 0.9838383838383838] and parameters: {'StandardScaler': 1, 'test size': 0.30000000000000004, 'classifier': 'MLP', 'alpha': 1.0996557591532293e-10, 'solver': 'adam', 'activation': 'relu', 'learning_rate': 'constant'}. \u001b[0m\n",
            "\u001b[32m[I 2021-12-02 18:55:45,685]\u001b[0m Trial 66 finished with values: [0.3320964749536178, 0.49722222222222223] and parameters: {'StandardScaler': 1, 'test size': 0.30000000000000004, 'classifier': 'SVC', 'C': 3.108824722327291e-08, 'kernel': 'rbf', 'gamma': 'scale'}. \u001b[0m\n",
            "\u001b[32m[I 2021-12-02 18:55:47,179]\u001b[0m Trial 67 finished with values: [0.4768203918961771, 0.4837121212121212] and parameters: {'StandardScaler': 0, 'test size': 0.2, 'classifier': 'MLP', 'alpha': 9.4094080053587e-10, 'solver': 'adam', 'activation': 'logistic', 'learning_rate': 'constant'}. \u001b[0m\n",
            "\u001b[32m[I 2021-12-02 18:56:05,687]\u001b[0m Trial 68 finished with values: [0.9802975574023087, 0.9803030303030303] and parameters: {'StandardScaler': 1, 'test size': 0.30000000000000004, 'classifier': 'MLP', 'alpha': 1.0996557591532293e-10, 'solver': 'adam', 'activation': 'tanh', 'learning_rate': 'constant'}. \u001b[0m\n",
            "\u001b[32m[I 2021-12-02 18:56:18,345]\u001b[0m Trial 69 finished with values: [0.3301759133964817, 0.49292929292929294] and parameters: {'StandardScaler': 1, 'test size': 0.30000000000000004, 'classifier': 'SVC', 'C': 6.0425240683924734e-05, 'kernel': 'sigmoid', 'gamma': 'scale'}. \u001b[0m\n",
            "\u001b[32m[I 2021-12-02 18:56:31,600]\u001b[0m Trial 70 finished with values: [0.8733242500392199, 0.8734848484848485] and parameters: {'StandardScaler': 1, 'test size': 0.1, 'classifier': 'SVC', 'C': 0.004577850635519135, 'kernel': 'rbf', 'gamma': 'scale'}. \u001b[0m\n",
            "\u001b[32m[I 2021-12-02 18:56:44,389]\u001b[0m Trial 71 finished with values: [0.37133850916623123, 0.5128787878787879] and parameters: {'StandardScaler': 1, 'test size': 0.30000000000000004, 'classifier': 'SVC', 'C': 0.00031905157474440256, 'kernel': 'sigmoid', 'gamma': 'auto'}. \u001b[0m\n",
            "\u001b[32m[I 2021-12-02 18:56:58,462]\u001b[0m Trial 72 finished with values: [0.9878697653902352, 0.9878787878787879] and parameters: {'StandardScaler': 1, 'test size': 0.2, 'classifier': 'MLP', 'alpha': 3.101331211644446e-13, 'solver': 'adam', 'activation': 'relu', 'learning_rate': 'constant'}. \u001b[0m\n",
            "\u001b[32m[I 2021-12-02 18:57:14,352]\u001b[0m Trial 73 finished with values: [0.681771426472209, 0.6818181818181818] and parameters: {'StandardScaler': 0, 'test size': 0.1, 'classifier': 'MLP', 'alpha': 9.882292915479614e-12, 'solver': 'sgd', 'activation': 'tanh', 'learning_rate': 'adaptive'}. \u001b[0m\n",
            "\u001b[32m[I 2021-12-02 18:57:26,075]\u001b[0m Trial 74 finished with values: [0.332827899924185, 0.49886363636363634] and parameters: {'StandardScaler': 0, 'test size': 0.4, 'classifier': 'SVC', 'C': 0.00013682391388003578, 'kernel': 'sigmoid', 'gamma': 'scale'}. \u001b[0m\n",
            "\u001b[32m[I 2021-12-02 18:57:27,804]\u001b[0m Trial 75 finished with values: [0.42560462065814453, 0.47632575757575757] and parameters: {'StandardScaler': 0, 'test size': 0.4, 'classifier': 'MLP', 'alpha': 8.049692801655839e-10, 'solver': 'adam', 'activation': 'logistic', 'learning_rate': 'adaptive'}. \u001b[0m\n",
            "\u001b[32m[I 2021-12-02 18:57:44,411]\u001b[0m Trial 76 finished with values: [0.3302891933028919, 0.49318181818181817] and parameters: {'StandardScaler': 0, 'test size': 0.2, 'classifier': 'SVC', 'C': 1.5782536965185027e-10, 'kernel': 'sigmoid', 'gamma': 'scale'}. \u001b[0m\n",
            "\u001b[32m[I 2021-12-02 18:57:46,067]\u001b[0m Trial 77 finished with values: [0.5736279780989495, 0.5736742424242425] and parameters: {'StandardScaler': 0, 'test size': 0.4, 'classifier': 'MLP', 'alpha': 8.253855370372395e-12, 'solver': 'adam', 'activation': 'tanh', 'learning_rate': 'constant'}. \u001b[0m\n",
            "\u001b[32m[I 2021-12-02 18:58:05,623]\u001b[0m Trial 78 finished with values: [0.33433581206499174, 0.49924242424242427] and parameters: {'StandardScaler': 0, 'test size': 0.1, 'classifier': 'SVC', 'C': 0.0015578700560006545, 'kernel': 'sigmoid', 'gamma': 'scale'}. \u001b[0m\n",
            "\u001b[32m[I 2021-12-02 18:58:19,397]\u001b[0m Trial 79 finished with values: [0.9848340903096731, 0.9848484848484849] and parameters: {'StandardScaler': 1, 'test size': 0.30000000000000004, 'classifier': 'MLP', 'alpha': 3.101331211644446e-13, 'solver': 'adam', 'activation': 'relu', 'learning_rate': 'constant'}. \u001b[0m\n",
            "\u001b[32m[I 2021-12-02 18:58:35,242]\u001b[0m Trial 80 finished with values: [0.9780244730329772, 0.978030303030303] and parameters: {'StandardScaler': 1, 'test size': 0.4, 'classifier': 'MLP', 'alpha': 9.38296135816313e-09, 'solver': 'adam', 'activation': 'tanh', 'learning_rate': 'constant'}. \u001b[0m\n",
            "\u001b[32m[I 2021-12-02 18:58:45,317]\u001b[0m Trial 81 finished with values: [0.4464395499424846, 0.446780303030303] and parameters: {'StandardScaler': 0, 'test size': 0.4, 'classifier': 'SVC', 'C': 0.11735489871617412, 'kernel': 'sigmoid', 'gamma': 'scale'}. \u001b[0m\n",
            "\u001b[32m[I 2021-12-02 18:59:01,523]\u001b[0m Trial 82 finished with values: [0.3316455696202532, 0.4962121212121212] and parameters: {'StandardScaler': 1, 'test size': 0.2, 'classifier': 'SVC', 'C': 2.2843091500720636e-09, 'kernel': 'rbf', 'gamma': 'scale'}. \u001b[0m\n",
            "\u001b[32m[I 2021-12-02 18:59:04,583]\u001b[0m Trial 83 finished with values: [0.5298574483871651, 0.553219696969697] and parameters: {'StandardScaler': 0, 'test size': 0.4, 'classifier': 'MLP', 'alpha': 1.6361634492421595e-13, 'solver': 'adam', 'activation': 'logistic', 'learning_rate': 'constant'}. \u001b[0m\n",
            "/usr/local/lib/python3.7/dist-packages/sklearn/neural_network/_multilayer_perceptron.py:696: ConvergenceWarning:\n",
            "\n",
            "Stochastic Optimizer: Maximum iterations (200) reached and the optimization hasn't converged yet.\n",
            "\n",
            "\u001b[32m[I 2021-12-02 18:59:26,013]\u001b[0m Trial 84 finished with values: [0.9844564741786337, 0.984469696969697] and parameters: {'StandardScaler': 1, 'test size': 0.2, 'classifier': 'MLP', 'alpha': 1.0996557591532293e-10, 'solver': 'adam', 'activation': 'logistic', 'learning_rate': 'constant'}. \u001b[0m\n",
            "/usr/local/lib/python3.7/dist-packages/sklearn/neural_network/_multilayer_perceptron.py:696: ConvergenceWarning:\n",
            "\n",
            "Stochastic Optimizer: Maximum iterations (200) reached and the optimization hasn't converged yet.\n",
            "\n",
            "\u001b[32m[I 2021-12-02 18:59:50,190]\u001b[0m Trial 85 finished with values: [0.9886193749967669, 0.9886363636363636] and parameters: {'StandardScaler': 1, 'test size': 0.1, 'classifier': 'MLP', 'alpha': 9.882292915479614e-12, 'solver': 'adam', 'activation': 'logistic', 'learning_rate': 'constant'}. \u001b[0m\n",
            "\u001b[32m[I 2021-12-02 18:59:58,491]\u001b[0m Trial 86 finished with values: [0.7891694183867177, 0.7929924242424242] and parameters: {'StandardScaler': 0, 'test size': 0.4, 'classifier': 'MLP', 'alpha': 8.253855370372395e-12, 'solver': 'adam', 'activation': 'relu', 'learning_rate': 'adaptive'}. \u001b[0m\n",
            "\u001b[32m[I 2021-12-02 19:00:15,398]\u001b[0m Trial 87 finished with values: [0.33113757284013173, 0.49507575757575756] and parameters: {'StandardScaler': 1, 'test size': 0.2, 'classifier': 'SVC', 'C': 1.3544219733466798e-09, 'kernel': 'rbf', 'gamma': 'scale'}. \u001b[0m\n",
            "\u001b[32m[I 2021-12-02 19:00:17,252]\u001b[0m Trial 88 finished with values: [0.6142335082832195, 0.6145833333333334] and parameters: {'StandardScaler': 0, 'test size': 0.4, 'classifier': 'MLP', 'alpha': 2.0019729092786205e-12, 'solver': 'adam', 'activation': 'tanh', 'learning_rate': 'adaptive'}. \u001b[0m\n",
            "\u001b[32m[I 2021-12-02 19:00:30,282]\u001b[0m Trial 89 finished with values: [0.3326592517694641, 0.4984848484848485] and parameters: {'StandardScaler': 1, 'test size': 0.30000000000000004, 'classifier': 'SVC', 'C': 1.0307939457429593e-07, 'kernel': 'sigmoid', 'gamma': 'auto'}. \u001b[0m\n",
            "\u001b[32m[I 2021-12-02 19:00:42,053]\u001b[0m Trial 90 finished with values: [0.6589864249332466, 0.659280303030303] and parameters: {'StandardScaler': 0, 'test size': 0.4, 'classifier': 'MLP', 'alpha': 1.6361634492421595e-13, 'solver': 'sgd', 'activation': 'logistic', 'learning_rate': 'constant'}. \u001b[0m\n",
            "\u001b[32m[I 2021-12-02 19:00:44,545]\u001b[0m Trial 91 finished with values: [0.6459414057838933, 0.6462121212121212] and parameters: {'StandardScaler': 0, 'test size': 0.4, 'classifier': 'MLP', 'alpha': 2.6133268485069104e-10, 'solver': 'adam', 'activation': 'tanh', 'learning_rate': 'adaptive'}. \u001b[0m\n",
            "/usr/local/lib/python3.7/dist-packages/sklearn/neural_network/_multilayer_perceptron.py:696: ConvergenceWarning:\n",
            "\n",
            "Stochastic Optimizer: Maximum iterations (200) reached and the optimization hasn't converged yet.\n",
            "\n",
            "\u001b[32m[I 2021-12-02 19:01:03,430]\u001b[0m Trial 92 finished with values: [0.651567148346714, 0.6517676767676768] and parameters: {'StandardScaler': 0, 'test size': 0.30000000000000004, 'classifier': 'MLP', 'alpha': 1.5391091063127621e-12, 'solver': 'sgd', 'activation': 'logistic', 'learning_rate': 'adaptive'}. \u001b[0m\n",
            "\u001b[32m[I 2021-12-02 19:01:15,771]\u001b[0m Trial 93 finished with values: [0.6647553628165142, 0.6647727272727273] and parameters: {'StandardScaler': 0, 'test size': 0.2, 'classifier': 'MLP', 'alpha': 1.9128281509102777e-12, 'solver': 'sgd', 'activation': 'tanh', 'learning_rate': 'constant'}. \u001b[0m\n",
            "\u001b[32m[I 2021-12-02 19:01:26,965]\u001b[0m Trial 94 finished with values: [0.5478822185037511, 0.5488636363636363] and parameters: {'StandardScaler': 0, 'test size': 0.4, 'classifier': 'SVC', 'C': 0.014849722376739682, 'kernel': 'sigmoid', 'gamma': 'scale'}. \u001b[0m\n",
            "\u001b[32m[I 2021-12-02 19:01:36,954]\u001b[0m Trial 95 finished with values: [0.7469776233741781, 0.7541666666666667] and parameters: {'StandardScaler': 0, 'test size': 0.2, 'classifier': 'MLP', 'alpha': 2.6273740496827498e-11, 'solver': 'adam', 'activation': 'relu', 'learning_rate': 'constant'}. \u001b[0m\n",
            "/usr/local/lib/python3.7/dist-packages/sklearn/neural_network/_multilayer_perceptron.py:696: ConvergenceWarning:\n",
            "\n",
            "Stochastic Optimizer: Maximum iterations (200) reached and the optimization hasn't converged yet.\n",
            "\n",
            "\u001b[32m[I 2021-12-02 19:01:55,812]\u001b[0m Trial 96 finished with values: [0.9797879985627023, 0.9797979797979798] and parameters: {'StandardScaler': 1, 'test size': 0.30000000000000004, 'classifier': 'MLP', 'alpha': 3.101331211644446e-13, 'solver': 'adam', 'activation': 'logistic', 'learning_rate': 'constant'}. \u001b[0m\n",
            "\u001b[32m[I 2021-12-02 19:02:07,836]\u001b[0m Trial 97 finished with values: [0.32881355932203393, 0.4898989898989899] and parameters: {'StandardScaler': 0, 'test size': 0.30000000000000004, 'classifier': 'SVC', 'C': 5.704657672805473e-07, 'kernel': 'rbf', 'gamma': 'auto'}. \u001b[0m\n",
            "\u001b[32m[I 2021-12-02 19:02:16,609]\u001b[0m Trial 98 finished with values: [0.8848605067882239, 0.8852272727272728] and parameters: {'StandardScaler': 1, 'test size': 0.2, 'classifier': 'SVC', 'C': 0.008834950627539999, 'kernel': 'sigmoid', 'gamma': 'auto'}. \u001b[0m\n",
            "\u001b[32m[I 2021-12-02 19:02:18,865]\u001b[0m Trial 99 finished with values: [0.6204177287627186, 0.6204545454545455] and parameters: {'StandardScaler': 0, 'test size': 0.1, 'classifier': 'MLP', 'alpha': 4.946263295005424e-10, 'solver': 'adam', 'activation': 'tanh', 'learning_rate': 'constant'}. \u001b[0m\n",
            "\u001b[32m[I 2021-12-02 19:02:31,259]\u001b[0m Trial 100 finished with values: [0.6784068299378252, 0.678409090909091] and parameters: {'StandardScaler': 0, 'test size': 0.2, 'classifier': 'MLP', 'alpha': 1.9128281509102777e-12, 'solver': 'sgd', 'activation': 'tanh', 'learning_rate': 'constant'}. \u001b[0m\n",
            "/usr/local/lib/python3.7/dist-packages/sklearn/neural_network/_multilayer_perceptron.py:696: ConvergenceWarning:\n",
            "\n",
            "Stochastic Optimizer: Maximum iterations (200) reached and the optimization hasn't converged yet.\n",
            "\n",
            "\u001b[32m[I 2021-12-02 19:02:54,704]\u001b[0m Trial 101 finished with values: [0.9238470172338746, 0.9238636363636363] and parameters: {'StandardScaler': 1, 'test size': 0.2, 'classifier': 'MLP', 'alpha': 1.728767345094246e-13, 'solver': 'sgd', 'activation': 'tanh', 'learning_rate': 'adaptive'}. \u001b[0m\n",
            "\u001b[32m[I 2021-12-02 19:03:09,399]\u001b[0m Trial 102 finished with values: [0.7074246339362619, 0.7075757575757575] and parameters: {'StandardScaler': 0, 'test size': 0.1, 'classifier': 'MLP', 'alpha': 9.882292915479614e-12, 'solver': 'sgd', 'activation': 'tanh', 'learning_rate': 'adaptive'}. \u001b[0m\n",
            "/usr/local/lib/python3.7/dist-packages/sklearn/neural_network/_multilayer_perceptron.py:696: ConvergenceWarning:\n",
            "\n",
            "Stochastic Optimizer: Maximum iterations (200) reached and the optimization hasn't converged yet.\n",
            "\n",
            "\u001b[32m[I 2021-12-02 19:03:25,625]\u001b[0m Trial 103 finished with values: [0.9804844096507006, 0.9804924242424242] and parameters: {'StandardScaler': 1, 'test size': 0.4, 'classifier': 'MLP', 'alpha': 9.212533433451448e-11, 'solver': 'adam', 'activation': 'logistic', 'learning_rate': 'adaptive'}. \u001b[0m\n",
            "\u001b[32m[I 2021-12-02 19:03:57,811]\u001b[0m Trial 104 finished with values: [0.3641773572020877, 0.5212121212121212] and parameters: {'StandardScaler': 0, 'test size': 0.1, 'classifier': 'SVC', 'C': 0.7214566634713006, 'kernel': 'rbf', 'gamma': 'auto'}. \u001b[0m\n",
            "\u001b[32m[I 2021-12-02 19:04:01,265]\u001b[0m Trial 105 finished with values: [0.3330807123910572, 0.4994318181818182] and parameters: {'StandardScaler': 0, 'test size': 0.4, 'classifier': 'MLP', 'alpha': 8.253855370372395e-12, 'solver': 'sgd', 'activation': 'relu', 'learning_rate': 'adaptive'}. \u001b[0m\n",
            "\u001b[32m[I 2021-12-02 19:04:12,342]\u001b[0m Trial 106 finished with values: [0.5513921910779864, 0.553219696969697] and parameters: {'StandardScaler': 0, 'test size': 0.4, 'classifier': 'SVC', 'C': 0.013001932466376319, 'kernel': 'sigmoid', 'gamma': 'scale'}. \u001b[0m\n",
            "/usr/local/lib/python3.7/dist-packages/sklearn/neural_network/_multilayer_perceptron.py:696: ConvergenceWarning:\n",
            "\n",
            "Stochastic Optimizer: Maximum iterations (200) reached and the optimization hasn't converged yet.\n",
            "\n",
            "\u001b[32m[I 2021-12-02 19:04:32,655]\u001b[0m Trial 107 finished with values: [0.8934552934912853, 0.893560606060606] and parameters: {'StandardScaler': 1, 'test size': 0.2, 'classifier': 'MLP', 'alpha': 1.4956248692585555e-09, 'solver': 'sgd', 'activation': 'logistic', 'learning_rate': 'adaptive'}. \u001b[0m\n",
            "/usr/local/lib/python3.7/dist-packages/sklearn/neural_network/_multilayer_perceptron.py:696: ConvergenceWarning:\n",
            "\n",
            "Stochastic Optimizer: Maximum iterations (200) reached and the optimization hasn't converged yet.\n",
            "\n",
            "\u001b[32m[I 2021-12-02 19:04:48,771]\u001b[0m Trial 108 finished with values: [0.9791579465926687, 0.9791666666666666] and parameters: {'StandardScaler': 1, 'test size': 0.4, 'classifier': 'MLP', 'alpha': 1.9128281509102777e-12, 'solver': 'adam', 'activation': 'logistic', 'learning_rate': 'constant'}. \u001b[0m\n",
            "\u001b[32m[I 2021-12-02 19:04:57,876]\u001b[0m Trial 109 finished with values: [0.8873541338179676, 0.8875] and parameters: {'StandardScaler': 1, 'test size': 0.2, 'classifier': 'SVC', 'C': 0.008834950627539999, 'kernel': 'sigmoid', 'gamma': 'auto'}. \u001b[0m\n",
            "\u001b[32m[I 2021-12-02 19:05:11,258]\u001b[0m Trial 110 finished with values: [0.9856057953317806, 0.9856060606060606] and parameters: {'StandardScaler': 1, 'test size': 0.30000000000000004, 'classifier': 'MLP', 'alpha': 3.101331211644446e-13, 'solver': 'adam', 'activation': 'relu', 'learning_rate': 'constant'}. \u001b[0m\n",
            "/usr/local/lib/python3.7/dist-packages/sklearn/neural_network/_multilayer_perceptron.py:696: ConvergenceWarning:\n",
            "\n",
            "Stochastic Optimizer: Maximum iterations (200) reached and the optimization hasn't converged yet.\n",
            "\n",
            "\u001b[32m[I 2021-12-02 19:05:32,736]\u001b[0m Trial 111 finished with values: [0.9806608157878067, 0.9806818181818182] and parameters: {'StandardScaler': 1, 'test size': 0.2, 'classifier': 'MLP', 'alpha': 1.9128281509102777e-12, 'solver': 'adam', 'activation': 'logistic', 'learning_rate': 'adaptive'}. \u001b[0m\n",
            "\u001b[32m[I 2021-12-02 19:05:45,652]\u001b[0m Trial 112 finished with values: [0.9863542245238017, 0.9863636363636363] and parameters: {'StandardScaler': 1, 'test size': 0.30000000000000004, 'classifier': 'MLP', 'alpha': 3.101331211644446e-13, 'solver': 'adam', 'activation': 'relu', 'learning_rate': 'constant'}. \u001b[0m\n",
            "/usr/local/lib/python3.7/dist-packages/sklearn/neural_network/_multilayer_perceptron.py:696: ConvergenceWarning:\n",
            "\n",
            "Stochastic Optimizer: Maximum iterations (200) reached and the optimization hasn't converged yet.\n",
            "\n",
            "\u001b[32m[I 2021-12-02 19:06:03,314]\u001b[0m Trial 113 finished with values: [0.9033890745270341, 0.9034090909090909] and parameters: {'StandardScaler': 1, 'test size': 0.4, 'classifier': 'MLP', 'alpha': 8.253855370372395e-12, 'solver': 'sgd', 'activation': 'tanh', 'learning_rate': 'constant'}. \u001b[0m\n",
            "\u001b[32m[I 2021-12-02 19:06:23,165]\u001b[0m Trial 114 finished with values: [0.9812662970557707, 0.9813131313131314] and parameters: {'StandardScaler': 1, 'test size': 0.30000000000000004, 'classifier': 'MLP', 'alpha': 1.0996557591532293e-10, 'solver': 'adam', 'activation': 'tanh', 'learning_rate': 'constant'}. \u001b[0m\n",
            "/usr/local/lib/python3.7/dist-packages/sklearn/neural_network/_multilayer_perceptron.py:696: ConvergenceWarning:\n",
            "\n",
            "Stochastic Optimizer: Maximum iterations (200) reached and the optimization hasn't converged yet.\n",
            "\n",
            "\u001b[32m[I 2021-12-02 19:06:44,651]\u001b[0m Trial 115 finished with values: [0.9856033835492826, 0.9856060606060606] and parameters: {'StandardScaler': 1, 'test size': 0.2, 'classifier': 'MLP', 'alpha': 9.4094080053587e-10, 'solver': 'adam', 'activation': 'logistic', 'learning_rate': 'adaptive'}. \u001b[0m\n",
            "/usr/local/lib/python3.7/dist-packages/sklearn/neural_network/_multilayer_perceptron.py:696: ConvergenceWarning:\n",
            "\n",
            "Stochastic Optimizer: Maximum iterations (200) reached and the optimization hasn't converged yet.\n",
            "\n",
            "\u001b[32m[I 2021-12-02 19:07:06,141]\u001b[0m Trial 116 finished with values: [0.6764408725602755, 0.6765151515151515] and parameters: {'StandardScaler': 0, 'test size': 0.2, 'classifier': 'MLP', 'alpha': 8.253855370372395e-12, 'solver': 'sgd', 'activation': 'logistic', 'learning_rate': 'constant'}. \u001b[0m\n",
            "\u001b[32m[I 2021-12-02 19:07:18,552]\u001b[0m Trial 117 finished with values: [0.9835202297467099, 0.9835227272727273] and parameters: {'StandardScaler': 1, 'test size': 0.4, 'classifier': 'MLP', 'alpha': 2.0033264426836306e-09, 'solver': 'adam', 'activation': 'relu', 'learning_rate': 'adaptive'}. \u001b[0m\n",
            "/usr/local/lib/python3.7/dist-packages/sklearn/neural_network/_multilayer_perceptron.py:696: ConvergenceWarning:\n",
            "\n",
            "Stochastic Optimizer: Maximum iterations (200) reached and the optimization hasn't converged yet.\n",
            "\n",
            "\u001b[32m[I 2021-12-02 19:07:42,373]\u001b[0m Trial 118 finished with values: [0.9117068389162241, 0.9117424242424242] and parameters: {'StandardScaler': 1, 'test size': 0.2, 'classifier': 'MLP', 'alpha': 2.5937943078584336e-13, 'solver': 'sgd', 'activation': 'tanh', 'learning_rate': 'adaptive'}. \u001b[0m\n",
            "/usr/local/lib/python3.7/dist-packages/sklearn/neural_network/_multilayer_perceptron.py:696: ConvergenceWarning:\n",
            "\n",
            "Stochastic Optimizer: Maximum iterations (200) reached and the optimization hasn't converged yet.\n",
            "\n",
            "\u001b[32m[I 2021-12-02 19:08:06,356]\u001b[0m Trial 119 finished with values: [0.9123767798466593, 0.9125] and parameters: {'StandardScaler': 1, 'test size': 0.2, 'classifier': 'MLP', 'alpha': 3.101331211644446e-13, 'solver': 'sgd', 'activation': 'tanh', 'learning_rate': 'constant'}. \u001b[0m\n",
            "\u001b[32m[I 2021-12-02 19:08:25,994]\u001b[0m Trial 120 finished with values: [0.979538501216265, 0.9795454545454545] and parameters: {'StandardScaler': 1, 'test size': 0.30000000000000004, 'classifier': 'MLP', 'alpha': 1.0996557591532293e-10, 'solver': 'adam', 'activation': 'tanh', 'learning_rate': 'constant'}. \u001b[0m\n",
            "/usr/local/lib/python3.7/dist-packages/sklearn/neural_network/_multilayer_perceptron.py:696: ConvergenceWarning:\n",
            "\n",
            "Stochastic Optimizer: Maximum iterations (200) reached and the optimization hasn't converged yet.\n",
            "\n",
            "\u001b[32m[I 2021-12-02 19:08:47,781]\u001b[0m Trial 121 finished with values: [0.9840899959823222, 0.9840909090909091] and parameters: {'StandardScaler': 1, 'test size': 0.2, 'classifier': 'MLP', 'alpha': 3.558450390218454e-09, 'solver': 'adam', 'activation': 'logistic', 'learning_rate': 'adaptive'}. \u001b[0m\n",
            "/usr/local/lib/python3.7/dist-packages/sklearn/neural_network/_multilayer_perceptron.py:696: ConvergenceWarning:\n",
            "\n",
            "Stochastic Optimizer: Maximum iterations (200) reached and the optimization hasn't converged yet.\n",
            "\n",
            "\u001b[32m[I 2021-12-02 19:09:14,466]\u001b[0m Trial 122 finished with values: [0.9248498636221698, 0.925] and parameters: {'StandardScaler': 1, 'test size': 0.1, 'classifier': 'MLP', 'alpha': 9.4094080053587e-10, 'solver': 'sgd', 'activation': 'tanh', 'learning_rate': 'adaptive'}. \u001b[0m\n",
            "\u001b[32m[I 2021-12-02 19:09:29,383]\u001b[0m Trial 123 finished with values: [0.9882531919410351, 0.9882575757575758] and parameters: {'StandardScaler': 1, 'test size': 0.2, 'classifier': 'MLP', 'alpha': 1.340640463015051e-12, 'solver': 'adam', 'activation': 'relu', 'learning_rate': 'constant'}. \u001b[0m\n",
            "\u001b[32m[I 2021-12-02 19:09:31,528]\u001b[0m Trial 124 finished with values: [0.6113455687506134, 0.6113636363636363] and parameters: {'StandardScaler': 0, 'test size': 0.2, 'classifier': 'MLP', 'alpha': 1.9128281509102777e-12, 'solver': 'adam', 'activation': 'tanh', 'learning_rate': 'constant'}. \u001b[0m\n",
            "\u001b[32m[I 2021-12-02 19:09:37,051]\u001b[0m Trial 125 finished with values: [0.881367478420042, 0.881439393939394] and parameters: {'StandardScaler': 1, 'test size': 0.2, 'classifier': 'SVC', 'C': 0.11735489871617412, 'kernel': 'sigmoid', 'gamma': 'auto'}. \u001b[0m\n",
            "/usr/local/lib/python3.7/dist-packages/sklearn/neural_network/_multilayer_perceptron.py:696: ConvergenceWarning:\n",
            "\n",
            "Stochastic Optimizer: Maximum iterations (200) reached and the optimization hasn't converged yet.\n",
            "\n",
            "\u001b[32m[I 2021-12-02 19:09:53,938]\u001b[0m Trial 126 finished with values: [0.9526227948961828, 0.9526515151515151] and parameters: {'StandardScaler': 1, 'test size': 0.2, 'classifier': 'MLP', 'alpha': 1.4956248692585555e-09, 'solver': 'sgd', 'activation': 'relu', 'learning_rate': 'constant'}. \u001b[0m\n",
            "/usr/local/lib/python3.7/dist-packages/sklearn/neural_network/_multilayer_perceptron.py:696: ConvergenceWarning:\n",
            "\n",
            "Stochastic Optimizer: Maximum iterations (200) reached and the optimization hasn't converged yet.\n",
            "\n",
            "\u001b[32m[I 2021-12-02 19:10:12,992]\u001b[0m Trial 127 finished with values: [0.9840835759001556, 0.9840909090909091] and parameters: {'StandardScaler': 1, 'test size': 0.30000000000000004, 'classifier': 'MLP', 'alpha': 3.101331211644446e-13, 'solver': 'adam', 'activation': 'logistic', 'learning_rate': 'constant'}. \u001b[0m\n",
            "\u001b[32m[I 2021-12-02 19:10:31,833]\u001b[0m Trial 128 finished with values: [0.32790224032586557, 0.48787878787878786] and parameters: {'StandardScaler': 1, 'test size': 0.1, 'classifier': 'SVC', 'C': 0.0002801196885179988, 'kernel': 'rbf', 'gamma': 'scale'}. \u001b[0m\n",
            "\u001b[32m[I 2021-12-02 19:10:33,630]\u001b[0m Trial 129 finished with values: [0.6054770131882519, 0.6054924242424242] and parameters: {'StandardScaler': 0, 'test size': 0.4, 'classifier': 'MLP', 'alpha': 8.253855370372395e-12, 'solver': 'adam', 'activation': 'tanh', 'learning_rate': 'adaptive'}. \u001b[0m\n",
            "\u001b[32m[I 2021-12-02 19:10:55,501]\u001b[0m Trial 130 finished with values: [0.9818181818181818, 0.9818181818181818] and parameters: {'StandardScaler': 1, 'test size': 0.1, 'classifier': 'MLP', 'alpha': 9.882292915479614e-12, 'solver': 'adam', 'activation': 'tanh', 'learning_rate': 'adaptive'}. \u001b[0m\n",
            "\u001b[32m[I 2021-12-02 19:11:07,546]\u001b[0m Trial 131 finished with values: [0.33181473044798787, 0.4965909090909091] and parameters: {'StandardScaler': 1, 'test size': 0.4, 'classifier': 'SVC', 'C': 0.00035604895832598257, 'kernel': 'rbf', 'gamma': 'scale'}. \u001b[0m\n",
            "\u001b[32m[I 2021-12-02 19:11:19,418]\u001b[0m Trial 132 finished with values: [0.9874924178525923, 0.9875] and parameters: {'StandardScaler': 1, 'test size': 0.4, 'classifier': 'MLP', 'alpha': 3.101331211644446e-13, 'solver': 'adam', 'activation': 'relu', 'learning_rate': 'adaptive'}. \u001b[0m\n",
            "\u001b[32m[I 2021-12-02 19:11:32,690]\u001b[0m Trial 133 finished with values: [0.8961214420990776, 0.8962121212121212] and parameters: {'StandardScaler': 1, 'test size': 0.1, 'classifier': 'SVC', 'C': 0.004577850635519135, 'kernel': 'rbf', 'gamma': 'scale'}. \u001b[0m\n",
            "\u001b[32m[I 2021-12-02 19:11:52,287]\u001b[0m Trial 134 finished with values: [0.9833325585039249, 0.9833333333333333] and parameters: {'StandardScaler': 1, 'test size': 0.2, 'classifier': 'MLP', 'alpha': 1.3611024252456128e-09, 'solver': 'adam', 'activation': 'tanh', 'learning_rate': 'adaptive'}. \u001b[0m\n",
            "\u001b[32m[I 2021-12-02 19:12:05,752]\u001b[0m Trial 135 finished with values: [0.9833332270509837, 0.9833333333333333] and parameters: {'StandardScaler': 1, 'test size': 0.30000000000000004, 'classifier': 'MLP', 'alpha': 3.101331211644446e-13, 'solver': 'adam', 'activation': 'relu', 'learning_rate': 'constant'}. \u001b[0m\n",
            "\u001b[32m[I 2021-12-02 19:12:27,866]\u001b[0m Trial 136 finished with values: [0.9833268646467523, 0.9833333333333333] and parameters: {'StandardScaler': 1, 'test size': 0.1, 'classifier': 'MLP', 'alpha': 9.882292915479614e-12, 'solver': 'adam', 'activation': 'tanh', 'learning_rate': 'constant'}. \u001b[0m\n",
            "\u001b[32m[I 2021-12-02 19:12:38,903]\u001b[0m Trial 137 finished with values: [0.3323216995447648, 0.49772727272727274] and parameters: {'StandardScaler': 0, 'test size': 0.1, 'classifier': 'SVC', 'C': 0.0009045007277451313, 'kernel': 'sigmoid', 'gamma': 'auto'}. \u001b[0m\n",
            "\u001b[32m[I 2021-12-02 19:12:46,125]\u001b[0m Trial 138 finished with values: [0.7772516097051642, 0.7818181818181819] and parameters: {'StandardScaler': 0, 'test size': 0.2, 'classifier': 'MLP', 'alpha': 2.6273740496827498e-11, 'solver': 'adam', 'activation': 'relu', 'learning_rate': 'constant'}. \u001b[0m\n",
            "/usr/local/lib/python3.7/dist-packages/sklearn/neural_network/_multilayer_perceptron.py:696: ConvergenceWarning:\n",
            "\n",
            "Stochastic Optimizer: Maximum iterations (200) reached and the optimization hasn't converged yet.\n",
            "\n",
            "\u001b[32m[I 2021-12-02 19:13:03,020]\u001b[0m Trial 139 finished with values: [0.9473288283807706, 0.9473484848484849] and parameters: {'StandardScaler': 1, 'test size': 0.2, 'classifier': 'MLP', 'alpha': 1.4956248692585555e-09, 'solver': 'sgd', 'activation': 'relu', 'learning_rate': 'constant'}. \u001b[0m\n",
            "\u001b[32m[I 2021-12-02 19:13:08,190]\u001b[0m Trial 140 finished with values: [0.8765133797259488, 0.8765151515151515] and parameters: {'StandardScaler': 1, 'test size': 0.2, 'classifier': 'SVC', 'C': 0.15217650086812523, 'kernel': 'sigmoid', 'gamma': 'auto'}. \u001b[0m\n",
            "/usr/local/lib/python3.7/dist-packages/sklearn/neural_network/_multilayer_perceptron.py:696: ConvergenceWarning:\n",
            "\n",
            "Stochastic Optimizer: Maximum iterations (200) reached and the optimization hasn't converged yet.\n",
            "\n",
            "\u001b[32m[I 2021-12-02 19:13:31,684]\u001b[0m Trial 141 finished with values: [0.9139629955314682, 0.9140151515151516] and parameters: {'StandardScaler': 1, 'test size': 0.2, 'classifier': 'MLP', 'alpha': 1.4956248692585555e-09, 'solver': 'sgd', 'activation': 'tanh', 'learning_rate': 'adaptive'}. \u001b[0m\n",
            "\u001b[32m[I 2021-12-02 19:13:38,637]\u001b[0m Trial 142 finished with values: [0.32627280847262985, 0.484280303030303] and parameters: {'StandardScaler': 0, 'test size': 0.4, 'classifier': 'SVC', 'C': 0.7214566634713006, 'kernel': 'sigmoid', 'gamma': 'auto'}. \u001b[0m\n",
            "\u001b[32m[I 2021-12-02 19:13:40,745]\u001b[0m Trial 143 finished with values: [0.47269392231761276, 0.48787878787878786] and parameters: {'StandardScaler': 0, 'test size': 0.30000000000000004, 'classifier': 'MLP', 'alpha': 6.001573182888972e-13, 'solver': 'adam', 'activation': 'logistic', 'learning_rate': 'adaptive'}. \u001b[0m\n",
            "\u001b[32m[I 2021-12-02 19:13:49,019]\u001b[0m Trial 144 finished with values: [0.8875977823346244, 0.8878787878787879] and parameters: {'StandardScaler': 1, 'test size': 0.30000000000000004, 'classifier': 'SVC', 'C': 0.01174839762618421, 'kernel': 'rbf', 'gamma': 'auto'}. \u001b[0m\n",
            "/usr/local/lib/python3.7/dist-packages/sklearn/neural_network/_multilayer_perceptron.py:696: ConvergenceWarning:\n",
            "\n",
            "Stochastic Optimizer: Maximum iterations (200) reached and the optimization hasn't converged yet.\n",
            "\n",
            "\u001b[32m[I 2021-12-02 19:14:15,392]\u001b[0m Trial 145 finished with values: [0.9158835528004083, 0.9159090909090909] and parameters: {'StandardScaler': 1, 'test size': 0.1, 'classifier': 'MLP', 'alpha': 1.4956248692585555e-09, 'solver': 'sgd', 'activation': 'tanh', 'learning_rate': 'constant'}. \u001b[0m\n",
            "\u001b[32m[I 2021-12-02 19:14:21,064]\u001b[0m Trial 146 finished with values: [0.8760565337723979, 0.8761363636363636] and parameters: {'StandardScaler': 1, 'test size': 0.2, 'classifier': 'SVC', 'C': 0.15217650086812523, 'kernel': 'sigmoid', 'gamma': 'auto'}. \u001b[0m\n",
            "\u001b[32m[I 2021-12-02 19:14:23,687]\u001b[0m Trial 147 finished with values: [0.4927275588386182, 0.4994318181818182] and parameters: {'StandardScaler': 0, 'test size': 0.4, 'classifier': 'MLP', 'alpha': 1.6361634492421595e-13, 'solver': 'adam', 'activation': 'logistic', 'learning_rate': 'adaptive'}. \u001b[0m\n",
            "\u001b[32m[I 2021-12-02 19:14:42,864]\u001b[0m Trial 148 finished with values: [0.9787769164513351, 0.9787878787878788] and parameters: {'StandardScaler': 1, 'test size': 0.30000000000000004, 'classifier': 'MLP', 'alpha': 3.101331211644446e-13, 'solver': 'adam', 'activation': 'tanh', 'learning_rate': 'constant'}. \u001b[0m\n",
            "\u001b[32m[I 2021-12-02 19:15:01,647]\u001b[0m Trial 149 finished with values: [0.8877540701789868, 0.8878787878787879] and parameters: {'StandardScaler': 1, 'test size': 0.1, 'classifier': 'MLP', 'alpha': 2.2310715680694646e-10, 'solver': 'sgd', 'activation': 'logistic', 'learning_rate': 'constant'}. \u001b[0m\n",
            "\u001b[32m[I 2021-12-02 19:15:17,052]\u001b[0m Trial 150 finished with values: [0.9859791975961385, 0.9859848484848485] and parameters: {'StandardScaler': 1, 'test size': 0.2, 'classifier': 'MLP', 'alpha': 9.4094080053587e-10, 'solver': 'adam', 'activation': 'relu', 'learning_rate': 'adaptive'}. \u001b[0m\n",
            "\u001b[32m[I 2021-12-02 19:15:30,730]\u001b[0m Trial 151 finished with values: [0.9878767770825165, 0.9878787878787879] and parameters: {'StandardScaler': 1, 'test size': 0.2, 'classifier': 'MLP', 'alpha': 2.0033264426836306e-09, 'solver': 'adam', 'activation': 'relu', 'learning_rate': 'constant'}. \u001b[0m\n",
            "/usr/local/lib/python3.7/dist-packages/sklearn/neural_network/_multilayer_perceptron.py:696: ConvergenceWarning:\n",
            "\n",
            "Stochastic Optimizer: Maximum iterations (200) reached and the optimization hasn't converged yet.\n",
            "\n",
            "\u001b[32m[I 2021-12-02 19:15:56,963]\u001b[0m Trial 152 finished with values: [0.9097240860483253, 0.9098484848484848] and parameters: {'StandardScaler': 1, 'test size': 0.1, 'classifier': 'MLP', 'alpha': 9.882292915479614e-12, 'solver': 'sgd', 'activation': 'tanh', 'learning_rate': 'constant'}. \u001b[0m\n",
            "\u001b[32m[I 2021-12-02 19:16:12,690]\u001b[0m Trial 153 finished with values: [0.9893851424160058, 0.9893939393939394] and parameters: {'StandardScaler': 1, 'test size': 0.1, 'classifier': 'MLP', 'alpha': 3.101331211644446e-13, 'solver': 'adam', 'activation': 'relu', 'learning_rate': 'adaptive'}. \u001b[0m\n",
            "\u001b[32m[I 2021-12-02 19:16:32,413]\u001b[0m Trial 154 finished with values: [0.9784033614289604, 0.9784090909090909] and parameters: {'StandardScaler': 1, 'test size': 0.2, 'classifier': 'MLP', 'alpha': 1.0996557591532293e-10, 'solver': 'adam', 'activation': 'tanh', 'learning_rate': 'constant'}. \u001b[0m\n",
            "/usr/local/lib/python3.7/dist-packages/sklearn/neural_network/_multilayer_perceptron.py:696: ConvergenceWarning:\n",
            "\n",
            "Stochastic Optimizer: Maximum iterations (200) reached and the optimization hasn't converged yet.\n",
            "\n",
            "\u001b[32m[I 2021-12-02 19:16:51,325]\u001b[0m Trial 155 finished with values: [0.9835855560801006, 0.9835858585858586] and parameters: {'StandardScaler': 1, 'test size': 0.30000000000000004, 'classifier': 'MLP', 'alpha': 3.558450390218454e-09, 'solver': 'adam', 'activation': 'logistic', 'learning_rate': 'adaptive'}. \u001b[0m\n",
            "/usr/local/lib/python3.7/dist-packages/sklearn/neural_network/_multilayer_perceptron.py:696: ConvergenceWarning:\n",
            "\n",
            "Stochastic Optimizer: Maximum iterations (200) reached and the optimization hasn't converged yet.\n",
            "\n",
            "\u001b[32m[I 2021-12-02 19:17:12,729]\u001b[0m Trial 156 finished with values: [0.6761352019312512, 0.6761363636363636] and parameters: {'StandardScaler': 0, 'test size': 0.2, 'classifier': 'MLP', 'alpha': 1.4956248692585555e-09, 'solver': 'sgd', 'activation': 'logistic', 'learning_rate': 'constant'}. \u001b[0m\n",
            "\u001b[32m[I 2021-12-02 19:17:20,731]\u001b[0m Trial 157 finished with values: [0.87552818363605, 0.8757575757575757] and parameters: {'StandardScaler': 1, 'test size': 0.30000000000000004, 'classifier': 'SVC', 'C': 0.01752956397182444, 'kernel': 'rbf', 'gamma': 'auto'}. \u001b[0m\n",
            "\u001b[32m[I 2021-12-02 19:17:33,607]\u001b[0m Trial 158 finished with values: [0.985412521973519, 0.9854166666666667] and parameters: {'StandardScaler': 1, 'test size': 0.4, 'classifier': 'MLP', 'alpha': 1.9128281509102777e-12, 'solver': 'adam', 'activation': 'relu', 'learning_rate': 'adaptive'}. \u001b[0m\n",
            "\u001b[32m[I 2021-12-02 19:17:46,620]\u001b[0m Trial 159 finished with values: [0.9882535291442085, 0.9882575757575758] and parameters: {'StandardScaler': 1, 'test size': 0.2, 'classifier': 'MLP', 'alpha': 2.0033264426836306e-09, 'solver': 'adam', 'activation': 'relu', 'learning_rate': 'adaptive'}. \u001b[0m\n",
            "\u001b[32m[I 2021-12-02 19:18:00,974]\u001b[0m Trial 160 finished with values: [0.9840788465957814, 0.9840909090909091] and parameters: {'StandardScaler': 1, 'test size': 0.30000000000000004, 'classifier': 'MLP', 'alpha': 1.0996557591532293e-10, 'solver': 'adam', 'activation': 'relu', 'learning_rate': 'constant'}. \u001b[0m\n",
            "/usr/local/lib/python3.7/dist-packages/sklearn/neural_network/_multilayer_perceptron.py:696: ConvergenceWarning:\n",
            "\n",
            "Stochastic Optimizer: Maximum iterations (200) reached and the optimization hasn't converged yet.\n",
            "\n",
            "\u001b[32m[I 2021-12-02 19:18:22,794]\u001b[0m Trial 161 finished with values: [0.9840885713236105, 0.9840909090909091] and parameters: {'StandardScaler': 1, 'test size': 0.2, 'classifier': 'MLP', 'alpha': 1.9128281509102777e-12, 'solver': 'adam', 'activation': 'logistic', 'learning_rate': 'adaptive'}. \u001b[0m\n",
            "\u001b[32m[I 2021-12-02 19:18:41,891]\u001b[0m Trial 162 finished with values: [0.9821880734451995, 0.9821969696969697] and parameters: {'StandardScaler': 1, 'test size': 0.2, 'classifier': 'MLP', 'alpha': 1.340640463015051e-12, 'solver': 'adam', 'activation': 'tanh', 'learning_rate': 'adaptive'}. \u001b[0m\n",
            "\u001b[32m[I 2021-12-02 19:19:00,624]\u001b[0m Trial 163 finished with values: [0.9772434660525382, 0.9772727272727273] and parameters: {'StandardScaler': 1, 'test size': 0.30000000000000004, 'classifier': 'MLP', 'alpha': 1.0996557591532293e-10, 'solver': 'adam', 'activation': 'tanh', 'learning_rate': 'constant'}. \u001b[0m\n",
            "/usr/local/lib/python3.7/dist-packages/sklearn/neural_network/_multilayer_perceptron.py:696: ConvergenceWarning:\n",
            "\n",
            "Stochastic Optimizer: Maximum iterations (200) reached and the optimization hasn't converged yet.\n",
            "\n",
            "\u001b[32m[I 2021-12-02 19:19:22,211]\u001b[0m Trial 164 finished with values: [0.9874999982064965, 0.9875] and parameters: {'StandardScaler': 1, 'test size': 0.2, 'classifier': 'MLP', 'alpha': 3.101331211644446e-13, 'solver': 'adam', 'activation': 'logistic', 'learning_rate': 'adaptive'}. \u001b[0m\n",
            "/usr/local/lib/python3.7/dist-packages/sklearn/neural_network/_multilayer_perceptron.py:696: ConvergenceWarning:\n",
            "\n",
            "Stochastic Optimizer: Maximum iterations (200) reached and the optimization hasn't converged yet.\n",
            "\n",
            "\u001b[32m[I 2021-12-02 19:19:41,123]\u001b[0m Trial 165 finished with values: [0.9828125000000001, 0.9828282828282828] and parameters: {'StandardScaler': 1, 'test size': 0.30000000000000004, 'classifier': 'MLP', 'alpha': 9.882292915479614e-12, 'solver': 'adam', 'activation': 'logistic', 'learning_rate': 'constant'}. \u001b[0m\n",
            "/usr/local/lib/python3.7/dist-packages/sklearn/neural_network/_multilayer_perceptron.py:696: ConvergenceWarning:\n",
            "\n",
            "Stochastic Optimizer: Maximum iterations (200) reached and the optimization hasn't converged yet.\n",
            "\n",
            "\u001b[32m[I 2021-12-02 19:19:57,968]\u001b[0m Trial 166 finished with values: [0.9460731878675029, 0.9462121212121212] and parameters: {'StandardScaler': 1, 'test size': 0.2, 'classifier': 'MLP', 'alpha': 3.101331211644446e-13, 'solver': 'sgd', 'activation': 'relu', 'learning_rate': 'constant'}. \u001b[0m\n",
            "\u001b[32m[I 2021-12-02 19:20:13,100]\u001b[0m Trial 167 finished with values: [0.9878770067227509, 0.9878787878787879] and parameters: {'StandardScaler': 1, 'test size': 0.1, 'classifier': 'MLP', 'alpha': 1.4956248692585555e-09, 'solver': 'adam', 'activation': 'relu', 'learning_rate': 'adaptive'}. \u001b[0m\n",
            "\u001b[32m[I 2021-12-02 19:20:33,189]\u001b[0m Trial 168 finished with values: [0.9780090870496616, 0.978030303030303] and parameters: {'StandardScaler': 1, 'test size': 0.1, 'classifier': 'MLP', 'alpha': 2.742564209260707e-12, 'solver': 'adam', 'activation': 'tanh', 'learning_rate': 'adaptive'}. \u001b[0m\n",
            "/usr/local/lib/python3.7/dist-packages/sklearn/neural_network/_multilayer_perceptron.py:696: ConvergenceWarning:\n",
            "\n",
            "Stochastic Optimizer: Maximum iterations (200) reached and the optimization hasn't converged yet.\n",
            "\n",
            "\u001b[32m[I 2021-12-02 19:20:52,282]\u001b[0m Trial 169 finished with values: [0.9613519026380255, 0.9613636363636363] and parameters: {'StandardScaler': 1, 'test size': 0.1, 'classifier': 'MLP', 'alpha': 9.882292915479614e-12, 'solver': 'sgd', 'activation': 'relu', 'learning_rate': 'constant'}. \u001b[0m\n",
            "\u001b[32m[I 2021-12-02 19:21:05,369]\u001b[0m Trial 170 finished with values: [0.9878738389302848, 0.9878787878787879] and parameters: {'StandardScaler': 1, 'test size': 0.30000000000000004, 'classifier': 'MLP', 'alpha': 3.101331211644446e-13, 'solver': 'adam', 'activation': 'relu', 'learning_rate': 'constant'}. \u001b[0m\n",
            "/usr/local/lib/python3.7/dist-packages/sklearn/neural_network/_multilayer_perceptron.py:696: ConvergenceWarning:\n",
            "\n",
            "Stochastic Optimizer: Maximum iterations (200) reached and the optimization hasn't converged yet.\n",
            "\n",
            "\u001b[32m[I 2021-12-02 19:21:27,098]\u001b[0m Trial 171 finished with values: [0.985605060957516, 0.9856060606060606] and parameters: {'StandardScaler': 1, 'test size': 0.2, 'classifier': 'MLP', 'alpha': 1.9128281509102777e-12, 'solver': 'adam', 'activation': 'logistic', 'learning_rate': 'adaptive'}. \u001b[0m\n",
            "\u001b[32m[I 2021-12-02 19:21:37,669]\u001b[0m Trial 172 finished with values: [0.8751500503605737, 0.8753787878787879] and parameters: {'StandardScaler': 1, 'test size': 0.2, 'classifier': 'SVC', 'C': 0.006202390109100647, 'kernel': 'rbf', 'gamma': 'scale'}. \u001b[0m\n",
            "/usr/local/lib/python3.7/dist-packages/sklearn/neural_network/_multilayer_perceptron.py:696: ConvergenceWarning:\n",
            "\n",
            "Stochastic Optimizer: Maximum iterations (200) reached and the optimization hasn't converged yet.\n",
            "\n",
            "\u001b[32m[I 2021-12-02 19:21:53,874]\u001b[0m Trial 173 finished with values: [0.9778067982200174, 0.977840909090909] and parameters: {'StandardScaler': 1, 'test size': 0.4, 'classifier': 'MLP', 'alpha': 9.212533433451448e-11, 'solver': 'adam', 'activation': 'logistic', 'learning_rate': 'adaptive'}. \u001b[0m\n",
            "\u001b[32m[I 2021-12-02 19:22:08,471]\u001b[0m Trial 174 finished with values: [0.9845952434657488, 0.9845959595959596] and parameters: {'StandardScaler': 1, 'test size': 0.30000000000000004, 'classifier': 'MLP', 'alpha': 9.4094080053587e-10, 'solver': 'adam', 'activation': 'relu', 'learning_rate': 'constant'}. \u001b[0m\n",
            "/usr/local/lib/python3.7/dist-packages/sklearn/neural_network/_multilayer_perceptron.py:696: ConvergenceWarning:\n",
            "\n",
            "Stochastic Optimizer: Maximum iterations (200) reached and the optimization hasn't converged yet.\n",
            "\n",
            "\u001b[32m[I 2021-12-02 19:22:27,547]\u001b[0m Trial 175 finished with values: [0.9785315079459889, 0.9785353535353535] and parameters: {'StandardScaler': 1, 'test size': 0.30000000000000004, 'classifier': 'MLP', 'alpha': 9.4094080053587e-10, 'solver': 'adam', 'activation': 'logistic', 'learning_rate': 'adaptive'}. \u001b[0m\n",
            "\u001b[32m[I 2021-12-02 19:22:30,685]\u001b[0m Trial 176 finished with values: [0.8526164901277347, 0.8527777777777777] and parameters: {'StandardScaler': 1, 'test size': 0.30000000000000004, 'classifier': 'SVC', 'C': 0.8100172356068487, 'kernel': 'sigmoid', 'gamma': 'auto'}. \u001b[0m\n",
            "/usr/local/lib/python3.7/dist-packages/sklearn/neural_network/_multilayer_perceptron.py:696: ConvergenceWarning:\n",
            "\n",
            "Stochastic Optimizer: Maximum iterations (200) reached and the optimization hasn't converged yet.\n",
            "\n",
            "\u001b[32m[I 2021-12-02 19:22:45,556]\u001b[0m Trial 177 finished with values: [0.9540318562450777, 0.954040404040404] and parameters: {'StandardScaler': 1, 'test size': 0.30000000000000004, 'classifier': 'MLP', 'alpha': 1.1434710246970276e-11, 'solver': 'sgd', 'activation': 'relu', 'learning_rate': 'constant'}. \u001b[0m\n",
            "/usr/local/lib/python3.7/dist-packages/sklearn/neural_network/_multilayer_perceptron.py:696: ConvergenceWarning:\n",
            "\n",
            "Stochastic Optimizer: Maximum iterations (200) reached and the optimization hasn't converged yet.\n",
            "\n",
            "\u001b[32m[I 2021-12-02 19:23:11,912]\u001b[0m Trial 178 finished with values: [0.9119141416000883, 0.9121212121212121] and parameters: {'StandardScaler': 1, 'test size': 0.1, 'classifier': 'MLP', 'alpha': 1.6699461276318065e-13, 'solver': 'sgd', 'activation': 'tanh', 'learning_rate': 'constant'}. \u001b[0m\n",
            "\u001b[32m[I 2021-12-02 19:23:27,558]\u001b[0m Trial 179 finished with values: [0.3273885350318471, 0.48674242424242425] and parameters: {'StandardScaler': 1, 'test size': 0.2, 'classifier': 'SVC', 'C': 8.38735443263675e-07, 'kernel': 'sigmoid', 'gamma': 'scale'}. \u001b[0m\n",
            "\u001b[32m[I 2021-12-02 19:23:47,791]\u001b[0m Trial 180 finished with values: [0.9855742351698766, 0.9856060606060606] and parameters: {'StandardScaler': 1, 'test size': 0.2, 'classifier': 'MLP', 'alpha': 3.558450390218454e-09, 'solver': 'adam', 'activation': 'tanh', 'learning_rate': 'constant'}. \u001b[0m\n",
            "/usr/local/lib/python3.7/dist-packages/sklearn/neural_network/_multilayer_perceptron.py:696: ConvergenceWarning:\n",
            "\n",
            "Stochastic Optimizer: Maximum iterations (200) reached and the optimization hasn't converged yet.\n",
            "\n",
            "\u001b[32m[I 2021-12-02 19:24:04,035]\u001b[0m Trial 181 finished with values: [0.979914210480757, 0.9799242424242425] and parameters: {'StandardScaler': 1, 'test size': 0.4, 'classifier': 'MLP', 'alpha': 3.101331211644446e-13, 'solver': 'adam', 'activation': 'logistic', 'learning_rate': 'adaptive'}. \u001b[0m\n",
            "\u001b[32m[I 2021-12-02 19:24:06,088]\u001b[0m Trial 182 finished with values: [0.5892408313968315, 0.5897727272727272] and parameters: {'StandardScaler': 0, 'test size': 0.2, 'classifier': 'MLP', 'alpha': 1.9128281509102777e-12, 'solver': 'adam', 'activation': 'tanh', 'learning_rate': 'constant'}. \u001b[0m\n",
            "/usr/local/lib/python3.7/dist-packages/sklearn/neural_network/_multilayer_perceptron.py:696: ConvergenceWarning:\n",
            "\n",
            "Stochastic Optimizer: Maximum iterations (200) reached and the optimization hasn't converged yet.\n",
            "\n",
            "\u001b[32m[I 2021-12-02 19:24:25,125]\u001b[0m Trial 183 finished with values: [0.9830773019432975, 0.9830808080808081] and parameters: {'StandardScaler': 1, 'test size': 0.30000000000000004, 'classifier': 'MLP', 'alpha': 1.9128281509102777e-12, 'solver': 'adam', 'activation': 'logistic', 'learning_rate': 'adaptive'}. \u001b[0m\n",
            "\u001b[32m[I 2021-12-02 19:24:44,670]\u001b[0m Trial 184 finished with values: [0.9848352470217632, 0.9848484848484849] and parameters: {'StandardScaler': 1, 'test size': 0.2, 'classifier': 'MLP', 'alpha': 7.16730660770492e-13, 'solver': 'adam', 'activation': 'tanh', 'learning_rate': 'adaptive'}. \u001b[0m\n",
            "\u001b[32m[I 2021-12-02 19:25:05,446]\u001b[0m Trial 185 finished with values: [0.9837120066988534, 0.9837121212121213] and parameters: {'StandardScaler': 1, 'test size': 0.2, 'classifier': 'MLP', 'alpha': 1.0996557591532293e-10, 'solver': 'adam', 'activation': 'tanh', 'learning_rate': 'constant'}. \u001b[0m\n",
            "/usr/local/lib/python3.7/dist-packages/sklearn/neural_network/_multilayer_perceptron.py:696: ConvergenceWarning:\n",
            "\n",
            "Stochastic Optimizer: Maximum iterations (200) reached and the optimization hasn't converged yet.\n",
            "\n",
            "\u001b[32m[I 2021-12-02 19:25:24,597]\u001b[0m Trial 186 finished with values: [0.9598482774532238, 0.9598484848484848] and parameters: {'StandardScaler': 1, 'test size': 0.1, 'classifier': 'MLP', 'alpha': 8.990079895619952e-09, 'solver': 'sgd', 'activation': 'relu', 'learning_rate': 'adaptive'}. \u001b[0m\n",
            "\u001b[32m[I 2021-12-02 19:25:43,815]\u001b[0m Trial 187 finished with values: [0.9787864056216025, 0.9787878787878788] and parameters: {'StandardScaler': 1, 'test size': 0.2, 'classifier': 'MLP', 'alpha': 9.4094080053587e-10, 'solver': 'adam', 'activation': 'tanh', 'learning_rate': 'constant'}. \u001b[0m\n",
            "\u001b[32m[I 2021-12-02 19:26:04,016]\u001b[0m Trial 188 finished with values: [0.9844678227500765, 0.984469696969697] and parameters: {'StandardScaler': 1, 'test size': 0.2, 'classifier': 'MLP', 'alpha': 1.0460665190913303e-10, 'solver': 'adam', 'activation': 'tanh', 'learning_rate': 'constant'}. \u001b[0m\n",
            "\u001b[32m[I 2021-12-02 19:26:19,000]\u001b[0m Trial 189 finished with values: [0.8615056818181819, 0.8621212121212121] and parameters: {'StandardScaler': 1, 'test size': 0.1, 'classifier': 'SVC', 'C': 0.0027072840135378413, 'kernel': 'rbf', 'gamma': 'scale'}. \u001b[0m\n",
            "\u001b[32m[I 2021-12-02 19:26:39,056]\u001b[0m Trial 190 finished with values: [0.9795392425730722, 0.9795454545454545] and parameters: {'StandardScaler': 1, 'test size': 0.2, 'classifier': 'MLP', 'alpha': 1.0996557591532293e-10, 'solver': 'adam', 'activation': 'tanh', 'learning_rate': 'constant'}. \u001b[0m\n",
            "\u001b[32m[I 2021-12-02 19:26:50,520]\u001b[0m Trial 191 finished with values: [0.9840908520246932, 0.9840909090909091] and parameters: {'StandardScaler': 1, 'test size': 0.4, 'classifier': 'MLP', 'alpha': 8.040837028410876e-09, 'solver': 'adam', 'activation': 'relu', 'learning_rate': 'adaptive'}. \u001b[0m\n",
            "/usr/local/lib/python3.7/dist-packages/sklearn/neural_network/_multilayer_perceptron.py:696: ConvergenceWarning:\n",
            "\n",
            "Stochastic Optimizer: Maximum iterations (200) reached and the optimization hasn't converged yet.\n",
            "\n",
            "\u001b[32m[I 2021-12-02 19:27:09,425]\u001b[0m Trial 192 finished with values: [0.9810358766095799, 0.9810606060606061] and parameters: {'StandardScaler': 1, 'test size': 0.30000000000000004, 'classifier': 'MLP', 'alpha': 1.589760146693692e-11, 'solver': 'adam', 'activation': 'logistic', 'learning_rate': 'adaptive'}. \u001b[0m\n",
            "\u001b[32m[I 2021-12-02 19:27:24,385]\u001b[0m Trial 193 finished with values: [0.9852257273810923, 0.9852272727272727] and parameters: {'StandardScaler': 1, 'test size': 0.2, 'classifier': 'MLP', 'alpha': 1.340640463015051e-12, 'solver': 'adam', 'activation': 'relu', 'learning_rate': 'constant'}. \u001b[0m\n",
            "\u001b[32m[I 2021-12-02 19:27:40,927]\u001b[0m Trial 194 finished with values: [0.9787847617648139, 0.9787878787878788] and parameters: {'StandardScaler': 1, 'test size': 0.4, 'classifier': 'MLP', 'alpha': 3.101331211644446e-13, 'solver': 'adam', 'activation': 'tanh', 'learning_rate': 'constant'}. \u001b[0m\n",
            "\u001b[32m[I 2021-12-02 19:27:44,540]\u001b[0m Trial 195 finished with values: [0.4999997117289976, 0.5022727272727273] and parameters: {'StandardScaler': 0, 'test size': 0.2, 'classifier': 'MLP', 'alpha': 1.9128281509102777e-12, 'solver': 'adam', 'activation': 'logistic', 'learning_rate': 'adaptive'}. \u001b[0m\n",
            "\u001b[32m[I 2021-12-02 19:28:03,884]\u001b[0m Trial 196 finished with values: [0.9810605951908833, 0.9810606060606061] and parameters: {'StandardScaler': 1, 'test size': 0.2, 'classifier': 'MLP', 'alpha': 1.0996557591532293e-10, 'solver': 'adam', 'activation': 'tanh', 'learning_rate': 'adaptive'}. \u001b[0m\n",
            "/usr/local/lib/python3.7/dist-packages/sklearn/neural_network/_multilayer_perceptron.py:696: ConvergenceWarning:\n",
            "\n",
            "Stochastic Optimizer: Maximum iterations (200) reached and the optimization hasn't converged yet.\n",
            "\n",
            "\u001b[32m[I 2021-12-02 19:28:18,773]\u001b[0m Trial 197 finished with values: [0.9428428515628293, 0.942929292929293] and parameters: {'StandardScaler': 1, 'test size': 0.30000000000000004, 'classifier': 'MLP', 'alpha': 1.5941361448034762e-13, 'solver': 'sgd', 'activation': 'relu', 'learning_rate': 'adaptive'}. \u001b[0m\n",
            "\u001b[32m[I 2021-12-02 19:28:38,136]\u001b[0m Trial 198 finished with values: [0.9821801945960664, 0.9821969696969697] and parameters: {'StandardScaler': 1, 'test size': 0.2, 'classifier': 'MLP', 'alpha': 9.4094080053587e-10, 'solver': 'adam', 'activation': 'tanh', 'learning_rate': 'adaptive'}. \u001b[0m\n",
            "\u001b[32m[I 2021-12-02 19:28:52,066]\u001b[0m Trial 199 finished with values: [0.9888880697510861, 0.9888888888888889] and parameters: {'StandardScaler': 1, 'test size': 0.30000000000000004, 'classifier': 'MLP', 'alpha': 1.0996557591532293e-10, 'solver': 'adam', 'activation': 'relu', 'learning_rate': 'constant'}. \u001b[0m\n"
          ]
        }
      ]
    },
    {
      "cell_type": "markdown",
      "metadata": {
        "id": "aMkaHF8whRYw"
      },
      "source": [
        "#Results"
      ]
    },
    {
      "cell_type": "code",
      "metadata": {
        "id": "gXUCuSP15THE"
      },
      "source": [
        "trialsFile = 'drive/MyDrive/NEURAL/first/kaggle/study' \n",
        "with open(trialsFile, 'rb') as handle:\n",
        "    trials = pickle.load(handle)"
      ],
      "execution_count": 7,
      "outputs": []
    },
    {
      "cell_type": "markdown",
      "metadata": {
        "id": "A7DbVR3go0r3"
      },
      "source": [
        "Χωρίζουμε τα δεδομένα με βάση τον classifier"
      ]
    },
    {
      "cell_type": "code",
      "metadata": {
        "id": "mcZzvseS8dwM"
      },
      "source": [
        "MLPs = []\n",
        "SVCs =[]\n",
        "\n",
        "for trial in trials:\n",
        "  if trial.params['classifier'] == 'MLP':\n",
        "    MLPs.append(trial)\n",
        "  elif trial.params['classifier'] =='SVC':\n",
        "    SVCs.append(trial)"
      ],
      "execution_count": 10,
      "outputs": []
    },
    {
      "cell_type": "markdown",
      "metadata": {
        "id": "syw06Im3pBFn"
      },
      "source": [
        "Κάνουμε sort με βάση το f1 score, για να δούμε τις ακραίες περιπρώσεις."
      ]
    },
    {
      "cell_type": "markdown",
      "metadata": {
        "id": "QgufY9EVrfIy"
      },
      "source": [
        "###MLP outliers"
      ]
    },
    {
      "cell_type": "code",
      "metadata": {
        "id": "GnJqnhEM9M16"
      },
      "source": [
        "MLPs.sort(key = lambda key:key.values[0])"
      ],
      "execution_count": 11,
      "outputs": []
    },
    {
      "cell_type": "code",
      "metadata": {
        "id": "syqDzzoQ9a2V"
      },
      "source": [
        "MLPsWorse = MLPs[:5]"
      ],
      "execution_count": 12,
      "outputs": []
    },
    {
      "cell_type": "code",
      "metadata": {
        "id": "sJ9WUe5q-MCn"
      },
      "source": [
        "MLPsBest = MLPs[-5:]"
      ],
      "execution_count": 13,
      "outputs": []
    },
    {
      "cell_type": "code",
      "metadata": {
        "colab": {
          "base_uri": "https://localhost:8080/"
        },
        "id": "C9AbP44dpT5j",
        "outputId": "762b5432-5bf0-4079-a018-d80f32f9c4c1"
      },
      "source": [
        "MLPsWorse"
      ],
      "execution_count": 49,
      "outputs": [
        {
          "output_type": "execute_result",
          "data": {
            "text/plain": [
              "[FrozenTrial(number=105, values=[0.3330807123910572, 0.4994318181818182], datetime_start=datetime.datetime(2021, 12, 2, 19, 3, 57, 813600), datetime_complete=datetime.datetime(2021, 12, 2, 19, 4, 1, 265050), params={'StandardScaler': 0, 'test size': 0.4, 'classifier': 'MLP', 'alpha': 8.253855370372395e-12, 'solver': 'sgd', 'activation': 'relu', 'learning_rate': 'adaptive'}, distributions={'StandardScaler': IntUniformDistribution(high=1, low=0, step=1), 'test size': DiscreteUniformDistribution(high=0.4, low=0.1, q=0.1), 'classifier': CategoricalDistribution(choices=('SVC', 'MLP')), 'alpha': LogUniformDistribution(high=1e-08, low=1e-13), 'solver': CategoricalDistribution(choices=('sgd', 'adam')), 'activation': CategoricalDistribution(choices=('logistic', 'tanh', 'relu')), 'learning_rate': CategoricalDistribution(choices=('constant', 'adaptive'))}, user_attrs={}, system_attrs={'nsga2:generation': 2, 'nsga2:parents': [86, 56]}, intermediate_values={}, trial_id=105, state=TrialState.COMPLETE, value=None),\n",
              " FrozenTrial(number=35, values=[0.33784800601956355, 0.5102272727272728], datetime_start=datetime.datetime(2021, 12, 2, 18, 48, 15, 768576), datetime_complete=datetime.datetime(2021, 12, 2, 18, 48, 16, 593478), params={'StandardScaler': 0, 'test size': 0.2, 'classifier': 'MLP', 'alpha': 1.0162142687669362e-12, 'solver': 'sgd', 'activation': 'relu', 'learning_rate': 'constant'}, distributions={'StandardScaler': IntUniformDistribution(high=1, low=0, step=1), 'test size': DiscreteUniformDistribution(high=0.4, low=0.1, q=0.1), 'classifier': CategoricalDistribution(choices=('SVC', 'MLP')), 'alpha': LogUniformDistribution(high=1e-08, low=1e-13), 'solver': CategoricalDistribution(choices=('sgd', 'adam')), 'activation': CategoricalDistribution(choices=('logistic', 'tanh', 'relu')), 'learning_rate': CategoricalDistribution(choices=('constant', 'adaptive'))}, user_attrs={}, system_attrs={'nsga2:generation': 0}, intermediate_values={}, trial_id=35, state=TrialState.COMPLETE, value=None),\n",
              " FrozenTrial(number=8, values=[0.3469677685541632, 0.5145833333333333], datetime_start=datetime.datetime(2021, 12, 2, 18, 42, 17, 116127), datetime_complete=datetime.datetime(2021, 12, 2, 18, 42, 17, 768460), params={'StandardScaler': 0, 'test size': 0.4, 'classifier': 'MLP', 'alpha': 4.738979631252411e-09, 'solver': 'sgd', 'activation': 'relu', 'learning_rate': 'constant'}, distributions={'StandardScaler': IntUniformDistribution(high=1, low=0, step=1), 'test size': DiscreteUniformDistribution(high=0.4, low=0.1, q=0.1), 'classifier': CategoricalDistribution(choices=('SVC', 'MLP')), 'alpha': LogUniformDistribution(high=1e-08, low=1e-13), 'solver': CategoricalDistribution(choices=('sgd', 'adam')), 'activation': CategoricalDistribution(choices=('logistic', 'tanh', 'relu')), 'learning_rate': CategoricalDistribution(choices=('constant', 'adaptive'))}, user_attrs={}, system_attrs={'nsga2:generation': 0}, intermediate_values={}, trial_id=8, state=TrialState.COMPLETE, value=None),\n",
              " FrozenTrial(number=75, values=[0.42560462065814453, 0.47632575757575757], datetime_start=datetime.datetime(2021, 12, 2, 18, 57, 26, 77367), datetime_complete=datetime.datetime(2021, 12, 2, 18, 57, 27, 804707), params={'StandardScaler': 0, 'test size': 0.4, 'classifier': 'MLP', 'alpha': 8.049692801655839e-10, 'solver': 'adam', 'activation': 'logistic', 'learning_rate': 'adaptive'}, distributions={'StandardScaler': IntUniformDistribution(high=1, low=0, step=1), 'test size': DiscreteUniformDistribution(high=0.4, low=0.1, q=0.1), 'classifier': CategoricalDistribution(choices=('SVC', 'MLP')), 'alpha': LogUniformDistribution(high=1e-08, low=1e-13), 'solver': CategoricalDistribution(choices=('sgd', 'adam')), 'activation': CategoricalDistribution(choices=('logistic', 'tanh', 'relu')), 'learning_rate': CategoricalDistribution(choices=('constant', 'adaptive'))}, user_attrs={}, system_attrs={'nsga2:generation': 1, 'nsga2:parents': [40, 0]}, intermediate_values={}, trial_id=75, state=TrialState.COMPLETE, value=None),\n",
              " FrozenTrial(number=60, values=[0.46420551734909454, 0.4732323232323232], datetime_start=datetime.datetime(2021, 12, 2, 18, 54, 14, 256885), datetime_complete=datetime.datetime(2021, 12, 2, 18, 54, 16, 458262), params={'StandardScaler': 0, 'test size': 0.30000000000000004, 'classifier': 'MLP', 'alpha': 1.0996557591532293e-10, 'solver': 'adam', 'activation': 'logistic', 'learning_rate': 'adaptive'}, distributions={'StandardScaler': IntUniformDistribution(high=1, low=0, step=1), 'test size': DiscreteUniformDistribution(high=0.4, low=0.1, q=0.1), 'classifier': CategoricalDistribution(choices=('SVC', 'MLP')), 'alpha': LogUniformDistribution(high=1e-08, low=1e-13), 'solver': CategoricalDistribution(choices=('sgd', 'adam')), 'activation': CategoricalDistribution(choices=('logistic', 'tanh', 'relu')), 'learning_rate': CategoricalDistribution(choices=('constant', 'adaptive'))}, user_attrs={}, system_attrs={'nsga2:generation': 1, 'nsga2:parents': [45, 42]}, intermediate_values={}, trial_id=60, state=TrialState.COMPLETE, value=None)]"
            ]
          },
          "metadata": {},
          "execution_count": 49
        }
      ]
    },
    {
      "cell_type": "code",
      "metadata": {
        "colab": {
          "base_uri": "https://localhost:8080/"
        },
        "id": "eeYlHcfR_XaQ",
        "outputId": "c7c65de7-c8f3-4ba4-866d-d955de89f41d"
      },
      "source": [
        "MLPsBest"
      ],
      "execution_count": 14,
      "outputs": [
        {
          "output_type": "execute_result",
          "data": {
            "text/plain": [
              "[FrozenTrial(number=123, values=[0.9882531919410351, 0.9882575757575758], datetime_start=datetime.datetime(2021, 12, 2, 19, 9, 14, 468997), datetime_complete=datetime.datetime(2021, 12, 2, 19, 9, 29, 383467), params={'StandardScaler': 1, 'test size': 0.2, 'classifier': 'MLP', 'alpha': 1.340640463015051e-12, 'solver': 'adam', 'activation': 'relu', 'learning_rate': 'constant'}, distributions={'StandardScaler': IntUniformDistribution(high=1, low=0, step=1), 'test size': DiscreteUniformDistribution(high=0.4, low=0.1, q=0.1), 'classifier': CategoricalDistribution(choices=('SVC', 'MLP')), 'alpha': LogUniformDistribution(high=1e-08, low=1e-13), 'solver': CategoricalDistribution(choices=('sgd', 'adam')), 'activation': CategoricalDistribution(choices=('logistic', 'tanh', 'relu')), 'learning_rate': CategoricalDistribution(choices=('constant', 'adaptive'))}, user_attrs={}, system_attrs={'nsga2:generation': 2, 'nsga2:parents': [45, 54]}, intermediate_values={}, trial_id=123, state=TrialState.COMPLETE, value=None),\n",
              " FrozenTrial(number=159, values=[0.9882535291442085, 0.9882575757575758], datetime_start=datetime.datetime(2021, 12, 2, 19, 17, 33, 613441), datetime_complete=datetime.datetime(2021, 12, 2, 19, 17, 46, 619884), params={'StandardScaler': 1, 'test size': 0.2, 'classifier': 'MLP', 'alpha': 2.0033264426836306e-09, 'solver': 'adam', 'activation': 'relu', 'learning_rate': 'adaptive'}, distributions={'StandardScaler': IntUniformDistribution(high=1, low=0, step=1), 'test size': DiscreteUniformDistribution(high=0.4, low=0.1, q=0.1), 'classifier': CategoricalDistribution(choices=('SVC', 'MLP')), 'alpha': LogUniformDistribution(high=1e-08, low=1e-13), 'solver': CategoricalDistribution(choices=('sgd', 'adam')), 'activation': CategoricalDistribution(choices=('logistic', 'tanh', 'relu')), 'learning_rate': CategoricalDistribution(choices=('constant', 'adaptive'))}, user_attrs={}, system_attrs={'nsga2:generation': 3, 'nsga2:parents': [117, 115]}, intermediate_values={}, trial_id=159, state=TrialState.COMPLETE, value=None),\n",
              " FrozenTrial(number=85, values=[0.9886193749967669, 0.9886363636363636], datetime_start=datetime.datetime(2021, 12, 2, 18, 59, 26, 19860), datetime_complete=datetime.datetime(2021, 12, 2, 18, 59, 50, 189973), params={'StandardScaler': 1, 'test size': 0.1, 'classifier': 'MLP', 'alpha': 9.882292915479614e-12, 'solver': 'adam', 'activation': 'logistic', 'learning_rate': 'constant'}, distributions={'StandardScaler': IntUniformDistribution(high=1, low=0, step=1), 'test size': DiscreteUniformDistribution(high=0.4, low=0.1, q=0.1), 'classifier': CategoricalDistribution(choices=('SVC', 'MLP')), 'alpha': LogUniformDistribution(high=1e-08, low=1e-13), 'solver': CategoricalDistribution(choices=('sgd', 'adam')), 'activation': CategoricalDistribution(choices=('logistic', 'tanh', 'relu')), 'learning_rate': CategoricalDistribution(choices=('constant', 'adaptive'))}, user_attrs={}, system_attrs={'nsga2:generation': 1, 'nsga2:parents': [37, 43]}, intermediate_values={}, trial_id=85, state=TrialState.COMPLETE, value=None),\n",
              " FrozenTrial(number=199, values=[0.9888880697510861, 0.9888888888888889], datetime_start=datetime.datetime(2021, 12, 2, 19, 28, 38, 138651), datetime_complete=datetime.datetime(2021, 12, 2, 19, 28, 52, 66539), params={'StandardScaler': 1, 'test size': 0.30000000000000004, 'classifier': 'MLP', 'alpha': 1.0996557591532293e-10, 'solver': 'adam', 'activation': 'relu', 'learning_rate': 'constant'}, distributions={'StandardScaler': IntUniformDistribution(high=1, low=0, step=1), 'test size': DiscreteUniformDistribution(high=0.4, low=0.1, q=0.1), 'classifier': CategoricalDistribution(choices=('SVC', 'MLP')), 'alpha': LogUniformDistribution(high=1e-08, low=1e-13), 'solver': CategoricalDistribution(choices=('sgd', 'adam')), 'activation': CategoricalDistribution(choices=('logistic', 'tanh', 'relu')), 'learning_rate': CategoricalDistribution(choices=('constant', 'adaptive'))}, user_attrs={}, system_attrs={'nsga2:generation': 3, 'nsga2:parents': [114, 123]}, intermediate_values={}, trial_id=199, state=TrialState.COMPLETE, value=None),\n",
              " FrozenTrial(number=153, values=[0.9893851424160058, 0.9893939393939394], datetime_start=datetime.datetime(2021, 12, 2, 19, 15, 56, 966042), datetime_complete=datetime.datetime(2021, 12, 2, 19, 16, 12, 690478), params={'StandardScaler': 1, 'test size': 0.1, 'classifier': 'MLP', 'alpha': 3.101331211644446e-13, 'solver': 'adam', 'activation': 'relu', 'learning_rate': 'adaptive'}, distributions={'StandardScaler': IntUniformDistribution(high=1, low=0, step=1), 'test size': DiscreteUniformDistribution(high=0.4, low=0.1, q=0.1), 'classifier': CategoricalDistribution(choices=('SVC', 'MLP')), 'alpha': LogUniformDistribution(high=1e-08, low=1e-13), 'solver': CategoricalDistribution(choices=('sgd', 'adam')), 'activation': CategoricalDistribution(choices=('logistic', 'tanh', 'relu')), 'learning_rate': CategoricalDistribution(choices=('constant', 'adaptive'))}, user_attrs={}, system_attrs={'nsga2:generation': 3, 'nsga2:parents': [132, 85]}, intermediate_values={}, trial_id=153, state=TrialState.COMPLETE, value=None)]"
            ]
          },
          "metadata": {},
          "execution_count": 14
        }
      ]
    },
    {
      "cell_type": "markdown",
      "metadata": {
        "id": "PfLcZJxyrkEa"
      },
      "source": [
        "###SVC outliers"
      ]
    },
    {
      "cell_type": "code",
      "metadata": {
        "id": "HC18GwtIrn06"
      },
      "source": [
        "SVCs.sort(key = lambda key:key.values[0])"
      ],
      "execution_count": 51,
      "outputs": []
    },
    {
      "cell_type": "code",
      "metadata": {
        "id": "losZHovzrnrp"
      },
      "source": [
        "SVCsWorse = SVCs[:5]"
      ],
      "execution_count": 52,
      "outputs": []
    },
    {
      "cell_type": "code",
      "metadata": {
        "id": "3SGtRar9rngw"
      },
      "source": [
        "SVCsBest = SVCs[-5:]"
      ],
      "execution_count": 53,
      "outputs": []
    },
    {
      "cell_type": "code",
      "metadata": {
        "colab": {
          "base_uri": "https://localhost:8080/"
        },
        "id": "Q_UHg6-crnYK",
        "outputId": "cb833b66-21e4-4fe3-b76d-1ead17033a9b"
      },
      "source": [
        "SVCsWorse"
      ],
      "execution_count": 54,
      "outputs": [
        {
          "output_type": "execute_result",
          "data": {
            "text/plain": [
              "[FrozenTrial(number=4, values=[0.31712364200724263, 0.4643939393939394], datetime_start=datetime.datetime(2021, 12, 2, 18, 41, 22, 611361), datetime_complete=datetime.datetime(2021, 12, 2, 18, 41, 33, 545491), params={'StandardScaler': 0, 'test size': 0.1, 'classifier': 'SVC', 'C': 0.01192107798646013, 'kernel': 'sigmoid', 'gamma': 'auto'}, distributions={'StandardScaler': IntUniformDistribution(high=1, low=0, step=1), 'test size': DiscreteUniformDistribution(high=0.4, low=0.1, q=0.1), 'classifier': CategoricalDistribution(choices=('SVC', 'MLP')), 'C': LogUniformDistribution(high=1.0, low=1e-10), 'kernel': CategoricalDistribution(choices=('rbf', 'sigmoid')), 'gamma': CategoricalDistribution(choices=('auto', 'scale'))}, user_attrs={}, system_attrs={'nsga2:generation': 0}, intermediate_values={}, trial_id=4, state=TrialState.COMPLETE, value=None),\n",
              " FrozenTrial(number=14, values=[0.32342388518708354, 0.478030303030303], datetime_start=datetime.datetime(2021, 12, 2, 18, 43, 21, 71674), datetime_complete=datetime.datetime(2021, 12, 2, 18, 43, 35, 598455), params={'StandardScaler': 0, 'test size': 0.1, 'classifier': 'SVC', 'C': 4.0327625186680925e-08, 'kernel': 'rbf', 'gamma': 'auto'}, distributions={'StandardScaler': IntUniformDistribution(high=1, low=0, step=1), 'test size': DiscreteUniformDistribution(high=0.4, low=0.1, q=0.1), 'classifier': CategoricalDistribution(choices=('SVC', 'MLP')), 'C': LogUniformDistribution(high=1.0, low=1e-10), 'kernel': CategoricalDistribution(choices=('rbf', 'sigmoid')), 'gamma': CategoricalDistribution(choices=('auto', 'scale'))}, user_attrs={}, system_attrs={'nsga2:generation': 0}, intermediate_values={}, trial_id=14, state=TrialState.COMPLETE, value=None),\n",
              " FrozenTrial(number=142, values=[0.32627280847262985, 0.484280303030303], datetime_start=datetime.datetime(2021, 12, 2, 19, 13, 31, 686543), datetime_complete=datetime.datetime(2021, 12, 2, 19, 13, 38, 637699), params={'StandardScaler': 0, 'test size': 0.4, 'classifier': 'SVC', 'C': 0.7214566634713006, 'kernel': 'sigmoid', 'gamma': 'auto'}, distributions={'StandardScaler': IntUniformDistribution(high=1, low=0, step=1), 'test size': DiscreteUniformDistribution(high=0.4, low=0.1, q=0.1), 'classifier': CategoricalDistribution(choices=('SVC', 'MLP')), 'C': LogUniformDistribution(high=1.0, low=1e-10), 'kernel': CategoricalDistribution(choices=('rbf', 'sigmoid')), 'gamma': CategoricalDistribution(choices=('auto', 'scale'))}, user_attrs={}, system_attrs={'nsga2:generation': 2, 'nsga2:parents': [58, 86]}, intermediate_values={}, trial_id=142, state=TrialState.COMPLETE, value=None),\n",
              " FrozenTrial(number=31, values=[0.32687404385517593, 0.4856060606060606], datetime_start=datetime.datetime(2021, 12, 2, 18, 47, 31, 684209), datetime_complete=datetime.datetime(2021, 12, 2, 18, 47, 50, 451140), params={'StandardScaler': 1, 'test size': 0.1, 'classifier': 'SVC', 'C': 5.597132253721025e-05, 'kernel': 'rbf', 'gamma': 'auto'}, distributions={'StandardScaler': IntUniformDistribution(high=1, low=0, step=1), 'test size': DiscreteUniformDistribution(high=0.4, low=0.1, q=0.1), 'classifier': CategoricalDistribution(choices=('SVC', 'MLP')), 'C': LogUniformDistribution(high=1.0, low=1e-10), 'kernel': CategoricalDistribution(choices=('rbf', 'sigmoid')), 'gamma': CategoricalDistribution(choices=('auto', 'scale'))}, user_attrs={}, system_attrs={'nsga2:generation': 0}, intermediate_values={}, trial_id=31, state=TrialState.COMPLETE, value=None),\n",
              " FrozenTrial(number=63, values=[0.32733140818753187, 0.4866161616161616], datetime_start=datetime.datetime(2021, 12, 2, 18, 54, 42, 415377), datetime_complete=datetime.datetime(2021, 12, 2, 18, 54, 56, 441244), params={'StandardScaler': 0, 'test size': 0.30000000000000004, 'classifier': 'SVC', 'C': 4.757543850277486e-10, 'kernel': 'rbf', 'gamma': 'scale'}, distributions={'StandardScaler': IntUniformDistribution(high=1, low=0, step=1), 'test size': DiscreteUniformDistribution(high=0.4, low=0.1, q=0.1), 'classifier': CategoricalDistribution(choices=('SVC', 'MLP')), 'C': LogUniformDistribution(high=1.0, low=1e-10), 'kernel': CategoricalDistribution(choices=('rbf', 'sigmoid')), 'gamma': CategoricalDistribution(choices=('auto', 'scale'))}, user_attrs={}, system_attrs={'nsga2:generation': 1, 'nsga2:parents': [23, 22]}, intermediate_values={}, trial_id=63, state=TrialState.COMPLETE, value=None)]"
            ]
          },
          "metadata": {},
          "execution_count": 54
        }
      ]
    },
    {
      "cell_type": "code",
      "metadata": {
        "colab": {
          "base_uri": "https://localhost:8080/"
        },
        "id": "JiMkgPn_rqat",
        "outputId": "23c84ce7-19b3-4801-c8bf-15498a0435e8"
      },
      "source": [
        "SVCsBest"
      ],
      "execution_count": 56,
      "outputs": [
        {
          "output_type": "execute_result",
          "data": {
            "text/plain": [
              "[FrozenTrial(number=144, values=[0.8875977823346244, 0.8878787878787879], datetime_start=datetime.datetime(2021, 12, 2, 19, 13, 40, 753894), datetime_complete=datetime.datetime(2021, 12, 2, 19, 13, 49, 19652), params={'StandardScaler': 1, 'test size': 0.30000000000000004, 'classifier': 'SVC', 'C': 0.01174839762618421, 'kernel': 'rbf', 'gamma': 'auto'}, distributions={'StandardScaler': IntUniformDistribution(high=1, low=0, step=1), 'test size': DiscreteUniformDistribution(high=0.4, low=0.1, q=0.1), 'classifier': CategoricalDistribution(choices=('SVC', 'MLP')), 'C': LogUniformDistribution(high=1.0, low=1e-10), 'kernel': CategoricalDistribution(choices=('rbf', 'sigmoid')), 'gamma': CategoricalDistribution(choices=('auto', 'scale'))}, user_attrs={}, system_attrs={'nsga2:generation': 2, 'nsga2:parents': [96, 80]}, intermediate_values={}, trial_id=144, state=TrialState.COMPLETE, value=None),\n",
              " FrozenTrial(number=133, values=[0.8961214420990776, 0.8962121212121212], datetime_start=datetime.datetime(2021, 12, 2, 19, 11, 19, 427195), datetime_complete=datetime.datetime(2021, 12, 2, 19, 11, 32, 690855), params={'StandardScaler': 1, 'test size': 0.1, 'classifier': 'SVC', 'C': 0.004577850635519135, 'kernel': 'rbf', 'gamma': 'scale'}, distributions={'StandardScaler': IntUniformDistribution(high=1, low=0, step=1), 'test size': DiscreteUniformDistribution(high=0.4, low=0.1, q=0.1), 'classifier': CategoricalDistribution(choices=('SVC', 'MLP')), 'C': LogUniformDistribution(high=1.0, low=1e-10), 'kernel': CategoricalDistribution(choices=('rbf', 'sigmoid')), 'gamma': CategoricalDistribution(choices=('auto', 'scale'))}, user_attrs={}, system_attrs={'nsga2:generation': 2, 'nsga2:parents': [70, 50]}, intermediate_values={}, trial_id=133, state=TrialState.COMPLETE, value=None),\n",
              " FrozenTrial(number=24, values=[0.9208014134484586, 0.9208333333333333], datetime_start=datetime.datetime(2021, 12, 2, 18, 45, 52, 762057), datetime_complete=datetime.datetime(2021, 12, 2, 18, 45, 58, 380524), params={'StandardScaler': 1, 'test size': 0.2, 'classifier': 'SVC', 'C': 0.15217650086812523, 'kernel': 'rbf', 'gamma': 'auto'}, distributions={'StandardScaler': IntUniformDistribution(high=1, low=0, step=1), 'test size': DiscreteUniformDistribution(high=0.4, low=0.1, q=0.1), 'classifier': CategoricalDistribution(choices=('SVC', 'MLP')), 'C': LogUniformDistribution(high=1.0, low=1e-10), 'kernel': CategoricalDistribution(choices=('rbf', 'sigmoid')), 'gamma': CategoricalDistribution(choices=('auto', 'scale'))}, user_attrs={}, system_attrs={'nsga2:generation': 0}, intermediate_values={}, trial_id=24, state=TrialState.COMPLETE, value=None),\n",
              " FrozenTrial(number=54, values=[0.9264137508125004, 0.9265151515151515], datetime_start=datetime.datetime(2021, 12, 2, 18, 53, 12, 332003), datetime_complete=datetime.datetime(2021, 12, 2, 18, 53, 18, 123944), params={'StandardScaler': 1, 'test size': 0.2, 'classifier': 'SVC', 'C': 0.15217650086812523, 'kernel': 'rbf', 'gamma': 'auto'}, distributions={'StandardScaler': IntUniformDistribution(high=1, low=0, step=1), 'test size': DiscreteUniformDistribution(high=0.4, low=0.1, q=0.1), 'classifier': CategoricalDistribution(choices=('SVC', 'MLP')), 'C': LogUniformDistribution(high=1.0, low=1e-10), 'kernel': CategoricalDistribution(choices=('rbf', 'sigmoid')), 'gamma': CategoricalDistribution(choices=('auto', 'scale'))}, user_attrs={}, system_attrs={'nsga2:generation': 1, 'nsga2:parents': [24, 24]}, intermediate_values={}, trial_id=54, state=TrialState.COMPLETE, value=None),\n",
              " FrozenTrial(number=58, values=[0.9446637678165102, 0.9446969696969697], datetime_start=datetime.datetime(2021, 12, 2, 18, 54, 0, 351453), datetime_complete=datetime.datetime(2021, 12, 2, 18, 54, 4, 391997), params={'StandardScaler': 1, 'test size': 0.30000000000000004, 'classifier': 'SVC', 'C': 0.7214566634713006, 'kernel': 'rbf', 'gamma': 'auto'}, distributions={'StandardScaler': IntUniformDistribution(high=1, low=0, step=1), 'test size': DiscreteUniformDistribution(high=0.4, low=0.1, q=0.1), 'classifier': CategoricalDistribution(choices=('SVC', 'MLP')), 'C': LogUniformDistribution(high=1.0, low=1e-10), 'kernel': CategoricalDistribution(choices=('rbf', 'sigmoid')), 'gamma': CategoricalDistribution(choices=('auto', 'scale'))}, user_attrs={}, system_attrs={'nsga2:generation': 1, 'nsga2:parents': [42, 25]}, intermediate_values={}, trial_id=58, state=TrialState.COMPLETE, value=None)]"
            ]
          },
          "metadata": {},
          "execution_count": 56
        }
      ]
    },
    {
      "cell_type": "markdown",
      "metadata": {
        "id": "b7dSkdImmPJd"
      },
      "source": [
        "##Graph Functions"
      ]
    },
    {
      "cell_type": "markdown",
      "metadata": {
        "id": "tysaHok4mR49"
      },
      "source": [
        "###Discreet parameters"
      ]
    },
    {
      "cell_type": "markdown",
      "metadata": {
        "id": "lw4XkWirpfek"
      },
      "source": [
        "Θα κρίνουμε την επίδραση κάθε παραμέτρου ξεχωριστά με βάση την μέση τιμή των F1 σε όλα τα trials."
      ]
    },
    {
      "cell_type": "code",
      "metadata": {
        "id": "h5pixjM1_zhK"
      },
      "source": [
        "#υπολογίζει τον μέσο όρο για μία μεταβλητή\n",
        "def meansDicreetParams(trials,name,value):\n",
        "  sum = 0\n",
        "  counter = 0\n",
        "  for clf in trials:\n",
        "    if clf.params[name] ==value:\n",
        "        sum = sum + clf.values[0]\n",
        "        counter = counter +1\n",
        "\n",
        "  return (sum/counter)"
      ],
      "execution_count": 15,
      "outputs": []
    },
    {
      "cell_type": "code",
      "metadata": {
        "id": "2OFEOXtnDe0z"
      },
      "source": [
        "# του παρέχουμε σε ένα λεξικό με  τις παραμέτους ως κλειδιά και μία λίστα με τις δυνατές τιμές του.\n",
        "def BarPlotDicreetParams(DiscreetDict,list):\n",
        "  fig, axes = plt.subplots(1,len(DiscreetDict),figsize=(5*len(DiscreetDict),6) )\n",
        "\n",
        "  for i,key in enumerate(DiscreetDict):\n",
        "    axes[i].tick_params(axis='x', rotation=45)\n",
        "    axes[i].set_title(key)\n",
        "    f1_averages =[]\n",
        "    for paramValue in DiscreetDict[key]:  \n",
        "      f1_averages.append(meansDicreetParams(list,key,paramValue))\n",
        "      print(\"for parameter :\",key,\" value :\",paramValue, \" mean f1 score: \",meansDicreetParams(list,key,paramValue))\n",
        "\n",
        "    axes[i].bar(DiscreetDict[key], f1_averages)\n",
        "      \n",
        "\n",
        "  plt.show()"
      ],
      "execution_count": 40,
      "outputs": []
    },
    {
      "cell_type": "markdown",
      "metadata": {
        "id": "718dIghSmUWv"
      },
      "source": [
        "###Continuous parameters"
      ]
    },
    {
      "cell_type": "code",
      "metadata": {
        "id": "1rsy-WK3lw_N"
      },
      "source": [
        "#επειδή δεν μπορούμε να έχουμε λίστα με όλες τις τιμές θα κάνουμε scatterplot\n",
        "def ContinuousVariable(ClfList,paramName,logUniform=True): \n",
        "  values = []\n",
        "  f1_scores = []\n",
        "\n",
        "  for clf in ClfList:\n",
        "    values.append(clf.params[paramName])\n",
        "    f1_scores.append(clf.values[0])\n",
        "\n",
        "  fig, ax = plt.subplots(figsize=(20,6))\n",
        "  ax.scatter(values, f1_scores)\n",
        "  if logUniform:\n",
        "    ax.set_xscale('log')\n",
        "  ax.set_title('Simple plot')"
      ],
      "execution_count": 42,
      "outputs": []
    },
    {
      "cell_type": "markdown",
      "metadata": {
        "id": "1AHtdZxMmaC-"
      },
      "source": [
        "##MLP"
      ]
    },
    {
      "cell_type": "code",
      "metadata": {
        "colab": {
          "base_uri": "https://localhost:8080/",
          "height": 564
        },
        "id": "91E-eOHElsvr",
        "outputId": "08431a9a-0427-43bc-c437-30c7d72eaeb7"
      },
      "source": [
        "DicreetParamsMLP ={'StandardScaler':[0,1],\n",
        "                'solver':['sgd','adam'],\n",
        "                'activation':['logistic','tanh','relu'],\n",
        "                'learning_rate':['constant','adaptive']}\n",
        "\n",
        "BarPlotDicreetParams(DicreetParamsMLP,MLPs)"
      ],
      "execution_count": 41,
      "outputs": [
        {
          "output_type": "stream",
          "name": "stdout",
          "text": [
            "for parameter : StandardScaler  value : 0  mean f1 score:  0.6066255508206432\n",
            "for parameter : StandardScaler  value : 1  mean f1 score:  0.9657853735239658\n",
            "for parameter : solver  value : sgd  mean f1 score:  0.8060667006548186\n",
            "for parameter : solver  value : adam  mean f1 score:  0.8774325819092751\n",
            "for parameter : activation  value : logistic  mean f1 score:  0.801617264197081\n",
            "for parameter : activation  value : tanh  mean f1 score:  0.8660551829687806\n",
            "for parameter : activation  value : relu  mean f1 score:  0.8980916924341315\n",
            "for parameter : learning_rate  value : constant  mean f1 score:  0.8583993045201831\n",
            "for parameter : learning_rate  value : adaptive  mean f1 score:  0.8508960675041652\n"
          ]
        },
        {
          "output_type": "display_data",
          "data": {
            "image/png": "[encoded data removed]",
            "text/plain": [
              "<Figure size 1440x432 with 4 Axes>"
            ]
          },
          "metadata": {
            "needs_background": "light"
          }
        }
      ]
    },
    {
      "cell_type": "markdown",
      "metadata": {
        "id": "djohGZKwqM7t"
      },
      "source": [
        "Βλέπουμε ότι το Standard Scaler είναι αραπαίτητο, ενώ με σχετικά μιρκή διαφορά υπερτερούν τα \n",
        "\n",
        "solver = adam\n",
        "\n",
        "activation = relu\n",
        "\n",
        "ενώ το learning rate είναι σχετικά το ίδιο."
      ]
    },
    {
      "cell_type": "code",
      "metadata": {
        "colab": {
          "base_uri": "https://localhost:8080/",
          "height": 414
        },
        "id": "VYVeJiCgKrv1",
        "outputId": "8d82091c-bb28-4b58-81b2-8e78be652b54"
      },
      "source": [
        "ContinuousVariable(MLPs,'alpha')"
      ],
      "execution_count": 38,
      "outputs": [
        {
          "output_type": "display_data",
          "data": {
            "image/png": "[encoded data removed]",
            "text/plain": [
              "<Figure size 1440x432 with 1 Axes>"
            ]
          },
          "metadata": {
            "needs_background": "light"
          }
        }
      ]
    },
    {
      "cell_type": "markdown",
      "metadata": {
        "id": "P2nupNv1qkiU"
      },
      "source": [
        "Τέλος η τιμή για το alpha δεν παίζει ιδιαίτερο ρόλο."
      ]
    },
    {
      "cell_type": "markdown",
      "metadata": {
        "id": "V1orCawsmbsu"
      },
      "source": [
        "##SVC"
      ]
    },
    {
      "cell_type": "code",
      "metadata": {
        "colab": {
          "base_uri": "https://localhost:8080/",
          "height": 519
        },
        "id": "cK2UwS7HMjB-",
        "outputId": "552b05da-40aa-4c9a-872e-509df6b21dc5"
      },
      "source": [
        "DicreetParamsSVC = {\n",
        "    'StandardScaler':[0,1],\n",
        "    'kernel':['rbf','sigmoid'],\n",
        "    'gamma':['auto','scale']\n",
        "}\n",
        "BarPlotDicreetParams(DicreetParamsSVC,SVCs)"
      ],
      "execution_count": 48,
      "outputs": [
        {
          "output_type": "stream",
          "name": "stdout",
          "text": [
            "for parameter : StandardScaler  value : 0  mean f1 score:  0.36825891303847297\n",
            "for parameter : StandardScaler  value : 1  mean f1 score:  0.6311207241813721\n",
            "for parameter : kernel  value : rbf  mean f1 score:  0.5265838114688783\n",
            "for parameter : kernel  value : sigmoid  mean f1 score:  0.5149579118329163\n",
            "for parameter : gamma  value : auto  mean f1 score:  0.5688786527580704\n",
            "for parameter : gamma  value : scale  mean f1 score:  0.4684342550236522\n"
          ]
        },
        {
          "output_type": "display_data",
          "data": {
            "image/png": "[encoded data removed]",
            "text/plain": [
              "<Figure size 1080x432 with 3 Axes>"
            ]
          },
          "metadata": {
            "needs_background": "light"
          }
        }
      ]
    },
    {
      "cell_type": "markdown",
      "metadata": {
        "id": "DXT_nJSMq2H9"
      },
      "source": [
        "Ξαναβλέπουμε την σημασία του Standard Scaler, ενώ για kernel έχουμε rbf και gamma auto."
      ]
    },
    {
      "cell_type": "code",
      "metadata": {
        "colab": {
          "base_uri": "https://localhost:8080/",
          "height": 385
        },
        "id": "XQO5IO8slMiK",
        "outputId": "4d01286e-0fd6-4ef2-8d80-fa1028f2926e"
      },
      "source": [
        "ContinuousVariable(SVCs,'C')"
      ],
      "execution_count": 39,
      "outputs": [
        {
          "output_type": "display_data",
          "data": {
            "image/png": "[encoded data removed]",
            "text/plain": [
              "<Figure size 1440x432 with 1 Axes>"
            ]
          },
          "metadata": {
            "needs_background": "light"
          }
        }
      ]
    },
    {
      "cell_type": "markdown",
      "metadata": {
        "id": "GEmxwAPmrB4L"
      },
      "source": [
        "Ενώ βλέπουμε ότι θέλουμε το C να είναι μεγάλο"
      ]
    },
    {
      "cell_type": "markdown",
      "metadata": {
        "id": "v_cs4RG3rLRg"
      },
      "source": [
        "#Συμπεράσματα"
      ]
    },
    {
      "cell_type": "markdown",
      "metadata": {
        "id": "wyKv6dVkrNWe"
      },
      "source": [
        "Σε κάθε περίπρωση, ο ταξινομητής MLP είναι αρκεα καλύτερος για αυτό το dataset. Βλέπουμε ότι και στους δύο, είναι πολύ χρήσιμο το preprocessing, με το SMOTE και Standard Scaler, να κάνουν την μεγαλύτερη διαφορά."
      ]
    }
  ]
}